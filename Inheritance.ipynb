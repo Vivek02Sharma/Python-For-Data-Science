{
 "cells": [
  {
   "cell_type": "markdown",
   "id": "eb8a0ac3-1574-4fdc-98a2-cbfe6444de28",
   "metadata": {},
   "source": [
    "**Single Inheritance**"
   ]
  },
  {
   "cell_type": "code",
   "execution_count": 1,
   "id": "c5ee20ca-af1e-492c-813e-cd70deea29e8",
   "metadata": {
    "tags": []
   },
   "outputs": [],
   "source": [
    "class father:\n",
    "    def father_name(self):\n",
    "        self.name = input(\"Enter first name of your father : \")\n",
    "        "
   ]
  },
  {
   "cell_type": "code",
   "execution_count": 2,
   "id": "36448fff-94b5-445a-9be0-12cfe3581af0",
   "metadata": {
    "tags": []
   },
   "outputs": [],
   "source": [
    "class child(father):\n",
    "    \n",
    "    def child_name(self):\n",
    "        fname = input(\"Enter child first name : \")\n",
    "        lname = input(\"Enter child last name : \")\n",
    "        print(f\"My full name is {fname} {self.name} {lname}\")\n",
    "        "
   ]
  },
  {
   "cell_type": "code",
   "execution_count": 3,
   "id": "683458e7-1531-47c0-8c0a-e848be57d1b5",
   "metadata": {
    "tags": []
   },
   "outputs": [],
   "source": [
    "child1 = child()"
   ]
  },
  {
   "cell_type": "code",
   "execution_count": 4,
   "id": "2a6d25f8-48d1-4bf2-a7ad-747709e89afc",
   "metadata": {
    "tags": []
   },
   "outputs": [
    {
     "name": "stdin",
     "output_type": "stream",
     "text": [
      "Enter first name of your father :  ramakant\n"
     ]
    }
   ],
   "source": [
    "child1.father_name()"
   ]
  },
  {
   "cell_type": "code",
   "execution_count": 5,
   "id": "0091d7a1-33f1-4be1-b897-db0e33c2f953",
   "metadata": {
    "tags": []
   },
   "outputs": [
    {
     "name": "stdin",
     "output_type": "stream",
     "text": [
      "Enter child first name :  vivek\n",
      "Enter child last name :  sharma\n"
     ]
    },
    {
     "name": "stdout",
     "output_type": "stream",
     "text": [
      "My full name is vivek ramakant sharma\n"
     ]
    }
   ],
   "source": [
    "child1.child_name()"
   ]
  },
  {
   "cell_type": "markdown",
   "id": "d6048323-648d-401f-8c20-25ba14826dc1",
   "metadata": {},
   "source": [
    "**Multiple Inheritance**"
   ]
  },
  {
   "cell_type": "code",
   "execution_count": 6,
   "id": "d6d4949e-9825-451e-8a88-35f7460de973",
   "metadata": {
    "tags": []
   },
   "outputs": [],
   "source": [
    "class father:\n",
    "    def father_name(self):\n",
    "        self.name = input(\"Enter first name of your father : \")"
   ]
  },
  {
   "cell_type": "code",
   "execution_count": 7,
   "id": "cf1eaf1e-e3c4-4826-b37d-ed5e7b88614e",
   "metadata": {
    "tags": []
   },
   "outputs": [],
   "source": [
    "class mother:\n",
    "    def mother_name(self):\n",
    "        self.mname = input(\"Enter mother's first name : \")"
   ]
  },
  {
   "cell_type": "code",
   "execution_count": 8,
   "id": "c0070a65-df57-48a5-a820-77ba833e8fe8",
   "metadata": {
    "tags": []
   },
   "outputs": [],
   "source": [
    "class child(father,mother):\n",
    "    \n",
    "    def child_name(self):\n",
    "        fname = input(\"Enter child first name : \")\n",
    "        lname = input(\"Enter child last name : \")\n",
    "        print(f\"My full name is {fname} {self.name} {self.mname} {lname}\")\n",
    "        "
   ]
  },
  {
   "cell_type": "code",
   "execution_count": 9,
   "id": "4d8f3f40-4a37-4945-a8be-938afca57a7b",
   "metadata": {
    "tags": []
   },
   "outputs": [],
   "source": [
    "child2 = child()"
   ]
  },
  {
   "cell_type": "code",
   "execution_count": 10,
   "id": "4504d72e-91a0-4c9c-b96d-8c7585bc9bff",
   "metadata": {
    "tags": []
   },
   "outputs": [
    {
     "name": "stdin",
     "output_type": "stream",
     "text": [
      "Enter first name of your father :  ramakant\n"
     ]
    }
   ],
   "source": [
    "child2.father_name()"
   ]
  },
  {
   "cell_type": "code",
   "execution_count": 11,
   "id": "f820c837-a232-4179-af41-bea627ab98af",
   "metadata": {
    "tags": []
   },
   "outputs": [
    {
     "name": "stdin",
     "output_type": "stream",
     "text": [
      "Enter mother's first name :  archana\n"
     ]
    }
   ],
   "source": [
    "child2.mother_name()"
   ]
  },
  {
   "cell_type": "code",
   "execution_count": 12,
   "id": "97eefa68-e74e-439b-b623-249cbd9bc603",
   "metadata": {
    "tags": []
   },
   "outputs": [
    {
     "name": "stdin",
     "output_type": "stream",
     "text": [
      "Enter child first name :  vivek\n",
      "Enter child last name :  sharma\n"
     ]
    },
    {
     "name": "stdout",
     "output_type": "stream",
     "text": [
      "My full name is vivek ramakant archana sharma\n"
     ]
    }
   ],
   "source": [
    "child2.child_name()"
   ]
  },
  {
   "cell_type": "markdown",
   "id": "fe8e6d71-3efd-474b-9284-b4d7e970ada2",
   "metadata": {},
   "source": [
    "**Hierarchical Inheritance**"
   ]
  },
  {
   "cell_type": "code",
   "execution_count": 13,
   "id": "967c605d-f091-4e58-9914-d9fadd466bc6",
   "metadata": {
    "tags": []
   },
   "outputs": [],
   "source": [
    "class a:\n",
    "    def a_for(self):\n",
    "        return \"apple\"\n",
    "    \n",
    "class b:\n",
    "    def b_for(self):\n",
    "        return \"ball\"    "
   ]
  },
  {
   "cell_type": "code",
   "execution_count": 14,
   "id": "ad361b53-0f63-4354-aa6d-c12ebfbae4a8",
   "metadata": {
    "tags": []
   },
   "outputs": [],
   "source": [
    "class c(a,b):\n",
    "    def c_for(self):\n",
    "        return \"cat\""
   ]
  },
  {
   "cell_type": "code",
   "execution_count": 15,
   "id": "0352083a-9dfb-4e2d-bd64-859ab996a53d",
   "metadata": {
    "tags": []
   },
   "outputs": [],
   "source": [
    "obj = c()"
   ]
  },
  {
   "cell_type": "code",
   "execution_count": 16,
   "id": "03c8902a-f884-4774-b7b6-420a35a2506e",
   "metadata": {
    "tags": []
   },
   "outputs": [
    {
     "data": {
      "text/plain": [
       "'apple'"
      ]
     },
     "execution_count": 16,
     "metadata": {},
     "output_type": "execute_result"
    }
   ],
   "source": [
    "obj.a_for()"
   ]
  },
  {
   "cell_type": "code",
   "execution_count": 17,
   "id": "9f0c37b3-f32f-440c-b9fb-57cd0d8bbe33",
   "metadata": {
    "tags": []
   },
   "outputs": [
    {
     "data": {
      "text/plain": [
       "'ball'"
      ]
     },
     "execution_count": 17,
     "metadata": {},
     "output_type": "execute_result"
    }
   ],
   "source": [
    "obj.b_for()"
   ]
  },
  {
   "cell_type": "code",
   "execution_count": 18,
   "id": "388a0ecd-13f4-4c94-99ef-39aec8d1173b",
   "metadata": {
    "tags": []
   },
   "outputs": [
    {
     "data": {
      "text/plain": [
       "'cat'"
      ]
     },
     "execution_count": 18,
     "metadata": {},
     "output_type": "execute_result"
    }
   ],
   "source": [
    "obj.c_for()"
   ]
  },
  {
   "cell_type": "markdown",
   "id": "3863b29a-00ce-4e78-9f3b-33e4477a93f9",
   "metadata": {},
   "source": [
    "**Multi-level Inheritance**"
   ]
  },
  {
   "cell_type": "code",
   "execution_count": 19,
   "id": "801ecda4-81ee-4e0f-a11b-711053c846b5",
   "metadata": {
    "tags": []
   },
   "outputs": [],
   "source": [
    "class super_class:\n",
    "    def print_a(self):\n",
    "        return \"I am supper class\""
   ]
  },
  {
   "cell_type": "code",
   "execution_count": 20,
   "id": "8390ad3b-76f3-4893-823b-dcd5766985f8",
   "metadata": {
    "tags": []
   },
   "outputs": [],
   "source": [
    "class medium_class(super_class):\n",
    "    def print_b(self):\n",
    "        return \"I am medium class\""
   ]
  },
  {
   "cell_type": "code",
   "execution_count": 21,
   "id": "43069e3c-0673-4875-887c-a1590a9ed14f",
   "metadata": {
    "tags": []
   },
   "outputs": [],
   "source": [
    "class lower_class(medium_class):\n",
    "    def print_c(self):\n",
    "        return \"I am lower class\""
   ]
  },
  {
   "cell_type": "code",
   "execution_count": 22,
   "id": "5b3fba9c-b12f-41a9-bb14-c195bbe230e2",
   "metadata": {
    "tags": []
   },
   "outputs": [],
   "source": [
    "c1 = super_class()"
   ]
  },
  {
   "cell_type": "code",
   "execution_count": 23,
   "id": "a6325c3d-9278-48ae-a4d4-0ec94d18baa9",
   "metadata": {
    "tags": []
   },
   "outputs": [
    {
     "data": {
      "text/plain": [
       "'I am supper class'"
      ]
     },
     "execution_count": 23,
     "metadata": {},
     "output_type": "execute_result"
    }
   ],
   "source": [
    "c1.print_a()"
   ]
  },
  {
   "cell_type": "code",
   "execution_count": 24,
   "id": "47e87201-d624-4824-b3a6-b3d2f7c76040",
   "metadata": {
    "tags": []
   },
   "outputs": [],
   "source": [
    "c2 = lower_class()"
   ]
  },
  {
   "cell_type": "code",
   "execution_count": 25,
   "id": "1ae4c8d4-4666-44b4-a54d-c7c5cc2e8c26",
   "metadata": {
    "tags": []
   },
   "outputs": [
    {
     "data": {
      "text/plain": [
       "'I am medium class'"
      ]
     },
     "execution_count": 25,
     "metadata": {},
     "output_type": "execute_result"
    }
   ],
   "source": [
    "c2.print_b()"
   ]
  },
  {
   "cell_type": "code",
   "execution_count": 26,
   "id": "f919d1a3-3ad1-4783-b990-5afa195a746a",
   "metadata": {
    "tags": []
   },
   "outputs": [
    {
     "data": {
      "text/plain": [
       "'I am lower class'"
      ]
     },
     "execution_count": 26,
     "metadata": {},
     "output_type": "execute_result"
    }
   ],
   "source": [
    "c2.print_c()"
   ]
  },
  {
   "cell_type": "code",
   "execution_count": null,
   "id": "1475727a-6627-4075-9b23-20fdf460aa7b",
   "metadata": {},
   "outputs": [],
   "source": []
  }
 ],
 "metadata": {
  "kernelspec": {
   "display_name": "Python 3 (ipykernel)",
   "language": "python",
   "name": "python3"
  },
  "language_info": {
   "codemirror_mode": {
    "name": "ipython",
    "version": 3
   },
   "file_extension": ".py",
   "mimetype": "text/x-python",
   "name": "python",
   "nbconvert_exporter": "python",
   "pygments_lexer": "ipython3",
   "version": "3.10.7"
  }
 },
 "nbformat": 4,
 "nbformat_minor": 5
}
