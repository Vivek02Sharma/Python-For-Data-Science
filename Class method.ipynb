{
 "cells": [
  {
   "cell_type": "markdown",
   "id": "36369568-6a74-4f8c-84c2-b86b7d543229",
   "metadata": {},
   "source": [
    "**Class Method**"
   ]
  },
  {
   "cell_type": "code",
   "execution_count": 1,
   "id": "4c5b0e00-361f-4f95-ae0c-866ccfebf141",
   "metadata": {
    "tags": []
   },
   "outputs": [],
   "source": [
    "class student:\n",
    "    \n",
    "    def __init__(self,name,age):\n",
    "        self.name = name\n",
    "        self.age  = age\n",
    "        \n",
    "    @classmethod\n",
    "    def get_data(cls,name,age):\n",
    "        return cls(name,age)\n",
    "        \n",
    "    def detail(self):\n",
    "        print(f\"My name is {self.name} and I am {self.age} year old\")"
   ]
  },
  {
   "cell_type": "code",
   "execution_count": 2,
   "id": "5dba2098-2443-40ec-a803-c104d919fcf4",
   "metadata": {
    "tags": []
   },
   "outputs": [],
   "source": [
    "s = student.get_data(\"vivek\",19) # variable"
   ]
  },
  {
   "cell_type": "code",
   "execution_count": 3,
   "id": "6470f4e5-e539-4360-8926-dc246bce9c5c",
   "metadata": {
    "tags": []
   },
   "outputs": [
    {
     "data": {
      "text/plain": [
       "'vivek'"
      ]
     },
     "execution_count": 3,
     "metadata": {},
     "output_type": "execute_result"
    }
   ],
   "source": [
    "s.name"
   ]
  },
  {
   "cell_type": "code",
   "execution_count": 4,
   "id": "2d3732e8-80f0-40ea-b5a3-74fedfa5d5fc",
   "metadata": {
    "tags": []
   },
   "outputs": [
    {
     "name": "stdout",
     "output_type": "stream",
     "text": [
      "My name is vivek and I am 19 year old\n"
     ]
    }
   ],
   "source": [
    "s.detail()"
   ]
  },
  {
   "cell_type": "code",
   "execution_count": 5,
   "id": "84ba2951-00e3-497c-8d20-770c69e5f5a0",
   "metadata": {
    "tags": []
   },
   "outputs": [],
   "source": [
    "s1 = student(\"ankit\",20) # object"
   ]
  },
  {
   "cell_type": "code",
   "execution_count": 6,
   "id": "555cec7a-c14f-4e20-a015-d2a3ae24de99",
   "metadata": {
    "tags": []
   },
   "outputs": [
    {
     "name": "stdout",
     "output_type": "stream",
     "text": [
      "My name is ankit and I am 20 year old\n"
     ]
    }
   ],
   "source": [
    "s1.detail()"
   ]
  },
  {
   "cell_type": "code",
   "execution_count": 7,
   "id": "af5c5fc9-d852-4159-b771-f8e24447013b",
   "metadata": {
    "tags": []
   },
   "outputs": [],
   "source": [
    "class person:\n",
    "    mobile_no = 1122334455\n",
    "    \n",
    "    def __init__(self,name,age,salary):\n",
    "        self.name = name\n",
    "        self.age = age\n",
    "        self.salary = salary\n",
    "   \n",
    "    @classmethod\n",
    "    def change_number(cls,mobile):\n",
    "        person.mobile_no = mobile\n",
    "        \n",
    "    @classmethod   \n",
    "    def set_data(cls,name,age,salary):\n",
    "        return cls(name,age,salary)\n",
    "        \n",
    "    def details(self):\n",
    "        print(f\"Name : {self.name}\\nAge : {self.age}\\nSalary : {self.salary}\\nMobile Number : {person.mobile_no}\")"
   ]
  },
  {
   "cell_type": "code",
   "execution_count": 8,
   "id": "660c969a-c490-4873-b645-afb8f695844c",
   "metadata": {
    "tags": []
   },
   "outputs": [],
   "source": [
    "person.change_number(7783736468)"
   ]
  },
  {
   "cell_type": "code",
   "execution_count": 9,
   "id": "1611bf4d-c318-43af-95b4-1ac72da7f3a7",
   "metadata": {
    "tags": []
   },
   "outputs": [
    {
     "data": {
      "text/plain": [
       "7783736468"
      ]
     },
     "execution_count": 9,
     "metadata": {},
     "output_type": "execute_result"
    }
   ],
   "source": [
    "person.mobile_no"
   ]
  },
  {
   "cell_type": "code",
   "execution_count": 10,
   "id": "bcf00db0-0806-4262-948a-517ddf3befbf",
   "metadata": {
    "tags": []
   },
   "outputs": [],
   "source": [
    "p = person.set_data(\"Vivek\",19,181872) "
   ]
  },
  {
   "cell_type": "code",
   "execution_count": 11,
   "id": "fd4a4cfb-85a6-4efc-a223-635f2dc51d1c",
   "metadata": {
    "tags": []
   },
   "outputs": [
    {
     "data": {
      "text/plain": [
       "'Vivek'"
      ]
     },
     "execution_count": 11,
     "metadata": {},
     "output_type": "execute_result"
    }
   ],
   "source": [
    "p.name"
   ]
  },
  {
   "cell_type": "code",
   "execution_count": 12,
   "id": "ec4ced47-6826-4cbb-abef-a257b39de360",
   "metadata": {
    "tags": []
   },
   "outputs": [
    {
     "data": {
      "text/plain": [
       "19"
      ]
     },
     "execution_count": 12,
     "metadata": {},
     "output_type": "execute_result"
    }
   ],
   "source": [
    "p.age"
   ]
  },
  {
   "cell_type": "code",
   "execution_count": 13,
   "id": "01f76644-992f-4dee-a601-863d0015159d",
   "metadata": {
    "tags": []
   },
   "outputs": [
    {
     "data": {
      "text/plain": [
       "7783736468"
      ]
     },
     "execution_count": 13,
     "metadata": {},
     "output_type": "execute_result"
    }
   ],
   "source": [
    "p.mobile_no"
   ]
  },
  {
   "cell_type": "code",
   "execution_count": 14,
   "id": "5f06df61-6d65-4b15-804e-7fec11e0f33e",
   "metadata": {
    "tags": []
   },
   "outputs": [
    {
     "name": "stdout",
     "output_type": "stream",
     "text": [
      "Name : Vivek\n",
      "Age : 19\n",
      "Salary : 181872\n",
      "Mobile Number : 7783736468\n"
     ]
    }
   ],
   "source": [
    "p.details()"
   ]
  },
  {
   "cell_type": "markdown",
   "id": "6be1eaa8-28a7-407d-9e01-f52f1748740b",
   "metadata": {},
   "source": [
    "**Below method is used to add external function to class**"
   ]
  },
  {
   "cell_type": "code",
   "execution_count": 15,
   "id": "18fee50c-9a6b-4e4c-b68d-d0716ea7a186",
   "metadata": {
    "tags": []
   },
   "outputs": [],
   "source": [
    "def job(cls,job_name):\n",
    "    print(\"Job name is \",job_name)"
   ]
  },
  {
   "cell_type": "code",
   "execution_count": 16,
   "id": "f9cff0ae-f547-4092-a38b-6c06c515c810",
   "metadata": {
    "tags": []
   },
   "outputs": [],
   "source": [
    "person.job = classmethod(job) # now it is a class member function"
   ]
  },
  {
   "cell_type": "code",
   "execution_count": 17,
   "id": "4734c8f2-1a02-4883-8ab9-1998091ae8d3",
   "metadata": {
    "tags": []
   },
   "outputs": [
    {
     "name": "stdout",
     "output_type": "stream",
     "text": [
      "Job name is  Data Scientist\n"
     ]
    }
   ],
   "source": [
    "p.job(\"Data Scientist\")"
   ]
  },
  {
   "cell_type": "code",
   "execution_count": null,
   "id": "865a5f40-b9d3-48a8-a266-a93f8294b79a",
   "metadata": {},
   "outputs": [],
   "source": []
  }
 ],
 "metadata": {
  "kernelspec": {
   "display_name": "Python 3 (ipykernel)",
   "language": "python",
   "name": "python3"
  },
  "language_info": {
   "codemirror_mode": {
    "name": "ipython",
    "version": 3
   },
   "file_extension": ".py",
   "mimetype": "text/x-python",
   "name": "python",
   "nbconvert_exporter": "python",
   "pygments_lexer": "ipython3",
   "version": "3.10.7"
  }
 },
 "nbformat": 4,
 "nbformat_minor": 5
}
