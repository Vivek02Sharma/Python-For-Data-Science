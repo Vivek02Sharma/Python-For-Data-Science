{
 "cells": [
  {
   "cell_type": "markdown",
   "id": "b1ab7f18-6429-498b-ab30-4c7c38b34b5e",
   "metadata": {},
   "source": [
    "**Encapsulation**"
   ]
  },
  {
   "cell_type": "code",
   "execution_count": 1,
   "id": "fdc9a943-2687-4fe3-98aa-a8a0bafaeafa",
   "metadata": {
    "tags": []
   },
   "outputs": [],
   "source": [
    "class bank_account:\n",
    "    def __init__(self,balance):\n",
    "        self.__bank_name = \"SBI\"\n",
    "        self.__account_no = 1122334455\n",
    "        self.__username = \"Vivek Ramakant sharma\"\n",
    "        self.__balance = balance\n",
    "    \n",
    "    def account_details(self,):\n",
    "        print(f\"Bank : {self.__bank_name}\\nName : {self.__username}\\nA/C No : {self.__account_no}\\nAccount Balance : {self.__balance}Rs.\")\n",
    "        \n",
    "    def deposit_money(self,amount):\n",
    "        self.__balance = self.__balance + amount\n",
    "        print(f\"Hi,\\n{self.__username}.In your {self.__bank_name} bank, A/C {self.__account_no} credited by Rs.{amount} and \\nTotal available balance is {self.__balance}\")\n",
    "        \n",
    "    def debited_money(self,debit):\n",
    "        if self.__balance < debit:\n",
    "            print(\"Check your account balance\")\n",
    "        else:\n",
    "            self.__balance = self.__balance - debit\n",
    "            print(f\"Hi,\\n{self.__username}. In your {self.__bank_name} bank, A/C {self.__account_no} debited by Rs.{debit} and \\nTotal available balance is {self.__balance}\")"
   ]
  },
  {
   "cell_type": "code",
   "execution_count": 2,
   "id": "4e56d081-ce09-430a-bad5-fa6c2437803d",
   "metadata": {
    "tags": []
   },
   "outputs": [],
   "source": [
    "vivek = bank_account(10000)"
   ]
  },
  {
   "cell_type": "code",
   "execution_count": 3,
   "id": "3409d208-31af-4f6d-8276-d3a35dc3a3a5",
   "metadata": {
    "tags": []
   },
   "outputs": [
    {
     "name": "stdout",
     "output_type": "stream",
     "text": [
      "Bank : SBI\n",
      "Name : Vivek Ramakant sharma\n",
      "A/C No : 1122334455\n",
      "Account Balance : 10000Rs.\n"
     ]
    }
   ],
   "source": [
    "vivek.account_details()"
   ]
  },
  {
   "cell_type": "code",
   "execution_count": 4,
   "id": "6b309b72-5580-4fca-aa12-2c85297ff712",
   "metadata": {
    "tags": []
   },
   "outputs": [
    {
     "name": "stdout",
     "output_type": "stream",
     "text": [
      "Hi,\n",
      "Vivek Ramakant sharma.In your SBI bank, A/C 1122334455 credited by Rs.5000 and \n",
      "Total available balance is 15000\n"
     ]
    }
   ],
   "source": [
    "vivek.deposit_money(5000)"
   ]
  },
  {
   "cell_type": "code",
   "execution_count": 5,
   "id": "a99cf494-815a-4dfa-ac44-9733616f315e",
   "metadata": {
    "tags": []
   },
   "outputs": [
    {
     "name": "stdout",
     "output_type": "stream",
     "text": [
      "Check your account balance\n"
     ]
    }
   ],
   "source": [
    "vivek.debited_money(21000)"
   ]
  },
  {
   "cell_type": "code",
   "execution_count": 6,
   "id": "beb579dd-66ac-43af-a712-0a02a515d573",
   "metadata": {
    "tags": []
   },
   "outputs": [
    {
     "name": "stdout",
     "output_type": "stream",
     "text": [
      "Hi,\n",
      "Vivek Ramakant sharma. In your SBI bank, A/C 1122334455 debited by Rs.2000 and \n",
      "Total available balance is 13000\n"
     ]
    }
   ],
   "source": [
    "vivek.debited_money(2000)"
   ]
  },
  {
   "cell_type": "code",
   "execution_count": null,
   "id": "94962514-b53d-41f8-bfd1-246048b6bada",
   "metadata": {},
   "outputs": [],
   "source": []
  }
 ],
 "metadata": {
  "kernelspec": {
   "display_name": "Python 3 (ipykernel)",
   "language": "python",
   "name": "python3"
  },
  "language_info": {
   "codemirror_mode": {
    "name": "ipython",
    "version": 3
   },
   "file_extension": ".py",
   "mimetype": "text/x-python",
   "name": "python",
   "nbconvert_exporter": "python",
   "pygments_lexer": "ipython3",
   "version": "3.10.7"
  }
 },
 "nbformat": 4,
 "nbformat_minor": 5
}
