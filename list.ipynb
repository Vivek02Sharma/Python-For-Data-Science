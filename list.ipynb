{
 "cells": [
  {
   "cell_type": "markdown",
   "id": "0ec48f8b-d074-43b8-9a0a-86fcdd36ab40",
   "metadata": {},
   "source": [
    "**List**"
   ]
  },
  {
   "cell_type": "code",
   "execution_count": 1,
   "id": "2d64825c-9750-437b-baf2-0aeee4f1e6e1",
   "metadata": {
    "tags": []
   },
   "outputs": [],
   "source": [
    "l1 = [1,2,7,4,6,5,6,9,4,3,6,3]"
   ]
  },
  {
   "cell_type": "code",
   "execution_count": 2,
   "id": "e07bf492-5335-46df-a3f5-b81e52832866",
   "metadata": {
    "tags": []
   },
   "outputs": [
    {
     "name": "stdout",
     "output_type": "stream",
     "text": [
      "1\n",
      "2\n",
      "7\n",
      "4\n",
      "6\n",
      "5\n",
      "6\n",
      "9\n",
      "4\n",
      "3\n",
      "6\n",
      "3\n"
     ]
    }
   ],
   "source": [
    "for i in l1:\n",
    "    print(i)"
   ]
  },
  {
   "cell_type": "code",
   "execution_count": 3,
   "id": "618183c0-aaac-4354-bb75-f7018134f3dc",
   "metadata": {
    "tags": []
   },
   "outputs": [
    {
     "name": "stdout",
     "output_type": "stream",
     "text": [
      "1\n",
      "4\n",
      "49\n",
      "16\n",
      "36\n",
      "25\n",
      "36\n",
      "81\n",
      "16\n",
      "9\n",
      "36\n",
      "9\n"
     ]
    }
   ],
   "source": [
    "for i in l1:    # square of the element contain in list\n",
    "    print(i*i)"
   ]
  },
  {
   "cell_type": "code",
   "execution_count": 4,
   "id": "51117edc-68e7-4462-bbc8-0a125148ff7d",
   "metadata": {
    "tags": []
   },
   "outputs": [
    {
     "data": {
      "text/plain": [
       "[1, 2, 7, 4, 6, 5, 6, 9, 4, 3, 6, 3]"
      ]
     },
     "execution_count": 4,
     "metadata": {},
     "output_type": "execute_result"
    }
   ],
   "source": [
    "lst = l1.copy()\n",
    "lst"
   ]
  },
  {
   "cell_type": "code",
   "execution_count": 5,
   "id": "e41f15d0-abf4-484a-ab1f-79efaac570da",
   "metadata": {
    "tags": []
   },
   "outputs": [
    {
     "name": "stdout",
     "output_type": "stream",
     "text": [
      "12\n",
      "12\n"
     ]
    }
   ],
   "source": [
    "print(len(l1))\n",
    "print(len(lst))"
   ]
  },
  {
   "cell_type": "code",
   "execution_count": 6,
   "id": "a9c53630-4fce-439e-8149-35d36dd00cab",
   "metadata": {
    "tags": []
   },
   "outputs": [
    {
     "data": {
      "text/plain": [
       "3"
      ]
     },
     "execution_count": 6,
     "metadata": {},
     "output_type": "execute_result"
    }
   ],
   "source": [
    "l1.count(6)"
   ]
  },
  {
   "cell_type": "code",
   "execution_count": 7,
   "id": "3596c6dd-a25f-4405-acd8-210ce94df959",
   "metadata": {
    "tags": []
   },
   "outputs": [
    {
     "data": {
      "text/plain": [
       "[1, 2, 7, 4, 6, 5, 6, 9, 4, 3, 6, 3, 100]"
      ]
     },
     "execution_count": 7,
     "metadata": {},
     "output_type": "execute_result"
    }
   ],
   "source": [
    "l1.append(100)\n",
    "l1"
   ]
  },
  {
   "cell_type": "code",
   "execution_count": 8,
   "id": "b4da3c26-0c6c-4c2a-9d21-6bd2564d0961",
   "metadata": {
    "tags": []
   },
   "outputs": [
    {
     "data": {
      "text/plain": [
       "[1, 2, 7, 4, 6, 5, 6, 9, 4, 3, 6, 3, 100, 200, 300, 400, 500]"
      ]
     },
     "execution_count": 8,
     "metadata": {},
     "output_type": "execute_result"
    }
   ],
   "source": [
    "l2 = [200,300,400,500]\n",
    "l1.extend(l2)\n",
    "l1"
   ]
  },
  {
   "cell_type": "code",
   "execution_count": 9,
   "id": "79c5ee4c-9637-4046-a7ec-2c6961bedafc",
   "metadata": {
    "tags": []
   },
   "outputs": [
    {
     "data": {
      "text/plain": [
       "[600, 1, 2, 7, 4, 6, 5, 6, 9, 4, 3, 6, 3, 100, 200, 300, 400, 500]"
      ]
     },
     "execution_count": 9,
     "metadata": {},
     "output_type": "execute_result"
    }
   ],
   "source": [
    "l1.insert(0,600)\n",
    "l1"
   ]
  },
  {
   "cell_type": "code",
   "execution_count": 10,
   "id": "38806ff6-e11e-4a1f-863a-3d50589f6d84",
   "metadata": {
    "tags": []
   },
   "outputs": [
    {
     "data": {
      "text/plain": [
       "13"
      ]
     },
     "execution_count": 10,
     "metadata": {},
     "output_type": "execute_result"
    }
   ],
   "source": [
    "l1.index(100)"
   ]
  },
  {
   "cell_type": "code",
   "execution_count": 11,
   "id": "a261064a-b077-4628-94b2-e87e439bdbbd",
   "metadata": {
    "tags": []
   },
   "outputs": [
    {
     "data": {
      "text/plain": [
       "[1, 2, 7, 4, 6, 5, 6, 9, 4, 3, 6, 3, 100, 200, 300, 400, 500]"
      ]
     },
     "execution_count": 11,
     "metadata": {},
     "output_type": "execute_result"
    }
   ],
   "source": [
    "l1.pop(0)\n",
    "l1"
   ]
  },
  {
   "cell_type": "code",
   "execution_count": 12,
   "id": "5c972c74-4156-40c9-a228-fe8ab70f78c1",
   "metadata": {
    "tags": []
   },
   "outputs": [
    {
     "data": {
      "text/plain": [
       "[1, 2, 7, 4, 6, 5, 6, 9, 4, 3, 6, 3, 100, 200, 300, 400]"
      ]
     },
     "execution_count": 12,
     "metadata": {},
     "output_type": "execute_result"
    }
   ],
   "source": [
    "l1.pop() # without index it will remove last element of the list\n",
    "l1"
   ]
  },
  {
   "cell_type": "code",
   "execution_count": 13,
   "id": "d769eab3-7e46-4843-b2e1-460526221065",
   "metadata": {
    "tags": []
   },
   "outputs": [
    {
     "data": {
      "text/plain": [
       "['d', 'c', 'b', 'a']"
      ]
     },
     "execution_count": 13,
     "metadata": {},
     "output_type": "execute_result"
    }
   ],
   "source": [
    "lst = ['a','b','c','d']\n",
    "lst.reverse()\n",
    "lst"
   ]
  },
  {
   "cell_type": "code",
   "execution_count": 14,
   "id": "285723c1-bff1-4434-a5ab-84d742123c52",
   "metadata": {
    "tags": []
   },
   "outputs": [
    {
     "data": {
      "text/plain": [
       "['a', 'b', 'c', 'd', 'e']"
      ]
     },
     "execution_count": 14,
     "metadata": {},
     "output_type": "execute_result"
    }
   ],
   "source": [
    "lst = ['a','d','b','e','c']\n",
    "lst.sort() # ascending order\n",
    "lst"
   ]
  },
  {
   "cell_type": "code",
   "execution_count": 15,
   "id": "406a9b39-a78a-4e4a-8d5b-0f728278bbee",
   "metadata": {
    "tags": []
   },
   "outputs": [
    {
     "data": {
      "text/plain": [
       "['e', 'd', 'c', 'b', 'a']"
      ]
     },
     "execution_count": 15,
     "metadata": {},
     "output_type": "execute_result"
    }
   ],
   "source": [
    "lst.sort(reverse=True) # descending order\n",
    "lst"
   ]
  },
  {
   "cell_type": "code",
   "execution_count": 16,
   "id": "7820c14d-ce22-4708-b3ae-ee3127114699",
   "metadata": {},
   "outputs": [],
   "source": [
    "str = \"naam\""
   ]
  },
  {
   "cell_type": "code",
   "execution_count": 17,
   "id": "9051cd00-0a32-47b8-b0fd-f0282833be4e",
   "metadata": {
    "tags": []
   },
   "outputs": [
    {
     "data": {
      "text/plain": [
       "'kaam'"
      ]
     },
     "execution_count": 17,
     "metadata": {},
     "output_type": "execute_result"
    }
   ],
   "source": [
    "str.replace(\"n\",\"k\") # string is not mutable"
   ]
  },
  {
   "cell_type": "code",
   "execution_count": 18,
   "id": "c41999d7-a9bd-45d9-baf6-c9fe5ffc61aa",
   "metadata": {
    "tags": []
   },
   "outputs": [
    {
     "data": {
      "text/plain": [
       "'naam'"
      ]
     },
     "execution_count": 18,
     "metadata": {},
     "output_type": "execute_result"
    }
   ],
   "source": [
    "str"
   ]
  },
  {
   "cell_type": "code",
   "execution_count": null,
   "id": "2a79a9b2-0244-48e6-b2e5-143468426b7c",
   "metadata": {},
   "outputs": [],
   "source": []
  }
 ],
 "metadata": {
  "kernelspec": {
   "display_name": "Python 3 (ipykernel)",
   "language": "python",
   "name": "python3"
  },
  "language_info": {
   "codemirror_mode": {
    "name": "ipython",
    "version": 3
   },
   "file_extension": ".py",
   "mimetype": "text/x-python",
   "name": "python",
   "nbconvert_exporter": "python",
   "pygments_lexer": "ipython3",
   "version": "3.10.7"
  }
 },
 "nbformat": 4,
 "nbformat_minor": 5
}
