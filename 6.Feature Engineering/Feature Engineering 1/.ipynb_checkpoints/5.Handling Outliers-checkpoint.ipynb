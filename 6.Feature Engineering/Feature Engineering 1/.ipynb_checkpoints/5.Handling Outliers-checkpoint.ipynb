{
 "cells": [
  {
   "cell_type": "markdown",
   "id": "fb7df4cc-d218-4d8e-988b-4fcdf06f862a",
   "metadata": {},
   "source": [
    "## Handling Outliers\n",
    "1.Minimum value<br>\n",
    "2.Q1 - 25 percentile<br>\n",
    "3.Median<br>\n",
    "4.Q3 - 75 percentile<br>\n",
    "5.Maximum<br>"
   ]
  },
  {
   "cell_type": "code",
   "execution_count": 1,
   "id": "6fc0ba05-7a61-49cf-bfaa-1f77a266427b",
   "metadata": {},
   "outputs": [],
   "source": [
    "import numpy as np"
   ]
  },
  {
   "cell_type": "code",
   "execution_count": 2,
   "id": "dfd31da8-affe-4bc5-b19c-567758151f19",
   "metadata": {},
   "outputs": [],
   "source": [
    "l_marks = [32,34,36,38,40,42,44,46,48,50,67,89,96,98,74,89,68,1100,1000]"
   ]
  },
  {
   "cell_type": "code",
   "execution_count": 3,
   "id": "aaa4132e-e1be-4a0e-aebf-8bd0591cc6a1",
   "metadata": {},
   "outputs": [],
   "source": [
    "## [Lower fence >--------< Higher fence]"
   ]
  },
  {
   "cell_type": "code",
   "execution_count": 4,
   "id": "9ec5d297-597e-4060-8208-81e98fb66a8f",
   "metadata": {},
   "outputs": [
    {
     "name": "stdout",
     "output_type": "stream",
     "text": [
      "[32.] [41.] [50.] [89.] [1100.]\n"
     ]
    }
   ],
   "source": [
    "Min = np.percentile(l_marks,[0])\n",
    "Q1 = np.percentile(l_marks,[25])\n",
    "Q2 = np.percentile(l_marks,[50])\n",
    "Q3 = np.percentile(l_marks,[75])\n",
    "Max = np.percentile(l_marks,[100])\n",
    "print(Min,Q1,Q2,Q3,Max)"
   ]
  },
  {
   "cell_type": "code",
   "execution_count": 5,
   "id": "5e2e9d25-e090-4fc1-bdc0-81a8126eeebe",
   "metadata": {},
   "outputs": [
    {
     "name": "stdout",
     "output_type": "stream",
     "text": [
      "32.0 41.0 50.0 89.0 1100.0\n"
     ]
    }
   ],
   "source": [
    "## easy way to find percentile\n",
    "Min,Q1,Q2,Q3,Max = np.quantile(l_marks,[0,0.25,0.50,0.75,1.00])\n",
    "print(Min,Q1,Q2,Q3,Max)"
   ]
  },
  {
   "cell_type": "markdown",
   "id": "1f1c34fd-4d58-46b3-a5be-0c329a2754c9",
   "metadata": {},
   "source": [
    "###### What is IQR ?.<br>IQR stands for Interquartile Range.The IQR is a measure of statistical dispersion, which represents the range between the first quartile (Q1) and the third quartile (Q3) of a dataset. Quartiles are values that divide a dataset into four equal parts, each containing 25% of the data. The formula to calculate the IQR is:\n",
    "###### IQR = Q3 - Q1<br>1.Lower fence = Q1 - 1.5 * IQR<br>2.Upper fence = Q3 + 1.5 * IQR"
   ]
  },
  {
   "cell_type": "code",
   "execution_count": 6,
   "id": "56cd6366-889d-47d9-bfe4-77f3407486e5",
   "metadata": {},
   "outputs": [
    {
     "data": {
      "text/plain": [
       "48.0"
      ]
     },
     "execution_count": 6,
     "metadata": {},
     "output_type": "execute_result"
    }
   ],
   "source": [
    "## first  have to calculate IQR Interquartile Range to find the lower fence and higher fence\n",
    "IQR = Q3 - Q1\n",
    "IQR"
   ]
  },
  {
   "cell_type": "code",
   "execution_count": 7,
   "id": "0cfec550-0d33-4b0e-b4cd-347bbb0ea50c",
   "metadata": {},
   "outputs": [],
   "source": [
    "## Now we have to find the lower fence and higher fence\n",
    "lower_fence = Q1 - 1.5 * (IQR)\n",
    "higher_fence = Q1 + 1.5 * (IQR)"
   ]
  },
  {
   "cell_type": "code",
   "execution_count": 8,
   "id": "c2075ed0-90cf-459a-88ad-07ae8a90a3bf",
   "metadata": {},
   "outputs": [
    {
     "data": {
      "text/plain": [
       "(-31.0, 113.0)"
      ]
     },
     "execution_count": 8,
     "metadata": {},
     "output_type": "execute_result"
    }
   ],
   "source": [
    "## in list if the value <= lower_fence or value >= higher_fence then it is outliers\n",
    "lower_fence,higher_fence"
   ]
  },
  {
   "cell_type": "code",
   "execution_count": 9,
   "id": "da820bdd-8608-400f-853f-db44cc2b84d9",
   "metadata": {},
   "outputs": [],
   "source": [
    "## finding outliers\n",
    "outliers = []\n",
    "for i in l_marks:\n",
    "    if i<=-31.0 or i>=113.0:\n",
    "        outliers.append(i)"
   ]
  },
  {
   "cell_type": "code",
   "execution_count": 10,
   "id": "949bc87e-04bf-4170-8d62-0f6143e69a77",
   "metadata": {},
   "outputs": [
    {
     "data": {
      "text/plain": [
       "[1100, 1000]"
      ]
     },
     "execution_count": 10,
     "metadata": {},
     "output_type": "execute_result"
    }
   ],
   "source": [
    "outliers"
   ]
  },
  {
   "cell_type": "code",
   "execution_count": null,
   "id": "72b932a1-93b6-4c05-a93e-9c5b99e342c9",
   "metadata": {},
   "outputs": [],
   "source": []
  }
 ],
 "metadata": {
  "kernelspec": {
   "display_name": "Python 3 (ipykernel)",
   "language": "python",
   "name": "python3"
  },
  "language_info": {
   "codemirror_mode": {
    "name": "ipython",
    "version": 3
   },
   "file_extension": ".py",
   "mimetype": "text/x-python",
   "name": "python",
   "nbconvert_exporter": "python",
   "pygments_lexer": "ipython3",
   "version": "3.10.6"
  }
 },
 "nbformat": 4,
 "nbformat_minor": 5
}
