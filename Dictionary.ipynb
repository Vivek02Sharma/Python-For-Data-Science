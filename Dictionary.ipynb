{
 "cells": [
  {
   "cell_type": "markdown",
   "id": "8622f766-e62f-4e67-bc6e-842a94601f98",
   "metadata": {},
   "source": [
    "**Dictionary**"
   ]
  },
  {
   "cell_type": "code",
   "execution_count": 1,
   "id": "7ed75231-19ee-40ad-b016-0a7fd2acc535",
   "metadata": {
    "tags": []
   },
   "outputs": [],
   "source": [
    "d1 = {\"name\":\"Vivek\",\"age\":18,\"height\":5.4,\"weight\":50}"
   ]
  },
  {
   "cell_type": "code",
   "execution_count": 2,
   "id": "16382b60-05b3-4138-bed1-e0d265561bb9",
   "metadata": {
    "tags": []
   },
   "outputs": [
    {
     "data": {
      "text/plain": [
       "{'name': 'Vivek', 'age': 18, 'height': 5.4, 'weight': 50}"
      ]
     },
     "execution_count": 2,
     "metadata": {},
     "output_type": "execute_result"
    }
   ],
   "source": [
    "d1"
   ]
  },
  {
   "cell_type": "code",
   "execution_count": 3,
   "id": "9a159289-ed3d-44fd-a12d-ab6f4c4562ba",
   "metadata": {
    "tags": []
   },
   "outputs": [
    {
     "data": {
      "text/plain": [
       "'Vivek'"
      ]
     },
     "execution_count": 3,
     "metadata": {},
     "output_type": "execute_result"
    }
   ],
   "source": [
    "d1[\"name\"]"
   ]
  },
  {
   "cell_type": "code",
   "execution_count": 4,
   "id": "bbb72bfa-9fc7-4429-8680-4f8e73f59595",
   "metadata": {
    "tags": []
   },
   "outputs": [
    {
     "data": {
      "text/plain": [
       "18"
      ]
     },
     "execution_count": 4,
     "metadata": {},
     "output_type": "execute_result"
    }
   ],
   "source": [
    "d1[\"age\"]"
   ]
  },
  {
   "cell_type": "code",
   "execution_count": 5,
   "id": "7f9eff6b-209c-4849-895b-c85d0b83d41e",
   "metadata": {
    "tags": []
   },
   "outputs": [
    {
     "data": {
      "text/plain": [
       "dict"
      ]
     },
     "execution_count": 5,
     "metadata": {},
     "output_type": "execute_result"
    }
   ],
   "source": [
    "type(d1)"
   ]
  },
  {
   "cell_type": "code",
   "execution_count": 6,
   "id": "88103e8a-9c83-47df-a9f7-a6acbda73f4b",
   "metadata": {
    "tags": []
   },
   "outputs": [],
   "source": [
    "d2 = {\"student_name\":[\"vivek\",\"saiganesh\",\"abhay\",\"saivishrut\"],\"assignment\":(1,4,3,5,8),\"assignment_date\":{20,24,25,29},\"time\":{\"vivek\":1,\"saiganesh\":2,\"abhay\":3,\"saivishrut\":4}}"
   ]
  },
  {
   "cell_type": "code",
   "execution_count": 7,
   "id": "9d753b55-fb97-4407-a2b0-673c2231f3eb",
   "metadata": {
    "tags": []
   },
   "outputs": [
    {
     "data": {
      "text/plain": [
       "{'student_name': ['vivek', 'saiganesh', 'abhay', 'saivishrut'],\n",
       " 'assignment': (1, 4, 3, 5, 8),\n",
       " 'assignment_date': {20, 24, 25, 29},\n",
       " 'time': {'vivek': 1, 'saiganesh': 2, 'abhay': 3, 'saivishrut': 4}}"
      ]
     },
     "execution_count": 7,
     "metadata": {},
     "output_type": "execute_result"
    }
   ],
   "source": [
    "d2"
   ]
  },
  {
   "cell_type": "code",
   "execution_count": 8,
   "id": "3809b5b6-a50c-41f5-94e6-26b7893d95cb",
   "metadata": {
    "tags": []
   },
   "outputs": [
    {
     "data": {
      "text/plain": [
       "'abhay'"
      ]
     },
     "execution_count": 8,
     "metadata": {},
     "output_type": "execute_result"
    }
   ],
   "source": [
    "d2[\"student_name\"][2]"
   ]
  },
  {
   "cell_type": "code",
   "execution_count": 9,
   "id": "a40b74de-d78d-47be-bd2a-01e8998168f9",
   "metadata": {
    "tags": []
   },
   "outputs": [
    {
     "data": {
      "text/plain": [
       "4"
      ]
     },
     "execution_count": 9,
     "metadata": {},
     "output_type": "execute_result"
    }
   ],
   "source": [
    "d2[\"assignment\"][1]"
   ]
  },
  {
   "cell_type": "code",
   "execution_count": 10,
   "id": "c5b9c61f-f3e1-447a-a15e-3c33d8ff31bd",
   "metadata": {
    "tags": []
   },
   "outputs": [
    {
     "data": {
      "text/plain": [
       "{20, 24, 25, 29}"
      ]
     },
     "execution_count": 10,
     "metadata": {},
     "output_type": "execute_result"
    }
   ],
   "source": [
    "d2[\"assignment_date\"] # we can not use in set because set is unordered "
   ]
  },
  {
   "cell_type": "code",
   "execution_count": 11,
   "id": "c250a8b2-f775-4f7c-9835-e6ff5b738939",
   "metadata": {
    "tags": []
   },
   "outputs": [
    {
     "data": {
      "text/plain": [
       "3"
      ]
     },
     "execution_count": 11,
     "metadata": {},
     "output_type": "execute_result"
    }
   ],
   "source": [
    "d2[\"time\"][\"abhay\"]"
   ]
  },
  {
   "cell_type": "code",
   "execution_count": 12,
   "id": "89a9471d-9413-4f34-853f-e2d7d2b1d058",
   "metadata": {
    "tags": []
   },
   "outputs": [],
   "source": [
    "d2[\"subject\"] = [\"python\",\"java\",\"html\",\"c++\",\"php\"] # we can add key and values like these"
   ]
  },
  {
   "cell_type": "code",
   "execution_count": 13,
   "id": "e8262e87-211d-4e66-a243-39381f616c76",
   "metadata": {
    "tags": []
   },
   "outputs": [
    {
     "data": {
      "text/plain": [
       "{'student_name': ['vivek', 'saiganesh', 'abhay', 'saivishrut'],\n",
       " 'assignment': (1, 4, 3, 5, 8),\n",
       " 'assignment_date': {20, 24, 25, 29},\n",
       " 'time': {'vivek': 1, 'saiganesh': 2, 'abhay': 3, 'saivishrut': 4},\n",
       " 'subject': ['python', 'java', 'html', 'c++', 'php']}"
      ]
     },
     "execution_count": 13,
     "metadata": {},
     "output_type": "execute_result"
    }
   ],
   "source": [
    "d2"
   ]
  },
  {
   "cell_type": "code",
   "execution_count": 14,
   "id": "d1902eb5-9e72-48a4-890b-e92b1e21c4aa",
   "metadata": {
    "tags": []
   },
   "outputs": [],
   "source": [
    "del d2[\"assignment_date\"]"
   ]
  },
  {
   "cell_type": "code",
   "execution_count": 15,
   "id": "31419c20-0ed4-493c-ab42-9c9c8689e1a3",
   "metadata": {
    "tags": []
   },
   "outputs": [
    {
     "data": {
      "text/plain": [
       "{'student_name': ['vivek', 'saiganesh', 'abhay', 'saivishrut'],\n",
       " 'assignment': (1, 4, 3, 5, 8),\n",
       " 'time': {'vivek': 1, 'saiganesh': 2, 'abhay': 3, 'saivishrut': 4},\n",
       " 'subject': ['python', 'java', 'html', 'c++', 'php']}"
      ]
     },
     "execution_count": 15,
     "metadata": {},
     "output_type": "execute_result"
    }
   ],
   "source": [
    "d2"
   ]
  },
  {
   "cell_type": "code",
   "execution_count": 16,
   "id": "bd537cc0-0d0d-4296-99b9-58d256768893",
   "metadata": {
    "tags": []
   },
   "outputs": [
    {
     "data": {
      "text/plain": [
       "dict_keys(['student_name', 'assignment', 'time', 'subject'])"
      ]
     },
     "execution_count": 16,
     "metadata": {},
     "output_type": "execute_result"
    }
   ],
   "source": [
    "d2.keys()"
   ]
  },
  {
   "cell_type": "code",
   "execution_count": 17,
   "id": "7ae59c6b-5ae8-4a78-9c65-a5d014ed052f",
   "metadata": {
    "tags": []
   },
   "outputs": [
    {
     "data": {
      "text/plain": [
       "['student_name', 'assignment', 'time', 'subject']"
      ]
     },
     "execution_count": 17,
     "metadata": {},
     "output_type": "execute_result"
    }
   ],
   "source": [
    "list(d2.keys())"
   ]
  },
  {
   "cell_type": "code",
   "execution_count": 18,
   "id": "742d5880-ef69-465f-bd52-47e5584aa63d",
   "metadata": {
    "tags": []
   },
   "outputs": [
    {
     "data": {
      "text/plain": [
       "[['vivek', 'saiganesh', 'abhay', 'saivishrut'],\n",
       " (1, 4, 3, 5, 8),\n",
       " {'vivek': 1, 'saiganesh': 2, 'abhay': 3, 'saivishrut': 4},\n",
       " ['python', 'java', 'html', 'c++', 'php']]"
      ]
     },
     "execution_count": 18,
     "metadata": {},
     "output_type": "execute_result"
    }
   ],
   "source": [
    "list(d2.values())"
   ]
  },
  {
   "cell_type": "code",
   "execution_count": 19,
   "id": "e85be925-f8a2-436f-ade6-53b0fc51da80",
   "metadata": {
    "tags": []
   },
   "outputs": [
    {
     "data": {
      "text/plain": [
       "[('student_name', ['vivek', 'saiganesh', 'abhay', 'saivishrut']),\n",
       " ('assignment', (1, 4, 3, 5, 8)),\n",
       " ('time', {'vivek': 1, 'saiganesh': 2, 'abhay': 3, 'saivishrut': 4}),\n",
       " ('subject', ['python', 'java', 'html', 'c++', 'php'])]"
      ]
     },
     "execution_count": 19,
     "metadata": {},
     "output_type": "execute_result"
    }
   ],
   "source": [
    "list(d2.items())"
   ]
  },
  {
   "cell_type": "code",
   "execution_count": 20,
   "id": "f6e984ee-eb6c-454a-9ca3-cb70cb20b86b",
   "metadata": {
    "tags": []
   },
   "outputs": [
    {
     "data": {
      "text/plain": [
       "(1, 4, 3, 5, 8)"
      ]
     },
     "execution_count": 20,
     "metadata": {},
     "output_type": "execute_result"
    }
   ],
   "source": [
    "d2.pop(\"assignment\")"
   ]
  },
  {
   "cell_type": "code",
   "execution_count": 21,
   "id": "8f015b28-ce8d-4a76-8dea-c1d71d925ac1",
   "metadata": {
    "tags": []
   },
   "outputs": [
    {
     "data": {
      "text/plain": [
       "{'student_name': ['vivek', 'saiganesh', 'abhay', 'saivishrut'],\n",
       " 'time': {'vivek': 1, 'saiganesh': 2, 'abhay': 3, 'saivishrut': 4},\n",
       " 'subject': ['python', 'java', 'html', 'c++', 'php']}"
      ]
     },
     "execution_count": 21,
     "metadata": {},
     "output_type": "execute_result"
    }
   ],
   "source": [
    "d2"
   ]
  },
  {
   "cell_type": "code",
   "execution_count": 22,
   "id": "78eb3d5b-32eb-45a2-ab01-4ae461c45c2b",
   "metadata": {
    "tags": []
   },
   "outputs": [
    {
     "data": {
      "text/plain": [
       "{'vivek': 1, 'saiganesh': 2, 'abhay': 3, 'saivishrut': 4}"
      ]
     },
     "execution_count": 22,
     "metadata": {},
     "output_type": "execute_result"
    }
   ],
   "source": [
    "d2.get(\"time\")"
   ]
  },
  {
   "cell_type": "code",
   "execution_count": 23,
   "id": "9424ccf0-9c00-476e-b217-bb0b39952591",
   "metadata": {
    "tags": []
   },
   "outputs": [
    {
     "data": {
      "text/plain": [
       "{'student_name': ['vivek', 'saiganesh', 'abhay', 'saivishrut'],\n",
       " 'time': {'vivek': 1, 'saiganesh': 2, 'abhay': 3, 'saivishrut': 4},\n",
       " 'subject': ['python', 'java', 'html', 'c++', 'php']}"
      ]
     },
     "execution_count": 23,
     "metadata": {},
     "output_type": "execute_result"
    }
   ],
   "source": [
    "d2"
   ]
  },
  {
   "cell_type": "code",
   "execution_count": 24,
   "id": "85cdb719-79d9-4b92-9223-84bb53d54438",
   "metadata": {
    "tags": []
   },
   "outputs": [
    {
     "data": {
      "text/plain": [
       "('subject', ['python', 'java', 'html', 'c++', 'php'])"
      ]
     },
     "execution_count": 24,
     "metadata": {},
     "output_type": "execute_result"
    }
   ],
   "source": [
    "d2.popitem()"
   ]
  },
  {
   "cell_type": "code",
   "execution_count": 25,
   "id": "68d9d966-c617-452c-a27f-46fd54381ab3",
   "metadata": {
    "tags": []
   },
   "outputs": [
    {
     "data": {
      "text/plain": [
       "{'student_name': ['vivek', 'saiganesh', 'abhay', 'saivishrut'],\n",
       " 'time': {'vivek': 1, 'saiganesh': 2, 'abhay': 3, 'saivishrut': 4}}"
      ]
     },
     "execution_count": 25,
     "metadata": {},
     "output_type": "execute_result"
    }
   ],
   "source": [
    "d2"
   ]
  },
  {
   "cell_type": "code",
   "execution_count": 26,
   "id": "85bfd9d4-413e-4417-8767-a980c4e1a31b",
   "metadata": {
    "tags": []
   },
   "outputs": [
    {
     "data": {
      "text/plain": [
       "['vivek', 'saiganesh', 'abhay', 'saivishrut']"
      ]
     },
     "execution_count": 26,
     "metadata": {},
     "output_type": "execute_result"
    }
   ],
   "source": [
    "d2.setdefault(\"student_name\")"
   ]
  },
  {
   "cell_type": "code",
   "execution_count": null,
   "id": "16706fe5-29b0-42b1-8275-57c6beef1b28",
   "metadata": {},
   "outputs": [],
   "source": []
  }
 ],
 "metadata": {
  "kernelspec": {
   "display_name": "Python 3 (ipykernel)",
   "language": "python",
   "name": "python3"
  },
  "language_info": {
   "codemirror_mode": {
    "name": "ipython",
    "version": 3
   },
   "file_extension": ".py",
   "mimetype": "text/x-python",
   "name": "python",
   "nbconvert_exporter": "python",
   "pygments_lexer": "ipython3",
   "version": "3.10.7"
  }
 },
 "nbformat": 4,
 "nbformat_minor": 5
}
