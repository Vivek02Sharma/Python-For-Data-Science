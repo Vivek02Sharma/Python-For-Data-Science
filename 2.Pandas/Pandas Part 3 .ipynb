{
 "cells": [
  {
   "cell_type": "code",
   "execution_count": 1,
   "id": "09e331b1-3458-4954-a647-f0dd045aa467",
   "metadata": {
    "tags": []
   },
   "outputs": [],
   "source": [
    "import pandas as pd"
   ]
  },
  {
   "cell_type": "code",
   "execution_count": 2,
   "id": "f577489d-5d6f-4ef6-ac4e-7b0fd293271d",
   "metadata": {
    "tags": []
   },
   "outputs": [],
   "source": [
    "df = pd.read_csv(\"std_details.csv\")"
   ]
  },
  {
   "cell_type": "code",
   "execution_count": 3,
   "id": "95aeef4a-5901-44a5-9f1f-7ddb37855bcc",
   "metadata": {
    "tags": []
   },
   "outputs": [
    {
     "data": {
      "text/html": [
       "<div>\n",
       "<style scoped>\n",
       "    .dataframe tbody tr th:only-of-type {\n",
       "        vertical-align: middle;\n",
       "    }\n",
       "\n",
       "    .dataframe tbody tr th {\n",
       "        vertical-align: top;\n",
       "    }\n",
       "\n",
       "    .dataframe thead th {\n",
       "        text-align: right;\n",
       "    }\n",
       "</style>\n",
       "<table border=\"1\" class=\"dataframe\">\n",
       "  <thead>\n",
       "    <tr style=\"text-align: right;\">\n",
       "      <th></th>\n",
       "      <th>StudentId</th>\n",
       "      <th>StudentNameWithMotherName</th>\n",
       "      <th>StudentNumber</th>\n",
       "      <th>RegistrationId</th>\n",
       "      <th>EnrollmentNumber</th>\n",
       "      <th>RollNumber</th>\n",
       "      <th>Prn no</th>\n",
       "    </tr>\n",
       "  </thead>\n",
       "  <tbody>\n",
       "    <tr>\n",
       "      <th>0</th>\n",
       "      <td>3924705</td>\n",
       "      <td>ABHANG PRANAY SHASHIKANT SUVARNA</td>\n",
       "      <td>4453</td>\n",
       "      <td>1334404</td>\n",
       "      <td>22071002</td>\n",
       "      <td>229001</td>\n",
       "      <td>2022016401586151</td>\n",
       "    </tr>\n",
       "    <tr>\n",
       "      <th>1</th>\n",
       "      <td>4259073</td>\n",
       "      <td>ACHARY ARJUN GOPALAKRISHNAN SUNIMOL</td>\n",
       "      <td>4949</td>\n",
       "      <td>1161702</td>\n",
       "      <td>22071151</td>\n",
       "      <td>229179</td>\n",
       "      <td>2022016401597616</td>\n",
       "    </tr>\n",
       "    <tr>\n",
       "      <th>2</th>\n",
       "      <td>3920578</td>\n",
       "      <td>ADEP VAMSHI VARAIAH PADMA</td>\n",
       "      <td>4419</td>\n",
       "      <td>1329568</td>\n",
       "      <td>22071003</td>\n",
       "      <td>229002</td>\n",
       "      <td>2022016401600516</td>\n",
       "    </tr>\n",
       "    <tr>\n",
       "      <th>3</th>\n",
       "      <td>3882827</td>\n",
       "      <td>AIWALE SWAPNIL RAGHU JAYSHREE</td>\n",
       "      <td>4071</td>\n",
       "      <td>1219147</td>\n",
       "      <td>22071004</td>\n",
       "      <td>229003</td>\n",
       "      <td>2022016401595173</td>\n",
       "    </tr>\n",
       "    <tr>\n",
       "      <th>4</th>\n",
       "      <td>3835941</td>\n",
       "      <td>AMANCHA SNEHA ANJANEYULU RAMADEVI</td>\n",
       "      <td>3677</td>\n",
       "      <td>1286619</td>\n",
       "      <td>22071005</td>\n",
       "      <td>229004</td>\n",
       "      <td>2022016401590535</td>\n",
       "    </tr>\n",
       "    <tr>\n",
       "      <th>...</th>\n",
       "      <td>...</td>\n",
       "      <td>...</td>\n",
       "      <td>...</td>\n",
       "      <td>...</td>\n",
       "      <td>...</td>\n",
       "      <td>...</td>\n",
       "      <td>...</td>\n",
       "    </tr>\n",
       "    <tr>\n",
       "      <th>135</th>\n",
       "      <td>3873260</td>\n",
       "      <td>YADAV MANISHA SURESH JAIDEVI</td>\n",
       "      <td>3940</td>\n",
       "      <td>1304880</td>\n",
       "      <td>22071130</td>\n",
       "      <td>229157</td>\n",
       "      <td>2022016401605765</td>\n",
       "    </tr>\n",
       "    <tr>\n",
       "      <th>136</th>\n",
       "      <td>3890175</td>\n",
       "      <td>YADAV NITU DEVMUNI MIRA</td>\n",
       "      <td>4176</td>\n",
       "      <td>1228600</td>\n",
       "      <td>22071131</td>\n",
       "      <td>229158</td>\n",
       "      <td>2022016401609593</td>\n",
       "    </tr>\n",
       "    <tr>\n",
       "      <th>137</th>\n",
       "      <td>3829884</td>\n",
       "      <td>YADAV PINKI SATYANARAYAN SUGI</td>\n",
       "      <td>3586</td>\n",
       "      <td>1279757</td>\n",
       "      <td>22071132</td>\n",
       "      <td>229159</td>\n",
       "      <td>2022016401605966</td>\n",
       "    </tr>\n",
       "    <tr>\n",
       "      <th>138</th>\n",
       "      <td>3918303</td>\n",
       "      <td>YADAV SACHIN SANTOSH POONAM</td>\n",
       "      <td>4364</td>\n",
       "      <td>1221210</td>\n",
       "      <td>22071133</td>\n",
       "      <td>229160</td>\n",
       "      <td>2022016401608214</td>\n",
       "    </tr>\n",
       "    <tr>\n",
       "      <th>139</th>\n",
       "      <td>3882825</td>\n",
       "      <td>YADAV SURAJ RAMSAMUJH NIRMALA</td>\n",
       "      <td>4069</td>\n",
       "      <td>1205029</td>\n",
       "      <td>22071134</td>\n",
       "      <td>229161</td>\n",
       "      <td>2022016401594765</td>\n",
       "    </tr>\n",
       "  </tbody>\n",
       "</table>\n",
       "<p>140 rows × 7 columns</p>\n",
       "</div>"
      ],
      "text/plain": [
       "     StudentId            StudentNameWithMotherName  StudentNumber  \\\n",
       "0      3924705     ABHANG PRANAY SHASHIKANT SUVARNA           4453   \n",
       "1      4259073  ACHARY ARJUN GOPALAKRISHNAN SUNIMOL           4949   \n",
       "2      3920578            ADEP VAMSHI VARAIAH PADMA           4419   \n",
       "3      3882827        AIWALE SWAPNIL RAGHU JAYSHREE           4071   \n",
       "4      3835941    AMANCHA SNEHA ANJANEYULU RAMADEVI           3677   \n",
       "..         ...                                  ...            ...   \n",
       "135    3873260         YADAV MANISHA SURESH JAIDEVI           3940   \n",
       "136    3890175              YADAV NITU DEVMUNI MIRA           4176   \n",
       "137    3829884        YADAV PINKI SATYANARAYAN SUGI           3586   \n",
       "138    3918303          YADAV SACHIN SANTOSH POONAM           4364   \n",
       "139    3882825        YADAV SURAJ RAMSAMUJH NIRMALA           4069   \n",
       "\n",
       "     RegistrationId  EnrollmentNumber  RollNumber            Prn no  \n",
       "0           1334404          22071002      229001  2022016401586151  \n",
       "1           1161702          22071151      229179  2022016401597616  \n",
       "2           1329568          22071003      229002  2022016401600516  \n",
       "3           1219147          22071004      229003  2022016401595173  \n",
       "4           1286619          22071005      229004  2022016401590535  \n",
       "..              ...               ...         ...               ...  \n",
       "135         1304880          22071130      229157  2022016401605765  \n",
       "136         1228600          22071131      229158  2022016401609593  \n",
       "137         1279757          22071132      229159  2022016401605966  \n",
       "138         1221210          22071133      229160  2022016401608214  \n",
       "139         1205029          22071134      229161  2022016401594765  \n",
       "\n",
       "[140 rows x 7 columns]"
      ]
     },
     "execution_count": 3,
     "metadata": {},
     "output_type": "execute_result"
    }
   ],
   "source": [
    "df"
   ]
  },
  {
   "cell_type": "code",
   "execution_count": 4,
   "id": "601d0fe4-843b-4aed-90df-c7d701b72060",
   "metadata": {
    "tags": []
   },
   "outputs": [],
   "source": [
    "s = df['StudentNameWithMotherName'][0:5]"
   ]
  },
  {
   "cell_type": "code",
   "execution_count": 5,
   "id": "6c6690c2-c49f-4af4-b850-db5c1418fc80",
   "metadata": {
    "tags": []
   },
   "outputs": [
    {
     "data": {
      "text/plain": [
       "1       ABHANG PRANAY SHASHIKANT SUVARNA\n",
       "2    ACHARY ARJUN GOPALAKRISHNAN SUNIMOL\n",
       "3              ADEP VAMSHI VARAIAH PADMA\n",
       "4          AIWALE SWAPNIL RAGHU JAYSHREE\n",
       "5      AMANCHA SNEHA ANJANEYULU RAMADEVI\n",
       "dtype: object"
      ]
     },
     "execution_count": 5,
     "metadata": {},
     "output_type": "execute_result"
    }
   ],
   "source": [
    "pd.Series(list(s),index = [1,2,3,4,5]) # changing index of the data "
   ]
  },
  {
   "cell_type": "code",
   "execution_count": 6,
   "id": "dcc39f42-db4c-4515-b4c8-f799c521a2c8",
   "metadata": {
    "tags": []
   },
   "outputs": [],
   "source": [
    "s1 = pd.Series(list(s),index = range(1,6)) # also using range"
   ]
  },
  {
   "cell_type": "code",
   "execution_count": 7,
   "id": "ffa1b260-a020-471e-a585-ccbe5ecddf08",
   "metadata": {
    "tags": []
   },
   "outputs": [],
   "source": [
    "s2 = pd.Series(list(s),index = ['a','b','c','d','e']) # named index"
   ]
  },
  {
   "cell_type": "code",
   "execution_count": 8,
   "id": "39c50609-fc2c-494b-a11d-1e39b6bd908a",
   "metadata": {
    "tags": []
   },
   "outputs": [
    {
     "name": "stderr",
     "output_type": "stream",
     "text": [
      "C:\\Users\\suraj\\AppData\\Local\\Temp\\ipykernel_26516\\1427911071.py:1: FutureWarning: The series.append method is deprecated and will be removed from pandas in a future version. Use pandas.concat instead.\n",
      "  s3 = s1.append(s2)\n"
     ]
    }
   ],
   "source": [
    "s3 = s1.append(s2)"
   ]
  },
  {
   "cell_type": "code",
   "execution_count": 9,
   "id": "757b564f-c670-4144-a197-ff7e15bd2a81",
   "metadata": {
    "tags": []
   },
   "outputs": [
    {
     "data": {
      "text/plain": [
       "1       ABHANG PRANAY SHASHIKANT SUVARNA\n",
       "2    ACHARY ARJUN GOPALAKRISHNAN SUNIMOL\n",
       "3              ADEP VAMSHI VARAIAH PADMA\n",
       "4          AIWALE SWAPNIL RAGHU JAYSHREE\n",
       "5      AMANCHA SNEHA ANJANEYULU RAMADEVI\n",
       "a       ABHANG PRANAY SHASHIKANT SUVARNA\n",
       "b    ACHARY ARJUN GOPALAKRISHNAN SUNIMOL\n",
       "c              ADEP VAMSHI VARAIAH PADMA\n",
       "d          AIWALE SWAPNIL RAGHU JAYSHREE\n",
       "e      AMANCHA SNEHA ANJANEYULU RAMADEVI\n",
       "dtype: object"
      ]
     },
     "execution_count": 9,
     "metadata": {},
     "output_type": "execute_result"
    }
   ],
   "source": [
    "s3"
   ]
  },
  {
   "cell_type": "code",
   "execution_count": 10,
   "id": "3f98a641-55ce-4dc7-84b5-459af5e91e50",
   "metadata": {
    "tags": []
   },
   "outputs": [
    {
     "data": {
      "text/plain": [
       "'ABHANG PRANAY SHASHIKANT SUVARNA'"
      ]
     },
     "execution_count": 10,
     "metadata": {},
     "output_type": "execute_result"
    }
   ],
   "source": [
    "s3[1] # during indexing it take named indexes"
   ]
  },
  {
   "cell_type": "code",
   "execution_count": 11,
   "id": "0386138d-47b8-431a-9609-080935492fff",
   "metadata": {
    "tags": []
   },
   "outputs": [
    {
     "data": {
      "text/plain": [
       "'ADEP VAMSHI VARAIAH PADMA'"
      ]
     },
     "execution_count": 11,
     "metadata": {},
     "output_type": "execute_result"
    }
   ],
   "source": [
    "s3['c'] # during indexing it take named indexes"
   ]
  },
  {
   "cell_type": "code",
   "execution_count": 12,
   "id": "14a22d0c-aa57-4788-a620-d6e4096563e6",
   "metadata": {
    "tags": []
   },
   "outputs": [
    {
     "data": {
      "text/plain": [
       "1       ABHANG PRANAY SHASHIKANT SUVARNA\n",
       "2    ACHARY ARJUN GOPALAKRISHNAN SUNIMOL\n",
       "3              ADEP VAMSHI VARAIAH PADMA\n",
       "4          AIWALE SWAPNIL RAGHU JAYSHREE\n",
       "5      AMANCHA SNEHA ANJANEYULU RAMADEVI\n",
       "a       ABHANG PRANAY SHASHIKANT SUVARNA\n",
       "b    ACHARY ARJUN GOPALAKRISHNAN SUNIMOL\n",
       "dtype: object"
      ]
     },
     "execution_count": 12,
     "metadata": {},
     "output_type": "execute_result"
    }
   ],
   "source": [
    "s3[0:7] #during slicing it takes default indexes"
   ]
  }
 ],
 "metadata": {
  "kernelspec": {
   "display_name": "Python 3 (ipykernel)",
   "language": "python",
   "name": "python3"
  },
  "language_info": {
   "codemirror_mode": {
    "name": "ipython",
    "version": 3
   },
   "file_extension": ".py",
   "mimetype": "text/x-python",
   "name": "python",
   "nbconvert_exporter": "python",
   "pygments_lexer": "ipython3",
   "version": "3.10.7"
  }
 },
 "nbformat": 4,
 "nbformat_minor": 5
}
