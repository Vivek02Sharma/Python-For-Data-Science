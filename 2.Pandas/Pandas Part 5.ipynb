{
 "cells": [
  {
   "cell_type": "code",
   "execution_count": 1,
   "id": "d3fed74f-ed07-4ee8-ae93-96f1bb009a2f",
   "metadata": {
    "tags": []
   },
   "outputs": [],
   "source": [
    "import pandas as pd"
   ]
  },
  {
   "cell_type": "code",
   "execution_count": 3,
   "id": "6bd5357f-598b-417d-b035-93e4dc2969d0",
   "metadata": {
    "tags": []
   },
   "outputs": [],
   "source": [
    "df = pd.DataFrame({\n",
    "                    'name':['vivek','ankit','bhavesh','golu'],\n",
    "                    'age':[18,19,21,17],\n",
    "                    'roll no':[45,12,8,23],\n",
    "                    'student id':[748,934,174,927]\n",
    "})"
   ]
  },
  {
   "cell_type": "code",
   "execution_count": 4,
   "id": "d19e9011-2ec1-40b5-b5a4-e97764352eeb",
   "metadata": {
    "tags": []
   },
   "outputs": [
    {
     "data": {
      "text/html": [
       "<div>\n",
       "<style scoped>\n",
       "    .dataframe tbody tr th:only-of-type {\n",
       "        vertical-align: middle;\n",
       "    }\n",
       "\n",
       "    .dataframe tbody tr th {\n",
       "        vertical-align: top;\n",
       "    }\n",
       "\n",
       "    .dataframe thead th {\n",
       "        text-align: right;\n",
       "    }\n",
       "</style>\n",
       "<table border=\"1\" class=\"dataframe\">\n",
       "  <thead>\n",
       "    <tr style=\"text-align: right;\">\n",
       "      <th></th>\n",
       "      <th>name</th>\n",
       "      <th>age</th>\n",
       "      <th>roll no</th>\n",
       "      <th>student id</th>\n",
       "    </tr>\n",
       "  </thead>\n",
       "  <tbody>\n",
       "    <tr>\n",
       "      <th>0</th>\n",
       "      <td>vivek</td>\n",
       "      <td>18</td>\n",
       "      <td>45</td>\n",
       "      <td>748</td>\n",
       "    </tr>\n",
       "    <tr>\n",
       "      <th>1</th>\n",
       "      <td>ankit</td>\n",
       "      <td>19</td>\n",
       "      <td>12</td>\n",
       "      <td>934</td>\n",
       "    </tr>\n",
       "    <tr>\n",
       "      <th>2</th>\n",
       "      <td>bhavesh</td>\n",
       "      <td>21</td>\n",
       "      <td>8</td>\n",
       "      <td>174</td>\n",
       "    </tr>\n",
       "    <tr>\n",
       "      <th>3</th>\n",
       "      <td>golu</td>\n",
       "      <td>17</td>\n",
       "      <td>23</td>\n",
       "      <td>927</td>\n",
       "    </tr>\n",
       "  </tbody>\n",
       "</table>\n",
       "</div>"
      ],
      "text/plain": [
       "      name  age  roll no  student id\n",
       "0    vivek   18       45         748\n",
       "1    ankit   19       12         934\n",
       "2  bhavesh   21        8         174\n",
       "3     golu   17       23         927"
      ]
     },
     "execution_count": 4,
     "metadata": {},
     "output_type": "execute_result"
    }
   ],
   "source": [
    "df"
   ]
  },
  {
   "cell_type": "code",
   "execution_count": 5,
   "id": "3b7b4d9c-66a2-431d-b6b1-a305286a21c4",
   "metadata": {
    "tags": []
   },
   "outputs": [
    {
     "name": "stdout",
     "output_type": "stream",
     "text": [
      "(0, name          vivek\n",
      "age              18\n",
      "roll no          45\n",
      "student id      748\n",
      "Name: 0, dtype: object)\n",
      "(1, name          ankit\n",
      "age              19\n",
      "roll no          12\n",
      "student id      934\n",
      "Name: 1, dtype: object)\n",
      "(2, name          bhavesh\n",
      "age                21\n",
      "roll no             8\n",
      "student id        174\n",
      "Name: 2, dtype: object)\n",
      "(3, name          golu\n",
      "age             17\n",
      "roll no         23\n",
      "student id     927\n",
      "Name: 3, dtype: object)\n"
     ]
    }
   ],
   "source": [
    "for i in df.iterrows(): #based on row index\n",
    "    print(i)"
   ]
  },
  {
   "cell_type": "code",
   "execution_count": 6,
   "id": "82a9066f-87c2-4f97-8a73-f9ad734df6ad",
   "metadata": {
    "tags": []
   },
   "outputs": [
    {
     "name": "stdout",
     "output_type": "stream",
     "text": [
      "0 name          vivek\n",
      "age              18\n",
      "roll no          45\n",
      "student id      748\n",
      "Name: 0, dtype: object\n",
      "1 name          ankit\n",
      "age              19\n",
      "roll no          12\n",
      "student id      934\n",
      "Name: 1, dtype: object\n",
      "2 name          bhavesh\n",
      "age                21\n",
      "roll no             8\n",
      "student id        174\n",
      "Name: 2, dtype: object\n",
      "3 name          golu\n",
      "age             17\n",
      "roll no         23\n",
      "student id     927\n",
      "Name: 3, dtype: object\n"
     ]
    }
   ],
   "source": [
    "for i,j in df.iterrows(): # here i indicate row index and j indicate data\n",
    "    print(i,j)"
   ]
  },
  {
   "cell_type": "code",
   "execution_count": 7,
   "id": "942a8e09-136b-4564-b54e-e0a06528c5a2",
   "metadata": {
    "tags": []
   },
   "outputs": [
    {
     "name": "stdout",
     "output_type": "stream",
     "text": [
      "0\n",
      "1\n",
      "2\n",
      "3\n"
     ]
    }
   ],
   "source": [
    "for i,j in df.iterrows(): # row index\n",
    "    print(i)"
   ]
  },
  {
   "cell_type": "code",
   "execution_count": 8,
   "id": "55180d97-bc2a-46c0-bd35-df429c2e2ec3",
   "metadata": {
    "tags": []
   },
   "outputs": [
    {
     "name": "stdout",
     "output_type": "stream",
     "text": [
      "name          vivek\n",
      "age              18\n",
      "roll no          45\n",
      "student id      748\n",
      "Name: 0, dtype: object\n",
      "name          ankit\n",
      "age              19\n",
      "roll no          12\n",
      "student id      934\n",
      "Name: 1, dtype: object\n",
      "name          bhavesh\n",
      "age                21\n",
      "roll no             8\n",
      "student id        174\n",
      "Name: 2, dtype: object\n",
      "name          golu\n",
      "age             17\n",
      "roll no         23\n",
      "student id     927\n",
      "Name: 3, dtype: object\n"
     ]
    }
   ],
   "source": [
    "for i,j in df.iterrows(): # row data\n",
    "    print(j)"
   ]
  },
  {
   "cell_type": "code",
   "execution_count": 9,
   "id": "1990b0de-9bff-451b-b6ba-dca2709eb504",
   "metadata": {
    "tags": []
   },
   "outputs": [
    {
     "data": {
      "text/html": [
       "<div>\n",
       "<style scoped>\n",
       "    .dataframe tbody tr th:only-of-type {\n",
       "        vertical-align: middle;\n",
       "    }\n",
       "\n",
       "    .dataframe tbody tr th {\n",
       "        vertical-align: top;\n",
       "    }\n",
       "\n",
       "    .dataframe thead th {\n",
       "        text-align: right;\n",
       "    }\n",
       "</style>\n",
       "<table border=\"1\" class=\"dataframe\">\n",
       "  <thead>\n",
       "    <tr style=\"text-align: right;\">\n",
       "      <th></th>\n",
       "      <th>name</th>\n",
       "      <th>age</th>\n",
       "      <th>roll no</th>\n",
       "      <th>student id</th>\n",
       "    </tr>\n",
       "  </thead>\n",
       "  <tbody>\n",
       "    <tr>\n",
       "      <th>0</th>\n",
       "      <td>vivek</td>\n",
       "      <td>18</td>\n",
       "      <td>45</td>\n",
       "      <td>748</td>\n",
       "    </tr>\n",
       "    <tr>\n",
       "      <th>1</th>\n",
       "      <td>ankit</td>\n",
       "      <td>19</td>\n",
       "      <td>12</td>\n",
       "      <td>934</td>\n",
       "    </tr>\n",
       "    <tr>\n",
       "      <th>2</th>\n",
       "      <td>bhavesh</td>\n",
       "      <td>21</td>\n",
       "      <td>8</td>\n",
       "      <td>174</td>\n",
       "    </tr>\n",
       "    <tr>\n",
       "      <th>3</th>\n",
       "      <td>golu</td>\n",
       "      <td>17</td>\n",
       "      <td>23</td>\n",
       "      <td>927</td>\n",
       "    </tr>\n",
       "  </tbody>\n",
       "</table>\n",
       "</div>"
      ],
      "text/plain": [
       "      name  age  roll no  student id\n",
       "0    vivek   18       45         748\n",
       "1    ankit   19       12         934\n",
       "2  bhavesh   21        8         174\n",
       "3     golu   17       23         927"
      ]
     },
     "execution_count": 9,
     "metadata": {},
     "output_type": "execute_result"
    }
   ],
   "source": [
    "df"
   ]
  },
  {
   "cell_type": "code",
   "execution_count": 10,
   "id": "476ca40a-4751-4819-8a8d-518870d87a44",
   "metadata": {
    "tags": []
   },
   "outputs": [
    {
     "name": "stdout",
     "output_type": "stream",
     "text": [
      "('name', 0      vivek\n",
      "1      ankit\n",
      "2    bhavesh\n",
      "3       golu\n",
      "Name: name, dtype: object)\n",
      "('age', 0    18\n",
      "1    19\n",
      "2    21\n",
      "3    17\n",
      "Name: age, dtype: int64)\n",
      "('roll no', 0    45\n",
      "1    12\n",
      "2     8\n",
      "3    23\n",
      "Name: roll no, dtype: int64)\n",
      "('student id', 0    748\n",
      "1    934\n",
      "2    174\n",
      "3    927\n",
      "Name: student id, dtype: int64)\n"
     ]
    },
    {
     "name": "stderr",
     "output_type": "stream",
     "text": [
      "C:\\Users\\suraj\\AppData\\Local\\Temp\\ipykernel_30000\\1162402754.py:1: FutureWarning: iteritems is deprecated and will be removed in a future version. Use .items instead.\n",
      "  for i in df.iteritems(): # based on columns index\n"
     ]
    }
   ],
   "source": [
    "for i in df.iteritems(): # based on columns index\n",
    "    print(i)"
   ]
  },
  {
   "cell_type": "code",
   "execution_count": 11,
   "id": "3b1d46c4-76a0-4e85-acfc-f152e36923c6",
   "metadata": {
    "tags": []
   },
   "outputs": [
    {
     "name": "stdout",
     "output_type": "stream",
     "text": [
      "name 0      vivek\n",
      "1      ankit\n",
      "2    bhavesh\n",
      "3       golu\n",
      "Name: name, dtype: object\n",
      "age 0    18\n",
      "1    19\n",
      "2    21\n",
      "3    17\n",
      "Name: age, dtype: int64\n",
      "roll no 0    45\n",
      "1    12\n",
      "2     8\n",
      "3    23\n",
      "Name: roll no, dtype: int64\n",
      "student id 0    748\n",
      "1    934\n",
      "2    174\n",
      "3    927\n",
      "Name: student id, dtype: int64\n"
     ]
    },
    {
     "name": "stderr",
     "output_type": "stream",
     "text": [
      "C:\\Users\\suraj\\AppData\\Local\\Temp\\ipykernel_30000\\4168623874.py:1: FutureWarning: iteritems is deprecated and will be removed in a future version. Use .items instead.\n",
      "  for i,j in df.iteritems(): # i is columns index and j is data with row index\n"
     ]
    }
   ],
   "source": [
    "for i,j in df.iteritems(): # i is columns index and j is data with row index\n",
    "    print(i,j)"
   ]
  },
  {
   "cell_type": "code",
   "execution_count": 12,
   "id": "47570f30-9369-4209-a6cb-71b90002cb71",
   "metadata": {
    "tags": []
   },
   "outputs": [
    {
     "name": "stdout",
     "output_type": "stream",
     "text": [
      "name\n",
      "age\n",
      "roll no\n",
      "student id\n"
     ]
    },
    {
     "name": "stderr",
     "output_type": "stream",
     "text": [
      "C:\\Users\\suraj\\AppData\\Local\\Temp\\ipykernel_30000\\3091638960.py:1: FutureWarning: iteritems is deprecated and will be removed in a future version. Use .items instead.\n",
      "  for i,j in df.iteritems(): # columns index\n"
     ]
    }
   ],
   "source": [
    "for i,j in df.iteritems(): # columns index\n",
    "    print(i)"
   ]
  },
  {
   "cell_type": "code",
   "execution_count": 13,
   "id": "570e8702-7af2-46ad-9411-adfccfef5e6c",
   "metadata": {
    "tags": []
   },
   "outputs": [
    {
     "name": "stdout",
     "output_type": "stream",
     "text": [
      "0      vivek\n",
      "1      ankit\n",
      "2    bhavesh\n",
      "3       golu\n",
      "Name: name, dtype: object\n",
      "0    18\n",
      "1    19\n",
      "2    21\n",
      "3    17\n",
      "Name: age, dtype: int64\n",
      "0    45\n",
      "1    12\n",
      "2     8\n",
      "3    23\n",
      "Name: roll no, dtype: int64\n",
      "0    748\n",
      "1    934\n",
      "2    174\n",
      "3    927\n",
      "Name: student id, dtype: int64\n"
     ]
    },
    {
     "name": "stderr",
     "output_type": "stream",
     "text": [
      "C:\\Users\\suraj\\AppData\\Local\\Temp\\ipykernel_30000\\585557123.py:1: FutureWarning: iteritems is deprecated and will be removed in a future version. Use .items instead.\n",
      "  for i,j in df.iteritems(): # data with row index\n"
     ]
    }
   ],
   "source": [
    "for i,j in df.iteritems(): # data with row index\n",
    "    print(j)"
   ]
  },
  {
   "cell_type": "code",
   "execution_count": 14,
   "id": "5a878e7c-ebb2-4194-8b8f-7d470a091f13",
   "metadata": {
    "tags": []
   },
   "outputs": [
    {
     "data": {
      "text/html": [
       "<div>\n",
       "<style scoped>\n",
       "    .dataframe tbody tr th:only-of-type {\n",
       "        vertical-align: middle;\n",
       "    }\n",
       "\n",
       "    .dataframe tbody tr th {\n",
       "        vertical-align: top;\n",
       "    }\n",
       "\n",
       "    .dataframe thead th {\n",
       "        text-align: right;\n",
       "    }\n",
       "</style>\n",
       "<table border=\"1\" class=\"dataframe\">\n",
       "  <thead>\n",
       "    <tr style=\"text-align: right;\">\n",
       "      <th></th>\n",
       "      <th>name</th>\n",
       "      <th>age</th>\n",
       "      <th>roll no</th>\n",
       "      <th>student id</th>\n",
       "    </tr>\n",
       "  </thead>\n",
       "  <tbody>\n",
       "    <tr>\n",
       "      <th>0</th>\n",
       "      <td>vivek</td>\n",
       "      <td>18</td>\n",
       "      <td>45</td>\n",
       "      <td>748</td>\n",
       "    </tr>\n",
       "    <tr>\n",
       "      <th>1</th>\n",
       "      <td>ankit</td>\n",
       "      <td>19</td>\n",
       "      <td>12</td>\n",
       "      <td>934</td>\n",
       "    </tr>\n",
       "    <tr>\n",
       "      <th>2</th>\n",
       "      <td>bhavesh</td>\n",
       "      <td>21</td>\n",
       "      <td>8</td>\n",
       "      <td>174</td>\n",
       "    </tr>\n",
       "    <tr>\n",
       "      <th>3</th>\n",
       "      <td>golu</td>\n",
       "      <td>17</td>\n",
       "      <td>23</td>\n",
       "      <td>927</td>\n",
       "    </tr>\n",
       "  </tbody>\n",
       "</table>\n",
       "</div>"
      ],
      "text/plain": [
       "      name  age  roll no  student id\n",
       "0    vivek   18       45         748\n",
       "1    ankit   19       12         934\n",
       "2  bhavesh   21        8         174\n",
       "3     golu   17       23         927"
      ]
     },
     "execution_count": 14,
     "metadata": {},
     "output_type": "execute_result"
    }
   ],
   "source": [
    "df"
   ]
  },
  {
   "cell_type": "code",
   "execution_count": 15,
   "id": "6cd9bed4-e8bc-4fd8-b71a-7c5be31e42e9",
   "metadata": {
    "tags": []
   },
   "outputs": [],
   "source": [
    "df['new age'] = df['age'].apply(lambda x:x+2) # it change whole data according to function"
   ]
  },
  {
   "cell_type": "code",
   "execution_count": 16,
   "id": "00a04fef-0447-48f2-8dcd-deae298f8e1d",
   "metadata": {
    "tags": []
   },
   "outputs": [
    {
     "data": {
      "text/html": [
       "<div>\n",
       "<style scoped>\n",
       "    .dataframe tbody tr th:only-of-type {\n",
       "        vertical-align: middle;\n",
       "    }\n",
       "\n",
       "    .dataframe tbody tr th {\n",
       "        vertical-align: top;\n",
       "    }\n",
       "\n",
       "    .dataframe thead th {\n",
       "        text-align: right;\n",
       "    }\n",
       "</style>\n",
       "<table border=\"1\" class=\"dataframe\">\n",
       "  <thead>\n",
       "    <tr style=\"text-align: right;\">\n",
       "      <th></th>\n",
       "      <th>name</th>\n",
       "      <th>age</th>\n",
       "      <th>roll no</th>\n",
       "      <th>student id</th>\n",
       "      <th>new age</th>\n",
       "    </tr>\n",
       "  </thead>\n",
       "  <tbody>\n",
       "    <tr>\n",
       "      <th>0</th>\n",
       "      <td>vivek</td>\n",
       "      <td>18</td>\n",
       "      <td>45</td>\n",
       "      <td>748</td>\n",
       "      <td>20</td>\n",
       "    </tr>\n",
       "    <tr>\n",
       "      <th>1</th>\n",
       "      <td>ankit</td>\n",
       "      <td>19</td>\n",
       "      <td>12</td>\n",
       "      <td>934</td>\n",
       "      <td>21</td>\n",
       "    </tr>\n",
       "    <tr>\n",
       "      <th>2</th>\n",
       "      <td>bhavesh</td>\n",
       "      <td>21</td>\n",
       "      <td>8</td>\n",
       "      <td>174</td>\n",
       "      <td>23</td>\n",
       "    </tr>\n",
       "    <tr>\n",
       "      <th>3</th>\n",
       "      <td>golu</td>\n",
       "      <td>17</td>\n",
       "      <td>23</td>\n",
       "      <td>927</td>\n",
       "      <td>19</td>\n",
       "    </tr>\n",
       "  </tbody>\n",
       "</table>\n",
       "</div>"
      ],
      "text/plain": [
       "      name  age  roll no  student id  new age\n",
       "0    vivek   18       45         748       20\n",
       "1    ankit   19       12         934       21\n",
       "2  bhavesh   21        8         174       23\n",
       "3     golu   17       23         927       19"
      ]
     },
     "execution_count": 16,
     "metadata": {},
     "output_type": "execute_result"
    }
   ],
   "source": [
    "df"
   ]
  },
  {
   "cell_type": "code",
   "execution_count": 17,
   "id": "dfea1789-7689-4bb9-b78a-58284fb1bfed",
   "metadata": {
    "tags": []
   },
   "outputs": [],
   "source": [
    "df['name length'] = df['name'].apply(lambda x:len(x))"
   ]
  },
  {
   "cell_type": "code",
   "execution_count": 18,
   "id": "8ce1945c-0917-429a-8873-72b7f0c387c9",
   "metadata": {
    "tags": []
   },
   "outputs": [
    {
     "data": {
      "text/html": [
       "<div>\n",
       "<style scoped>\n",
       "    .dataframe tbody tr th:only-of-type {\n",
       "        vertical-align: middle;\n",
       "    }\n",
       "\n",
       "    .dataframe tbody tr th {\n",
       "        vertical-align: top;\n",
       "    }\n",
       "\n",
       "    .dataframe thead th {\n",
       "        text-align: right;\n",
       "    }\n",
       "</style>\n",
       "<table border=\"1\" class=\"dataframe\">\n",
       "  <thead>\n",
       "    <tr style=\"text-align: right;\">\n",
       "      <th></th>\n",
       "      <th>name</th>\n",
       "      <th>age</th>\n",
       "      <th>roll no</th>\n",
       "      <th>student id</th>\n",
       "      <th>new age</th>\n",
       "      <th>name length</th>\n",
       "    </tr>\n",
       "  </thead>\n",
       "  <tbody>\n",
       "    <tr>\n",
       "      <th>0</th>\n",
       "      <td>vivek</td>\n",
       "      <td>18</td>\n",
       "      <td>45</td>\n",
       "      <td>748</td>\n",
       "      <td>20</td>\n",
       "      <td>5</td>\n",
       "    </tr>\n",
       "    <tr>\n",
       "      <th>1</th>\n",
       "      <td>ankit</td>\n",
       "      <td>19</td>\n",
       "      <td>12</td>\n",
       "      <td>934</td>\n",
       "      <td>21</td>\n",
       "      <td>5</td>\n",
       "    </tr>\n",
       "    <tr>\n",
       "      <th>2</th>\n",
       "      <td>bhavesh</td>\n",
       "      <td>21</td>\n",
       "      <td>8</td>\n",
       "      <td>174</td>\n",
       "      <td>23</td>\n",
       "      <td>7</td>\n",
       "    </tr>\n",
       "    <tr>\n",
       "      <th>3</th>\n",
       "      <td>golu</td>\n",
       "      <td>17</td>\n",
       "      <td>23</td>\n",
       "      <td>927</td>\n",
       "      <td>19</td>\n",
       "      <td>4</td>\n",
       "    </tr>\n",
       "  </tbody>\n",
       "</table>\n",
       "</div>"
      ],
      "text/plain": [
       "      name  age  roll no  student id  new age  name length\n",
       "0    vivek   18       45         748       20            5\n",
       "1    ankit   19       12         934       21            5\n",
       "2  bhavesh   21        8         174       23            7\n",
       "3     golu   17       23         927       19            4"
      ]
     },
     "execution_count": 18,
     "metadata": {},
     "output_type": "execute_result"
    }
   ],
   "source": [
    "df"
   ]
  },
  {
   "cell_type": "code",
   "execution_count": 19,
   "id": "4d00b99a-fbfc-46c6-84a6-6a21dbe7107d",
   "metadata": {
    "tags": []
   },
   "outputs": [],
   "source": [
    "df['age status'] = df['age'].apply(lambda x:\"teen\" if x<=18 else \"adult\")"
   ]
  },
  {
   "cell_type": "code",
   "execution_count": 20,
   "id": "eb5d9288-9abc-4c17-9d1a-6a86fc69ebde",
   "metadata": {
    "tags": []
   },
   "outputs": [
    {
     "data": {
      "text/html": [
       "<div>\n",
       "<style scoped>\n",
       "    .dataframe tbody tr th:only-of-type {\n",
       "        vertical-align: middle;\n",
       "    }\n",
       "\n",
       "    .dataframe tbody tr th {\n",
       "        vertical-align: top;\n",
       "    }\n",
       "\n",
       "    .dataframe thead th {\n",
       "        text-align: right;\n",
       "    }\n",
       "</style>\n",
       "<table border=\"1\" class=\"dataframe\">\n",
       "  <thead>\n",
       "    <tr style=\"text-align: right;\">\n",
       "      <th></th>\n",
       "      <th>name</th>\n",
       "      <th>age</th>\n",
       "      <th>roll no</th>\n",
       "      <th>student id</th>\n",
       "      <th>new age</th>\n",
       "      <th>name length</th>\n",
       "      <th>age status</th>\n",
       "    </tr>\n",
       "  </thead>\n",
       "  <tbody>\n",
       "    <tr>\n",
       "      <th>0</th>\n",
       "      <td>vivek</td>\n",
       "      <td>18</td>\n",
       "      <td>45</td>\n",
       "      <td>748</td>\n",
       "      <td>20</td>\n",
       "      <td>5</td>\n",
       "      <td>teen</td>\n",
       "    </tr>\n",
       "    <tr>\n",
       "      <th>1</th>\n",
       "      <td>ankit</td>\n",
       "      <td>19</td>\n",
       "      <td>12</td>\n",
       "      <td>934</td>\n",
       "      <td>21</td>\n",
       "      <td>5</td>\n",
       "      <td>adult</td>\n",
       "    </tr>\n",
       "    <tr>\n",
       "      <th>2</th>\n",
       "      <td>bhavesh</td>\n",
       "      <td>21</td>\n",
       "      <td>8</td>\n",
       "      <td>174</td>\n",
       "      <td>23</td>\n",
       "      <td>7</td>\n",
       "      <td>adult</td>\n",
       "    </tr>\n",
       "    <tr>\n",
       "      <th>3</th>\n",
       "      <td>golu</td>\n",
       "      <td>17</td>\n",
       "      <td>23</td>\n",
       "      <td>927</td>\n",
       "      <td>19</td>\n",
       "      <td>4</td>\n",
       "      <td>teen</td>\n",
       "    </tr>\n",
       "  </tbody>\n",
       "</table>\n",
       "</div>"
      ],
      "text/plain": [
       "      name  age  roll no  student id  new age  name length age status\n",
       "0    vivek   18       45         748       20            5       teen\n",
       "1    ankit   19       12         934       21            5      adult\n",
       "2  bhavesh   21        8         174       23            7      adult\n",
       "3     golu   17       23         927       19            4       teen"
      ]
     },
     "execution_count": 20,
     "metadata": {},
     "output_type": "execute_result"
    }
   ],
   "source": [
    "df"
   ]
  },
  {
   "cell_type": "code",
   "execution_count": 21,
   "id": "3e902b26-775e-490a-b77a-b84fb10767c5",
   "metadata": {
    "tags": []
   },
   "outputs": [],
   "source": [
    "df1 = df[['age','roll no','student id']]"
   ]
  },
  {
   "cell_type": "code",
   "execution_count": 22,
   "id": "1f1ad2b9-d075-437d-a1ef-38173eae695f",
   "metadata": {
    "tags": []
   },
   "outputs": [
    {
     "data": {
      "text/html": [
       "<div>\n",
       "<style scoped>\n",
       "    .dataframe tbody tr th:only-of-type {\n",
       "        vertical-align: middle;\n",
       "    }\n",
       "\n",
       "    .dataframe tbody tr th {\n",
       "        vertical-align: top;\n",
       "    }\n",
       "\n",
       "    .dataframe thead th {\n",
       "        text-align: right;\n",
       "    }\n",
       "</style>\n",
       "<table border=\"1\" class=\"dataframe\">\n",
       "  <thead>\n",
       "    <tr style=\"text-align: right;\">\n",
       "      <th></th>\n",
       "      <th>age</th>\n",
       "      <th>roll no</th>\n",
       "      <th>student id</th>\n",
       "    </tr>\n",
       "  </thead>\n",
       "  <tbody>\n",
       "    <tr>\n",
       "      <th>0</th>\n",
       "      <td>18</td>\n",
       "      <td>45</td>\n",
       "      <td>748</td>\n",
       "    </tr>\n",
       "    <tr>\n",
       "      <th>1</th>\n",
       "      <td>19</td>\n",
       "      <td>12</td>\n",
       "      <td>934</td>\n",
       "    </tr>\n",
       "    <tr>\n",
       "      <th>2</th>\n",
       "      <td>21</td>\n",
       "      <td>8</td>\n",
       "      <td>174</td>\n",
       "    </tr>\n",
       "    <tr>\n",
       "      <th>3</th>\n",
       "      <td>17</td>\n",
       "      <td>23</td>\n",
       "      <td>927</td>\n",
       "    </tr>\n",
       "  </tbody>\n",
       "</table>\n",
       "</div>"
      ],
      "text/plain": [
       "   age  roll no  student id\n",
       "0   18       45         748\n",
       "1   19       12         934\n",
       "2   21        8         174\n",
       "3   17       23         927"
      ]
     },
     "execution_count": 22,
     "metadata": {},
     "output_type": "execute_result"
    }
   ],
   "source": [
    "df1"
   ]
  },
  {
   "cell_type": "code",
   "execution_count": 23,
   "id": "b2e3a8ee-4a7e-4ad9-a5ea-98284d02db1c",
   "metadata": {
    "tags": []
   },
   "outputs": [
    {
     "data": {
      "text/html": [
       "<div>\n",
       "<style scoped>\n",
       "    .dataframe tbody tr th:only-of-type {\n",
       "        vertical-align: middle;\n",
       "    }\n",
       "\n",
       "    .dataframe tbody tr th {\n",
       "        vertical-align: top;\n",
       "    }\n",
       "\n",
       "    .dataframe thead th {\n",
       "        text-align: right;\n",
       "    }\n",
       "</style>\n",
       "<table border=\"1\" class=\"dataframe\">\n",
       "  <thead>\n",
       "    <tr style=\"text-align: right;\">\n",
       "      <th></th>\n",
       "      <th>age</th>\n",
       "      <th>roll no</th>\n",
       "      <th>student id</th>\n",
       "    </tr>\n",
       "  </thead>\n",
       "  <tbody>\n",
       "    <tr>\n",
       "      <th>0</th>\n",
       "      <td>9.0</td>\n",
       "      <td>22.5</td>\n",
       "      <td>374.0</td>\n",
       "    </tr>\n",
       "    <tr>\n",
       "      <th>1</th>\n",
       "      <td>9.5</td>\n",
       "      <td>6.0</td>\n",
       "      <td>467.0</td>\n",
       "    </tr>\n",
       "    <tr>\n",
       "      <th>2</th>\n",
       "      <td>10.5</td>\n",
       "      <td>4.0</td>\n",
       "      <td>87.0</td>\n",
       "    </tr>\n",
       "    <tr>\n",
       "      <th>3</th>\n",
       "      <td>8.5</td>\n",
       "      <td>11.5</td>\n",
       "      <td>463.5</td>\n",
       "    </tr>\n",
       "  </tbody>\n",
       "</table>\n",
       "</div>"
      ],
      "text/plain": [
       "    age  roll no  student id\n",
       "0   9.0     22.5       374.0\n",
       "1   9.5      6.0       467.0\n",
       "2  10.5      4.0        87.0\n",
       "3   8.5     11.5       463.5"
      ]
     },
     "execution_count": 23,
     "metadata": {},
     "output_type": "execute_result"
    }
   ],
   "source": [
    "df1.applymap(lambda x:x/2) # apply condition on whole data"
   ]
  },
  {
   "cell_type": "code",
   "execution_count": 24,
   "id": "d65ff4ea-8c4b-4ef3-a9c1-fa843882b140",
   "metadata": {
    "tags": []
   },
   "outputs": [
    {
     "data": {
      "text/html": [
       "<div>\n",
       "<style scoped>\n",
       "    .dataframe tbody tr th:only-of-type {\n",
       "        vertical-align: middle;\n",
       "    }\n",
       "\n",
       "    .dataframe tbody tr th {\n",
       "        vertical-align: top;\n",
       "    }\n",
       "\n",
       "    .dataframe thead th {\n",
       "        text-align: right;\n",
       "    }\n",
       "</style>\n",
       "<table border=\"1\" class=\"dataframe\">\n",
       "  <thead>\n",
       "    <tr style=\"text-align: right;\">\n",
       "      <th></th>\n",
       "      <th>age</th>\n",
       "      <th>roll no</th>\n",
       "      <th>student id</th>\n",
       "    </tr>\n",
       "  </thead>\n",
       "  <tbody>\n",
       "    <tr>\n",
       "      <th>0</th>\n",
       "      <td>9.0</td>\n",
       "      <td>22.5</td>\n",
       "      <td>374.0</td>\n",
       "    </tr>\n",
       "    <tr>\n",
       "      <th>1</th>\n",
       "      <td>9.5</td>\n",
       "      <td>6.0</td>\n",
       "      <td>467.0</td>\n",
       "    </tr>\n",
       "    <tr>\n",
       "      <th>2</th>\n",
       "      <td>10.5</td>\n",
       "      <td>4.0</td>\n",
       "      <td>87.0</td>\n",
       "    </tr>\n",
       "    <tr>\n",
       "      <th>3</th>\n",
       "      <td>8.5</td>\n",
       "      <td>11.5</td>\n",
       "      <td>463.5</td>\n",
       "    </tr>\n",
       "  </tbody>\n",
       "</table>\n",
       "</div>"
      ],
      "text/plain": [
       "    age  roll no  student id\n",
       "0   9.0     22.5       374.0\n",
       "1   9.5      6.0       467.0\n",
       "2  10.5      4.0        87.0\n",
       "3   8.5     11.5       463.5"
      ]
     },
     "execution_count": 24,
     "metadata": {},
     "output_type": "execute_result"
    }
   ],
   "source": [
    "df1.apply(lambda x:x/2) # based on axis"
   ]
  },
  {
   "cell_type": "code",
   "execution_count": 25,
   "id": "ee72ba12-720a-48e2-a603-698361d314c5",
   "metadata": {
    "tags": []
   },
   "outputs": [
    {
     "data": {
      "text/html": [
       "<div>\n",
       "<style scoped>\n",
       "    .dataframe tbody tr th:only-of-type {\n",
       "        vertical-align: middle;\n",
       "    }\n",
       "\n",
       "    .dataframe tbody tr th {\n",
       "        vertical-align: top;\n",
       "    }\n",
       "\n",
       "    .dataframe thead th {\n",
       "        text-align: right;\n",
       "    }\n",
       "</style>\n",
       "<table border=\"1\" class=\"dataframe\">\n",
       "  <thead>\n",
       "    <tr style=\"text-align: right;\">\n",
       "      <th></th>\n",
       "      <th>name</th>\n",
       "      <th>age</th>\n",
       "      <th>roll no</th>\n",
       "      <th>student id</th>\n",
       "      <th>new age</th>\n",
       "      <th>name length</th>\n",
       "      <th>age status</th>\n",
       "    </tr>\n",
       "  </thead>\n",
       "  <tbody>\n",
       "    <tr>\n",
       "      <th>0</th>\n",
       "      <td>vivek</td>\n",
       "      <td>18</td>\n",
       "      <td>45</td>\n",
       "      <td>748</td>\n",
       "      <td>20</td>\n",
       "      <td>5</td>\n",
       "      <td>teen</td>\n",
       "    </tr>\n",
       "    <tr>\n",
       "      <th>1</th>\n",
       "      <td>ankit</td>\n",
       "      <td>19</td>\n",
       "      <td>12</td>\n",
       "      <td>934</td>\n",
       "      <td>21</td>\n",
       "      <td>5</td>\n",
       "      <td>adult</td>\n",
       "    </tr>\n",
       "    <tr>\n",
       "      <th>2</th>\n",
       "      <td>bhavesh</td>\n",
       "      <td>21</td>\n",
       "      <td>8</td>\n",
       "      <td>174</td>\n",
       "      <td>23</td>\n",
       "      <td>7</td>\n",
       "      <td>adult</td>\n",
       "    </tr>\n",
       "    <tr>\n",
       "      <th>3</th>\n",
       "      <td>golu</td>\n",
       "      <td>17</td>\n",
       "      <td>23</td>\n",
       "      <td>927</td>\n",
       "      <td>19</td>\n",
       "      <td>4</td>\n",
       "      <td>teen</td>\n",
       "    </tr>\n",
       "  </tbody>\n",
       "</table>\n",
       "</div>"
      ],
      "text/plain": [
       "      name  age  roll no  student id  new age  name length age status\n",
       "0    vivek   18       45         748       20            5       teen\n",
       "1    ankit   19       12         934       21            5      adult\n",
       "2  bhavesh   21        8         174       23            7      adult\n",
       "3     golu   17       23         927       19            4       teen"
      ]
     },
     "execution_count": 25,
     "metadata": {},
     "output_type": "execute_result"
    }
   ],
   "source": [
    "df"
   ]
  },
  {
   "cell_type": "code",
   "execution_count": 26,
   "id": "b057f627-ca83-4064-94a8-66e2c75f314a",
   "metadata": {
    "tags": []
   },
   "outputs": [
    {
     "data": {
      "text/html": [
       "<div>\n",
       "<style scoped>\n",
       "    .dataframe tbody tr th:only-of-type {\n",
       "        vertical-align: middle;\n",
       "    }\n",
       "\n",
       "    .dataframe tbody tr th {\n",
       "        vertical-align: top;\n",
       "    }\n",
       "\n",
       "    .dataframe thead th {\n",
       "        text-align: right;\n",
       "    }\n",
       "</style>\n",
       "<table border=\"1\" class=\"dataframe\">\n",
       "  <thead>\n",
       "    <tr style=\"text-align: right;\">\n",
       "      <th></th>\n",
       "      <th>name</th>\n",
       "      <th>age</th>\n",
       "      <th>roll no</th>\n",
       "      <th>student id</th>\n",
       "      <th>new age</th>\n",
       "      <th>name length</th>\n",
       "      <th>age status</th>\n",
       "    </tr>\n",
       "  </thead>\n",
       "  <tbody>\n",
       "    <tr>\n",
       "      <th>1</th>\n",
       "      <td>ankit</td>\n",
       "      <td>19</td>\n",
       "      <td>12</td>\n",
       "      <td>934</td>\n",
       "      <td>21</td>\n",
       "      <td>5</td>\n",
       "      <td>adult</td>\n",
       "    </tr>\n",
       "    <tr>\n",
       "      <th>2</th>\n",
       "      <td>bhavesh</td>\n",
       "      <td>21</td>\n",
       "      <td>8</td>\n",
       "      <td>174</td>\n",
       "      <td>23</td>\n",
       "      <td>7</td>\n",
       "      <td>adult</td>\n",
       "    </tr>\n",
       "    <tr>\n",
       "      <th>3</th>\n",
       "      <td>golu</td>\n",
       "      <td>17</td>\n",
       "      <td>23</td>\n",
       "      <td>927</td>\n",
       "      <td>19</td>\n",
       "      <td>4</td>\n",
       "      <td>teen</td>\n",
       "    </tr>\n",
       "    <tr>\n",
       "      <th>0</th>\n",
       "      <td>vivek</td>\n",
       "      <td>18</td>\n",
       "      <td>45</td>\n",
       "      <td>748</td>\n",
       "      <td>20</td>\n",
       "      <td>5</td>\n",
       "      <td>teen</td>\n",
       "    </tr>\n",
       "  </tbody>\n",
       "</table>\n",
       "</div>"
      ],
      "text/plain": [
       "      name  age  roll no  student id  new age  name length age status\n",
       "1    ankit   19       12         934       21            5      adult\n",
       "2  bhavesh   21        8         174       23            7      adult\n",
       "3     golu   17       23         927       19            4       teen\n",
       "0    vivek   18       45         748       20            5       teen"
      ]
     },
     "execution_count": 26,
     "metadata": {},
     "output_type": "execute_result"
    }
   ],
   "source": [
    "df.sort_values('name') # sort by columns"
   ]
  },
  {
   "cell_type": "code",
   "execution_count": 27,
   "id": "103e265f-7e82-40c7-ab97-cf2753ae5ebc",
   "metadata": {
    "tags": []
   },
   "outputs": [
    {
     "data": {
      "text/html": [
       "<div>\n",
       "<style scoped>\n",
       "    .dataframe tbody tr th:only-of-type {\n",
       "        vertical-align: middle;\n",
       "    }\n",
       "\n",
       "    .dataframe tbody tr th {\n",
       "        vertical-align: top;\n",
       "    }\n",
       "\n",
       "    .dataframe thead th {\n",
       "        text-align: right;\n",
       "    }\n",
       "</style>\n",
       "<table border=\"1\" class=\"dataframe\">\n",
       "  <thead>\n",
       "    <tr style=\"text-align: right;\">\n",
       "      <th></th>\n",
       "      <th>name</th>\n",
       "      <th>age</th>\n",
       "      <th>roll no</th>\n",
       "      <th>student id</th>\n",
       "      <th>new age</th>\n",
       "      <th>name length</th>\n",
       "      <th>age status</th>\n",
       "    </tr>\n",
       "  </thead>\n",
       "  <tbody>\n",
       "    <tr>\n",
       "      <th>3</th>\n",
       "      <td>golu</td>\n",
       "      <td>17</td>\n",
       "      <td>23</td>\n",
       "      <td>927</td>\n",
       "      <td>19</td>\n",
       "      <td>4</td>\n",
       "      <td>teen</td>\n",
       "    </tr>\n",
       "    <tr>\n",
       "      <th>2</th>\n",
       "      <td>bhavesh</td>\n",
       "      <td>21</td>\n",
       "      <td>8</td>\n",
       "      <td>174</td>\n",
       "      <td>23</td>\n",
       "      <td>7</td>\n",
       "      <td>adult</td>\n",
       "    </tr>\n",
       "    <tr>\n",
       "      <th>1</th>\n",
       "      <td>ankit</td>\n",
       "      <td>19</td>\n",
       "      <td>12</td>\n",
       "      <td>934</td>\n",
       "      <td>21</td>\n",
       "      <td>5</td>\n",
       "      <td>adult</td>\n",
       "    </tr>\n",
       "    <tr>\n",
       "      <th>0</th>\n",
       "      <td>vivek</td>\n",
       "      <td>18</td>\n",
       "      <td>45</td>\n",
       "      <td>748</td>\n",
       "      <td>20</td>\n",
       "      <td>5</td>\n",
       "      <td>teen</td>\n",
       "    </tr>\n",
       "  </tbody>\n",
       "</table>\n",
       "</div>"
      ],
      "text/plain": [
       "      name  age  roll no  student id  new age  name length age status\n",
       "3     golu   17       23         927       19            4       teen\n",
       "2  bhavesh   21        8         174       23            7      adult\n",
       "1    ankit   19       12         934       21            5      adult\n",
       "0    vivek   18       45         748       20            5       teen"
      ]
     },
     "execution_count": 27,
     "metadata": {},
     "output_type": "execute_result"
    }
   ],
   "source": [
    "df.sort_index(ascending=False) # sort by index"
   ]
  },
  {
   "cell_type": "code",
   "execution_count": 28,
   "id": "b4104741-d0f5-4f72-9efe-06b91609bf12",
   "metadata": {
    "tags": []
   },
   "outputs": [],
   "source": [
    "pd.set_option('display.max_colwidth',20)\n",
    "df2 = pd.DataFrame({\n",
    "    'desc':['my name is vivek and I am studying in MCC collage ']\n",
    "})"
   ]
  },
  {
   "cell_type": "code",
   "execution_count": 29,
   "id": "520df344-6131-4d28-b4c6-94549e0768c6",
   "metadata": {
    "tags": []
   },
   "outputs": [
    {
     "data": {
      "text/html": [
       "<div>\n",
       "<style scoped>\n",
       "    .dataframe tbody tr th:only-of-type {\n",
       "        vertical-align: middle;\n",
       "    }\n",
       "\n",
       "    .dataframe tbody tr th {\n",
       "        vertical-align: top;\n",
       "    }\n",
       "\n",
       "    .dataframe thead th {\n",
       "        text-align: right;\n",
       "    }\n",
       "</style>\n",
       "<table border=\"1\" class=\"dataframe\">\n",
       "  <thead>\n",
       "    <tr style=\"text-align: right;\">\n",
       "      <th></th>\n",
       "      <th>desc</th>\n",
       "    </tr>\n",
       "  </thead>\n",
       "  <tbody>\n",
       "    <tr>\n",
       "      <th>0</th>\n",
       "      <td>my name is vivek...</td>\n",
       "    </tr>\n",
       "  </tbody>\n",
       "</table>\n",
       "</div>"
      ],
      "text/plain": [
       "                  desc\n",
       "0  my name is vivek..."
      ]
     },
     "execution_count": 29,
     "metadata": {},
     "output_type": "execute_result"
    }
   ],
   "source": [
    "df2"
   ]
  },
  {
   "cell_type": "code",
   "execution_count": 30,
   "id": "4044f1ab-b02d-4cf2-9357-16b9d4cc5ce3",
   "metadata": {
    "tags": []
   },
   "outputs": [],
   "source": [
    "df2['desc length'] = df2['desc'].apply(len)"
   ]
  },
  {
   "cell_type": "code",
   "execution_count": 31,
   "id": "b893f728-3e57-40cd-b385-bdda3b9c82ee",
   "metadata": {
    "tags": []
   },
   "outputs": [
    {
     "data": {
      "text/html": [
       "<div>\n",
       "<style scoped>\n",
       "    .dataframe tbody tr th:only-of-type {\n",
       "        vertical-align: middle;\n",
       "    }\n",
       "\n",
       "    .dataframe tbody tr th {\n",
       "        vertical-align: top;\n",
       "    }\n",
       "\n",
       "    .dataframe thead th {\n",
       "        text-align: right;\n",
       "    }\n",
       "</style>\n",
       "<table border=\"1\" class=\"dataframe\">\n",
       "  <thead>\n",
       "    <tr style=\"text-align: right;\">\n",
       "      <th></th>\n",
       "      <th>desc</th>\n",
       "      <th>desc length</th>\n",
       "    </tr>\n",
       "  </thead>\n",
       "  <tbody>\n",
       "    <tr>\n",
       "      <th>0</th>\n",
       "      <td>my name is vivek...</td>\n",
       "      <td>50</td>\n",
       "    </tr>\n",
       "  </tbody>\n",
       "</table>\n",
       "</div>"
      ],
      "text/plain": [
       "                  desc  desc length\n",
       "0  my name is vivek...           50"
      ]
     },
     "execution_count": 31,
     "metadata": {},
     "output_type": "execute_result"
    }
   ],
   "source": [
    "df2"
   ]
  },
  {
   "cell_type": "code",
   "execution_count": 32,
   "id": "ee6568d0-61a7-4fd0-82ac-b230a163e466",
   "metadata": {
    "tags": []
   },
   "outputs": [
    {
     "data": {
      "text/plain": [
       "['I', 'am', 'going', 'to', 'village', 'for', 'vacation']"
      ]
     },
     "execution_count": 32,
     "metadata": {},
     "output_type": "execute_result"
    }
   ],
   "source": [
    "l = 'I am going to village for vacation'\n",
    "l.split()"
   ]
  },
  {
   "cell_type": "code",
   "execution_count": 33,
   "id": "d0fb1d3f-ac40-4d2a-9e74-e60b11d82239",
   "metadata": {
    "tags": []
   },
   "outputs": [
    {
     "data": {
      "text/plain": [
       "7"
      ]
     },
     "execution_count": 33,
     "metadata": {},
     "output_type": "execute_result"
    }
   ],
   "source": [
    "len(l.split())"
   ]
  },
  {
   "cell_type": "code",
   "execution_count": 34,
   "id": "d0b3a8ed-b9f3-4827-947b-bbda4508ffcf",
   "metadata": {
    "tags": []
   },
   "outputs": [],
   "source": [
    "df2['word count'] = df2['desc'].apply(lambda x:len(x.split()))"
   ]
  },
  {
   "cell_type": "code",
   "execution_count": 35,
   "id": "60cf8ec5-3a1c-41ce-bb61-68c215cacf15",
   "metadata": {
    "tags": []
   },
   "outputs": [
    {
     "data": {
      "text/html": [
       "<div>\n",
       "<style scoped>\n",
       "    .dataframe tbody tr th:only-of-type {\n",
       "        vertical-align: middle;\n",
       "    }\n",
       "\n",
       "    .dataframe tbody tr th {\n",
       "        vertical-align: top;\n",
       "    }\n",
       "\n",
       "    .dataframe thead th {\n",
       "        text-align: right;\n",
       "    }\n",
       "</style>\n",
       "<table border=\"1\" class=\"dataframe\">\n",
       "  <thead>\n",
       "    <tr style=\"text-align: right;\">\n",
       "      <th></th>\n",
       "      <th>desc</th>\n",
       "      <th>desc length</th>\n",
       "      <th>word count</th>\n",
       "    </tr>\n",
       "  </thead>\n",
       "  <tbody>\n",
       "    <tr>\n",
       "      <th>0</th>\n",
       "      <td>my name is vivek...</td>\n",
       "      <td>50</td>\n",
       "      <td>11</td>\n",
       "    </tr>\n",
       "  </tbody>\n",
       "</table>\n",
       "</div>"
      ],
      "text/plain": [
       "                  desc  desc length  word count\n",
       "0  my name is vivek...           50          11"
      ]
     },
     "execution_count": 35,
     "metadata": {},
     "output_type": "execute_result"
    }
   ],
   "source": [
    "df2"
   ]
  },
  {
   "cell_type": "code",
   "execution_count": 36,
   "id": "93bd01b8-d30f-45fc-be48-b01489223971",
   "metadata": {},
   "outputs": [
    {
     "data": {
      "text/html": [
       "<div>\n",
       "<style scoped>\n",
       "    .dataframe tbody tr th:only-of-type {\n",
       "        vertical-align: middle;\n",
       "    }\n",
       "\n",
       "    .dataframe tbody tr th {\n",
       "        vertical-align: top;\n",
       "    }\n",
       "\n",
       "    .dataframe thead th {\n",
       "        text-align: right;\n",
       "    }\n",
       "</style>\n",
       "<table border=\"1\" class=\"dataframe\">\n",
       "  <thead>\n",
       "    <tr style=\"text-align: right;\">\n",
       "      <th></th>\n",
       "      <th>name</th>\n",
       "      <th>age</th>\n",
       "      <th>roll no</th>\n",
       "      <th>student id</th>\n",
       "      <th>new age</th>\n",
       "      <th>name length</th>\n",
       "      <th>age status</th>\n",
       "    </tr>\n",
       "  </thead>\n",
       "  <tbody>\n",
       "    <tr>\n",
       "      <th>0</th>\n",
       "      <td>vivek</td>\n",
       "      <td>18</td>\n",
       "      <td>45</td>\n",
       "      <td>748</td>\n",
       "      <td>20</td>\n",
       "      <td>5</td>\n",
       "      <td>teen</td>\n",
       "    </tr>\n",
       "    <tr>\n",
       "      <th>1</th>\n",
       "      <td>ankit</td>\n",
       "      <td>19</td>\n",
       "      <td>12</td>\n",
       "      <td>934</td>\n",
       "      <td>21</td>\n",
       "      <td>5</td>\n",
       "      <td>adult</td>\n",
       "    </tr>\n",
       "    <tr>\n",
       "      <th>2</th>\n",
       "      <td>bhavesh</td>\n",
       "      <td>21</td>\n",
       "      <td>8</td>\n",
       "      <td>174</td>\n",
       "      <td>23</td>\n",
       "      <td>7</td>\n",
       "      <td>adult</td>\n",
       "    </tr>\n",
       "    <tr>\n",
       "      <th>3</th>\n",
       "      <td>golu</td>\n",
       "      <td>17</td>\n",
       "      <td>23</td>\n",
       "      <td>927</td>\n",
       "      <td>19</td>\n",
       "      <td>4</td>\n",
       "      <td>teen</td>\n",
       "    </tr>\n",
       "  </tbody>\n",
       "</table>\n",
       "</div>"
      ],
      "text/plain": [
       "      name  age  roll no  student id  new age  name length age status\n",
       "0    vivek   18       45         748       20            5       teen\n",
       "1    ankit   19       12         934       21            5      adult\n",
       "2  bhavesh   21        8         174       23            7      adult\n",
       "3     golu   17       23         927       19            4       teen"
      ]
     },
     "execution_count": 36,
     "metadata": {},
     "output_type": "execute_result"
    }
   ],
   "source": [
    "df"
   ]
  },
  {
   "cell_type": "code",
   "execution_count": 40,
   "id": "79e73523-296f-4a5b-b1ad-8b8486439864",
   "metadata": {
    "tags": []
   },
   "outputs": [
    {
     "data": {
      "text/plain": [
       "18.75"
      ]
     },
     "execution_count": 40,
     "metadata": {},
     "output_type": "execute_result"
    }
   ],
   "source": [
    "df['age'].mean()"
   ]
  },
  {
   "cell_type": "code",
   "execution_count": 41,
   "id": "a42b6ebd-333b-4382-8e19-c05fa21d1bbd",
   "metadata": {
    "tags": []
   },
   "outputs": [
    {
     "data": {
      "text/plain": [
       "18.5"
      ]
     },
     "execution_count": 41,
     "metadata": {},
     "output_type": "execute_result"
    }
   ],
   "source": [
    "df['age'].median()"
   ]
  },
  {
   "cell_type": "code",
   "execution_count": 42,
   "id": "4fff5370-55f3-4c32-a1dd-ff125b031b1e",
   "metadata": {
    "tags": []
   },
   "outputs": [
    {
     "data": {
      "text/plain": [
       "0    17\n",
       "1    18\n",
       "2    19\n",
       "3    21\n",
       "Name: age, dtype: int64"
      ]
     },
     "execution_count": 42,
     "metadata": {},
     "output_type": "execute_result"
    }
   ],
   "source": [
    "df['age'].mode()"
   ]
  },
  {
   "cell_type": "code",
   "execution_count": 43,
   "id": "632ba2b0-3946-48e5-ae72-b62b65abff12",
   "metadata": {
    "tags": []
   },
   "outputs": [
    {
     "data": {
      "text/plain": [
       "2.9166666666666665"
      ]
     },
     "execution_count": 43,
     "metadata": {},
     "output_type": "execute_result"
    }
   ],
   "source": [
    "df['age'].var()"
   ]
  },
  {
   "cell_type": "code",
   "execution_count": 44,
   "id": "5a6ada7c-174f-422a-bce2-1514612236cc",
   "metadata": {
    "tags": []
   },
   "outputs": [
    {
     "data": {
      "text/plain": [
       "1.707825127659933"
      ]
     },
     "execution_count": 44,
     "metadata": {},
     "output_type": "execute_result"
    }
   ],
   "source": [
    "df['age'].std()"
   ]
  },
  {
   "cell_type": "code",
   "execution_count": 45,
   "id": "ef4af2e3-0093-40df-be21-dd2705223108",
   "metadata": {
    "tags": []
   },
   "outputs": [
    {
     "data": {
      "text/plain": [
       "75"
      ]
     },
     "execution_count": 45,
     "metadata": {},
     "output_type": "execute_result"
    }
   ],
   "source": [
    "df['age'].sum()"
   ]
  },
  {
   "cell_type": "code",
   "execution_count": 46,
   "id": "d0432675-c23e-4c31-b35f-814044faa2b2",
   "metadata": {
    "tags": []
   },
   "outputs": [
    {
     "data": {
      "text/plain": [
       "17"
      ]
     },
     "execution_count": 46,
     "metadata": {},
     "output_type": "execute_result"
    }
   ],
   "source": [
    "df['age'].min()"
   ]
  },
  {
   "cell_type": "code",
   "execution_count": 47,
   "id": "4efec84b-cca0-44f6-9d63-92b4c9c06d03",
   "metadata": {
    "tags": []
   },
   "outputs": [
    {
     "data": {
      "text/plain": [
       "21"
      ]
     },
     "execution_count": 47,
     "metadata": {},
     "output_type": "execute_result"
    }
   ],
   "source": [
    "df['age'].max()"
   ]
  },
  {
   "cell_type": "code",
   "execution_count": 48,
   "id": "4c836fd8-0096-4b1c-bffe-8711916c2220",
   "metadata": {
    "tags": []
   },
   "outputs": [],
   "source": [
    "df3 = pd.DataFrame({\n",
    "                'num':[1,3,2,5,4,6,4]\n",
    "})"
   ]
  },
  {
   "cell_type": "code",
   "execution_count": 49,
   "id": "7dbd9fc9-35fa-4449-94bb-2c859e66a104",
   "metadata": {
    "tags": []
   },
   "outputs": [
    {
     "data": {
      "text/html": [
       "<div>\n",
       "<style scoped>\n",
       "    .dataframe tbody tr th:only-of-type {\n",
       "        vertical-align: middle;\n",
       "    }\n",
       "\n",
       "    .dataframe tbody tr th {\n",
       "        vertical-align: top;\n",
       "    }\n",
       "\n",
       "    .dataframe thead th {\n",
       "        text-align: right;\n",
       "    }\n",
       "</style>\n",
       "<table border=\"1\" class=\"dataframe\">\n",
       "  <thead>\n",
       "    <tr style=\"text-align: right;\">\n",
       "      <th></th>\n",
       "      <th>num</th>\n",
       "    </tr>\n",
       "  </thead>\n",
       "  <tbody>\n",
       "    <tr>\n",
       "      <th>0</th>\n",
       "      <td>1</td>\n",
       "    </tr>\n",
       "    <tr>\n",
       "      <th>1</th>\n",
       "      <td>3</td>\n",
       "    </tr>\n",
       "    <tr>\n",
       "      <th>2</th>\n",
       "      <td>2</td>\n",
       "    </tr>\n",
       "    <tr>\n",
       "      <th>3</th>\n",
       "      <td>5</td>\n",
       "    </tr>\n",
       "    <tr>\n",
       "      <th>4</th>\n",
       "      <td>4</td>\n",
       "    </tr>\n",
       "    <tr>\n",
       "      <th>5</th>\n",
       "      <td>6</td>\n",
       "    </tr>\n",
       "    <tr>\n",
       "      <th>6</th>\n",
       "      <td>4</td>\n",
       "    </tr>\n",
       "  </tbody>\n",
       "</table>\n",
       "</div>"
      ],
      "text/plain": [
       "   num\n",
       "0    1\n",
       "1    3\n",
       "2    2\n",
       "3    5\n",
       "4    4\n",
       "5    6\n",
       "6    4"
      ]
     },
     "execution_count": 49,
     "metadata": {},
     "output_type": "execute_result"
    }
   ],
   "source": [
    "df3"
   ]
  },
  {
   "cell_type": "code",
   "execution_count": 52,
   "id": "633c3eef-07ab-40d2-bc49-f0b6f5aa829f",
   "metadata": {
    "tags": []
   },
   "outputs": [
    {
     "data": {
      "text/plain": [
       "0    1.0\n",
       "1    3.0\n",
       "2    2.0\n",
       "3    5.0\n",
       "4    4.0\n",
       "5    6.0\n",
       "6    4.0\n",
       "Name: num, dtype: float64"
      ]
     },
     "execution_count": 52,
     "metadata": {},
     "output_type": "execute_result"
    }
   ],
   "source": [
    "df3['num'].rolling(window=1).mean()"
   ]
  },
  {
   "cell_type": "code",
   "execution_count": 56,
   "id": "f097d24b-2f41-464f-a5d5-de7299326101",
   "metadata": {
    "tags": []
   },
   "outputs": [
    {
     "data": {
      "text/plain": [
       "0    NaN\n",
       "1    2.0\n",
       "2    2.5\n",
       "3    3.5\n",
       "4    4.5\n",
       "5    5.0\n",
       "6    5.0\n",
       "Name: num, dtype: float64"
      ]
     },
     "execution_count": 56,
     "metadata": {},
     "output_type": "execute_result"
    }
   ],
   "source": [
    "df3['num'].rolling(window=2).mean() "
   ]
  },
  {
   "cell_type": "code",
   "execution_count": 57,
   "id": "1666f866-e8f4-4848-a90d-5cb4fd187f3b",
   "metadata": {
    "tags": []
   },
   "outputs": [
    {
     "data": {
      "text/plain": [
       "0         NaN\n",
       "1         NaN\n",
       "2    2.000000\n",
       "3    3.333333\n",
       "4    3.666667\n",
       "5    5.000000\n",
       "6    4.666667\n",
       "Name: num, dtype: float64"
      ]
     },
     "execution_count": 57,
     "metadata": {},
     "output_type": "execute_result"
    }
   ],
   "source": [
    "df3['num'].rolling(window=3).mean()"
   ]
  },
  {
   "cell_type": "code",
   "execution_count": null,
   "id": "015b03aa-1cb4-405a-9956-8ff56892c359",
   "metadata": {
    "tags": []
   },
   "outputs": [],
   "source": []
  },
  {
   "cell_type": "code",
   "execution_count": null,
   "id": "2eaccaf6-a392-423a-90c3-0afdcdeac622",
   "metadata": {},
   "outputs": [],
   "source": []
  }
 ],
 "metadata": {
  "kernelspec": {
   "display_name": "Python 3 (ipykernel)",
   "language": "python",
   "name": "python3"
  },
  "language_info": {
   "codemirror_mode": {
    "name": "ipython",
    "version": 3
   },
   "file_extension": ".py",
   "mimetype": "text/x-python",
   "name": "python",
   "nbconvert_exporter": "python",
   "pygments_lexer": "ipython3",
   "version": "3.10.7"
  }
 },
 "nbformat": 4,
 "nbformat_minor": 5
}
