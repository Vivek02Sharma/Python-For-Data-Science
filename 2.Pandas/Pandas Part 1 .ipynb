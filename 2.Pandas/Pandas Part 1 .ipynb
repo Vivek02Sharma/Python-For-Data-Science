{
 "cells": [
  {
   "cell_type": "code",
   "execution_count": 1,
   "id": "f166356f-4909-4d09-8f98-7e894c872c07",
   "metadata": {
    "tags": []
   },
   "outputs": [],
   "source": [
    "import pandas as pd"
   ]
  },
  {
   "cell_type": "code",
   "execution_count": 2,
   "id": "01bd0026-bbae-4b0f-855f-de38dd78a081",
   "metadata": {
    "tags": []
   },
   "outputs": [],
   "source": [
    "df = pd.read_excel(\"StudentDetails_2022-2023_BACHELOR OF SCIENCE _ INFORMATION TECHNOLOGY - 1.xlsx\")"
   ]
  },
  {
   "cell_type": "code",
   "execution_count": 3,
   "id": "6dbbf2c6-8fec-4ab5-8768-99813b008a86",
   "metadata": {
    "tags": []
   },
   "outputs": [
    {
     "data": {
      "text/plain": [
       "pandas.core.frame.DataFrame"
      ]
     },
     "execution_count": 3,
     "metadata": {},
     "output_type": "execute_result"
    }
   ],
   "source": [
    "type(df)"
   ]
  },
  {
   "cell_type": "code",
   "execution_count": 4,
   "id": "db3b93ea-3b52-4fbe-814c-02f726840fba",
   "metadata": {
    "tags": []
   },
   "outputs": [
    {
     "data": {
      "text/html": [
       "<div>\n",
       "<style scoped>\n",
       "    .dataframe tbody tr th:only-of-type {\n",
       "        vertical-align: middle;\n",
       "    }\n",
       "\n",
       "    .dataframe tbody tr th {\n",
       "        vertical-align: top;\n",
       "    }\n",
       "\n",
       "    .dataframe thead th {\n",
       "        text-align: right;\n",
       "    }\n",
       "</style>\n",
       "<table border=\"1\" class=\"dataframe\">\n",
       "  <thead>\n",
       "    <tr style=\"text-align: right;\">\n",
       "      <th></th>\n",
       "      <th>StudentId</th>\n",
       "      <th>StudentNameWithMotherName</th>\n",
       "      <th>StudentNumber</th>\n",
       "      <th>RegistrationId</th>\n",
       "      <th>EnrollmentNumber</th>\n",
       "      <th>RollNumber</th>\n",
       "      <th>Prn no</th>\n",
       "    </tr>\n",
       "  </thead>\n",
       "  <tbody>\n",
       "    <tr>\n",
       "      <th>0</th>\n",
       "      <td>3924705</td>\n",
       "      <td>ABHANG PRANAY SHASHIKANT SUVARNA</td>\n",
       "      <td>4453</td>\n",
       "      <td>1334404</td>\n",
       "      <td>22071002</td>\n",
       "      <td>229001</td>\n",
       "      <td>2022016401586151</td>\n",
       "    </tr>\n",
       "    <tr>\n",
       "      <th>1</th>\n",
       "      <td>4259073</td>\n",
       "      <td>ACHARY ARJUN GOPALAKRISHNAN SUNIMOL</td>\n",
       "      <td>4949</td>\n",
       "      <td>1161702</td>\n",
       "      <td>22071151</td>\n",
       "      <td>229179</td>\n",
       "      <td>2022016401597616</td>\n",
       "    </tr>\n",
       "    <tr>\n",
       "      <th>2</th>\n",
       "      <td>3920578</td>\n",
       "      <td>ADEP VAMSHI VARAIAH PADMA</td>\n",
       "      <td>4419</td>\n",
       "      <td>1329568</td>\n",
       "      <td>22071003</td>\n",
       "      <td>229002</td>\n",
       "      <td>2022016401600516</td>\n",
       "    </tr>\n",
       "    <tr>\n",
       "      <th>3</th>\n",
       "      <td>3882827</td>\n",
       "      <td>AIWALE SWAPNIL RAGHU JAYSHREE</td>\n",
       "      <td>4071</td>\n",
       "      <td>1219147</td>\n",
       "      <td>22071004</td>\n",
       "      <td>229003</td>\n",
       "      <td>2022016401595173</td>\n",
       "    </tr>\n",
       "    <tr>\n",
       "      <th>4</th>\n",
       "      <td>3835941</td>\n",
       "      <td>AMANCHA SNEHA ANJANEYULU RAMADEVI</td>\n",
       "      <td>3677</td>\n",
       "      <td>1286619</td>\n",
       "      <td>22071005</td>\n",
       "      <td>229004</td>\n",
       "      <td>2022016401590535</td>\n",
       "    </tr>\n",
       "  </tbody>\n",
       "</table>\n",
       "</div>"
      ],
      "text/plain": [
       "   StudentId            StudentNameWithMotherName  StudentNumber  \\\n",
       "0    3924705     ABHANG PRANAY SHASHIKANT SUVARNA           4453   \n",
       "1    4259073  ACHARY ARJUN GOPALAKRISHNAN SUNIMOL           4949   \n",
       "2    3920578            ADEP VAMSHI VARAIAH PADMA           4419   \n",
       "3    3882827        AIWALE SWAPNIL RAGHU JAYSHREE           4071   \n",
       "4    3835941    AMANCHA SNEHA ANJANEYULU RAMADEVI           3677   \n",
       "\n",
       "   RegistrationId  EnrollmentNumber  RollNumber            Prn no  \n",
       "0         1334404          22071002      229001  2022016401586151  \n",
       "1         1161702          22071151      229179  2022016401597616  \n",
       "2         1329568          22071003      229002  2022016401600516  \n",
       "3         1219147          22071004      229003  2022016401595173  \n",
       "4         1286619          22071005      229004  2022016401590535  "
      ]
     },
     "execution_count": 4,
     "metadata": {},
     "output_type": "execute_result"
    }
   ],
   "source": [
    "df.head() # it will give 1st five record"
   ]
  },
  {
   "cell_type": "code",
   "execution_count": 5,
   "id": "597fbfa1-40c8-4e52-b7e4-71aa8f9002de",
   "metadata": {
    "tags": []
   },
   "outputs": [
    {
     "data": {
      "text/html": [
       "<div>\n",
       "<style scoped>\n",
       "    .dataframe tbody tr th:only-of-type {\n",
       "        vertical-align: middle;\n",
       "    }\n",
       "\n",
       "    .dataframe tbody tr th {\n",
       "        vertical-align: top;\n",
       "    }\n",
       "\n",
       "    .dataframe thead th {\n",
       "        text-align: right;\n",
       "    }\n",
       "</style>\n",
       "<table border=\"1\" class=\"dataframe\">\n",
       "  <thead>\n",
       "    <tr style=\"text-align: right;\">\n",
       "      <th></th>\n",
       "      <th>StudentId</th>\n",
       "      <th>StudentNameWithMotherName</th>\n",
       "      <th>StudentNumber</th>\n",
       "      <th>RegistrationId</th>\n",
       "      <th>EnrollmentNumber</th>\n",
       "      <th>RollNumber</th>\n",
       "      <th>Prn no</th>\n",
       "    </tr>\n",
       "  </thead>\n",
       "  <tbody>\n",
       "    <tr>\n",
       "      <th>0</th>\n",
       "      <td>3924705</td>\n",
       "      <td>ABHANG PRANAY SHASHIKANT SUVARNA</td>\n",
       "      <td>4453</td>\n",
       "      <td>1334404</td>\n",
       "      <td>22071002</td>\n",
       "      <td>229001</td>\n",
       "      <td>2022016401586151</td>\n",
       "    </tr>\n",
       "    <tr>\n",
       "      <th>1</th>\n",
       "      <td>4259073</td>\n",
       "      <td>ACHARY ARJUN GOPALAKRISHNAN SUNIMOL</td>\n",
       "      <td>4949</td>\n",
       "      <td>1161702</td>\n",
       "      <td>22071151</td>\n",
       "      <td>229179</td>\n",
       "      <td>2022016401597616</td>\n",
       "    </tr>\n",
       "    <tr>\n",
       "      <th>2</th>\n",
       "      <td>3920578</td>\n",
       "      <td>ADEP VAMSHI VARAIAH PADMA</td>\n",
       "      <td>4419</td>\n",
       "      <td>1329568</td>\n",
       "      <td>22071003</td>\n",
       "      <td>229002</td>\n",
       "      <td>2022016401600516</td>\n",
       "    </tr>\n",
       "  </tbody>\n",
       "</table>\n",
       "</div>"
      ],
      "text/plain": [
       "   StudentId            StudentNameWithMotherName  StudentNumber  \\\n",
       "0    3924705     ABHANG PRANAY SHASHIKANT SUVARNA           4453   \n",
       "1    4259073  ACHARY ARJUN GOPALAKRISHNAN SUNIMOL           4949   \n",
       "2    3920578            ADEP VAMSHI VARAIAH PADMA           4419   \n",
       "\n",
       "   RegistrationId  EnrollmentNumber  RollNumber            Prn no  \n",
       "0         1334404          22071002      229001  2022016401586151  \n",
       "1         1161702          22071151      229179  2022016401597616  \n",
       "2         1329568          22071003      229002  2022016401600516  "
      ]
     },
     "execution_count": 5,
     "metadata": {},
     "output_type": "execute_result"
    }
   ],
   "source": [
    "df.head(3) #also you can select data"
   ]
  },
  {
   "cell_type": "code",
   "execution_count": 6,
   "id": "8c38753a-3862-41fc-a94c-1dbf6ac558c0",
   "metadata": {
    "tags": []
   },
   "outputs": [
    {
     "data": {
      "text/html": [
       "<div>\n",
       "<style scoped>\n",
       "    .dataframe tbody tr th:only-of-type {\n",
       "        vertical-align: middle;\n",
       "    }\n",
       "\n",
       "    .dataframe tbody tr th {\n",
       "        vertical-align: top;\n",
       "    }\n",
       "\n",
       "    .dataframe thead th {\n",
       "        text-align: right;\n",
       "    }\n",
       "</style>\n",
       "<table border=\"1\" class=\"dataframe\">\n",
       "  <thead>\n",
       "    <tr style=\"text-align: right;\">\n",
       "      <th></th>\n",
       "      <th>StudentId</th>\n",
       "      <th>StudentNameWithMotherName</th>\n",
       "      <th>StudentNumber</th>\n",
       "      <th>RegistrationId</th>\n",
       "      <th>EnrollmentNumber</th>\n",
       "      <th>RollNumber</th>\n",
       "      <th>Prn no</th>\n",
       "    </tr>\n",
       "  </thead>\n",
       "  <tbody>\n",
       "    <tr>\n",
       "      <th>135</th>\n",
       "      <td>3873260</td>\n",
       "      <td>YADAV MANISHA SURESH JAIDEVI</td>\n",
       "      <td>3940</td>\n",
       "      <td>1304880</td>\n",
       "      <td>22071130</td>\n",
       "      <td>229157</td>\n",
       "      <td>2022016401605765</td>\n",
       "    </tr>\n",
       "    <tr>\n",
       "      <th>136</th>\n",
       "      <td>3890175</td>\n",
       "      <td>YADAV NITU DEVMUNI MIRA</td>\n",
       "      <td>4176</td>\n",
       "      <td>1228600</td>\n",
       "      <td>22071131</td>\n",
       "      <td>229158</td>\n",
       "      <td>2022016401609593</td>\n",
       "    </tr>\n",
       "    <tr>\n",
       "      <th>137</th>\n",
       "      <td>3829884</td>\n",
       "      <td>YADAV PINKI SATYANARAYAN SUGI</td>\n",
       "      <td>3586</td>\n",
       "      <td>1279757</td>\n",
       "      <td>22071132</td>\n",
       "      <td>229159</td>\n",
       "      <td>2022016401605966</td>\n",
       "    </tr>\n",
       "    <tr>\n",
       "      <th>138</th>\n",
       "      <td>3918303</td>\n",
       "      <td>YADAV SACHIN SANTOSH POONAM</td>\n",
       "      <td>4364</td>\n",
       "      <td>1221210</td>\n",
       "      <td>22071133</td>\n",
       "      <td>229160</td>\n",
       "      <td>2022016401608214</td>\n",
       "    </tr>\n",
       "    <tr>\n",
       "      <th>139</th>\n",
       "      <td>3882825</td>\n",
       "      <td>YADAV SURAJ RAMSAMUJH NIRMALA</td>\n",
       "      <td>4069</td>\n",
       "      <td>1205029</td>\n",
       "      <td>22071134</td>\n",
       "      <td>229161</td>\n",
       "      <td>2022016401594765</td>\n",
       "    </tr>\n",
       "  </tbody>\n",
       "</table>\n",
       "</div>"
      ],
      "text/plain": [
       "     StudentId      StudentNameWithMotherName  StudentNumber  RegistrationId  \\\n",
       "135    3873260   YADAV MANISHA SURESH JAIDEVI           3940         1304880   \n",
       "136    3890175        YADAV NITU DEVMUNI MIRA           4176         1228600   \n",
       "137    3829884  YADAV PINKI SATYANARAYAN SUGI           3586         1279757   \n",
       "138    3918303    YADAV SACHIN SANTOSH POONAM           4364         1221210   \n",
       "139    3882825  YADAV SURAJ RAMSAMUJH NIRMALA           4069         1205029   \n",
       "\n",
       "     EnrollmentNumber  RollNumber            Prn no  \n",
       "135          22071130      229157  2022016401605765  \n",
       "136          22071131      229158  2022016401609593  \n",
       "137          22071132      229159  2022016401605966  \n",
       "138          22071133      229160  2022016401608214  \n",
       "139          22071134      229161  2022016401594765  "
      ]
     },
     "execution_count": 6,
     "metadata": {},
     "output_type": "execute_result"
    }
   ],
   "source": [
    "df.tail() # return last five record default"
   ]
  },
  {
   "cell_type": "code",
   "execution_count": 7,
   "id": "d741b2e2-f0ca-4088-a3b3-8b4844e4e12b",
   "metadata": {
    "tags": []
   },
   "outputs": [
    {
     "data": {
      "text/html": [
       "<div>\n",
       "<style scoped>\n",
       "    .dataframe tbody tr th:only-of-type {\n",
       "        vertical-align: middle;\n",
       "    }\n",
       "\n",
       "    .dataframe tbody tr th {\n",
       "        vertical-align: top;\n",
       "    }\n",
       "\n",
       "    .dataframe thead th {\n",
       "        text-align: right;\n",
       "    }\n",
       "</style>\n",
       "<table border=\"1\" class=\"dataframe\">\n",
       "  <thead>\n",
       "    <tr style=\"text-align: right;\">\n",
       "      <th></th>\n",
       "      <th>StudentId</th>\n",
       "      <th>StudentNameWithMotherName</th>\n",
       "      <th>StudentNumber</th>\n",
       "      <th>RegistrationId</th>\n",
       "      <th>EnrollmentNumber</th>\n",
       "      <th>RollNumber</th>\n",
       "      <th>Prn no</th>\n",
       "    </tr>\n",
       "  </thead>\n",
       "  <tbody>\n",
       "    <tr>\n",
       "      <th>134</th>\n",
       "      <td>3889417</td>\n",
       "      <td>YADAV LAXMI CHANDRIKA NAGESHWARIDEVI</td>\n",
       "      <td>4166</td>\n",
       "      <td>1142868</td>\n",
       "      <td>22071129</td>\n",
       "      <td>229156</td>\n",
       "      <td>2022016401609016</td>\n",
       "    </tr>\n",
       "    <tr>\n",
       "      <th>135</th>\n",
       "      <td>3873260</td>\n",
       "      <td>YADAV MANISHA SURESH JAIDEVI</td>\n",
       "      <td>3940</td>\n",
       "      <td>1304880</td>\n",
       "      <td>22071130</td>\n",
       "      <td>229157</td>\n",
       "      <td>2022016401605765</td>\n",
       "    </tr>\n",
       "    <tr>\n",
       "      <th>136</th>\n",
       "      <td>3890175</td>\n",
       "      <td>YADAV NITU DEVMUNI MIRA</td>\n",
       "      <td>4176</td>\n",
       "      <td>1228600</td>\n",
       "      <td>22071131</td>\n",
       "      <td>229158</td>\n",
       "      <td>2022016401609593</td>\n",
       "    </tr>\n",
       "    <tr>\n",
       "      <th>137</th>\n",
       "      <td>3829884</td>\n",
       "      <td>YADAV PINKI SATYANARAYAN SUGI</td>\n",
       "      <td>3586</td>\n",
       "      <td>1279757</td>\n",
       "      <td>22071132</td>\n",
       "      <td>229159</td>\n",
       "      <td>2022016401605966</td>\n",
       "    </tr>\n",
       "    <tr>\n",
       "      <th>138</th>\n",
       "      <td>3918303</td>\n",
       "      <td>YADAV SACHIN SANTOSH POONAM</td>\n",
       "      <td>4364</td>\n",
       "      <td>1221210</td>\n",
       "      <td>22071133</td>\n",
       "      <td>229160</td>\n",
       "      <td>2022016401608214</td>\n",
       "    </tr>\n",
       "    <tr>\n",
       "      <th>139</th>\n",
       "      <td>3882825</td>\n",
       "      <td>YADAV SURAJ RAMSAMUJH NIRMALA</td>\n",
       "      <td>4069</td>\n",
       "      <td>1205029</td>\n",
       "      <td>22071134</td>\n",
       "      <td>229161</td>\n",
       "      <td>2022016401594765</td>\n",
       "    </tr>\n",
       "  </tbody>\n",
       "</table>\n",
       "</div>"
      ],
      "text/plain": [
       "     StudentId             StudentNameWithMotherName  StudentNumber  \\\n",
       "134    3889417  YADAV LAXMI CHANDRIKA NAGESHWARIDEVI           4166   \n",
       "135    3873260          YADAV MANISHA SURESH JAIDEVI           3940   \n",
       "136    3890175               YADAV NITU DEVMUNI MIRA           4176   \n",
       "137    3829884         YADAV PINKI SATYANARAYAN SUGI           3586   \n",
       "138    3918303           YADAV SACHIN SANTOSH POONAM           4364   \n",
       "139    3882825         YADAV SURAJ RAMSAMUJH NIRMALA           4069   \n",
       "\n",
       "     RegistrationId  EnrollmentNumber  RollNumber            Prn no  \n",
       "134         1142868          22071129      229156  2022016401609016  \n",
       "135         1304880          22071130      229157  2022016401605765  \n",
       "136         1228600          22071131      229158  2022016401609593  \n",
       "137         1279757          22071132      229159  2022016401605966  \n",
       "138         1221210          22071133      229160  2022016401608214  \n",
       "139         1205029          22071134      229161  2022016401594765  "
      ]
     },
     "execution_count": 7,
     "metadata": {},
     "output_type": "execute_result"
    }
   ],
   "source": [
    "df.tail(6) # also you can select data"
   ]
  },
  {
   "cell_type": "code",
   "execution_count": 8,
   "id": "837013d1-c2a5-4356-875f-c40380467fde",
   "metadata": {
    "tags": []
   },
   "outputs": [
    {
     "data": {
      "text/plain": [
       "Index(['StudentId', 'StudentNameWithMotherName', 'StudentNumber',\n",
       "       'RegistrationId', 'EnrollmentNumber', 'RollNumber', 'Prn no'],\n",
       "      dtype='object')"
      ]
     },
     "execution_count": 8,
     "metadata": {},
     "output_type": "execute_result"
    }
   ],
   "source": [
    "df.columns # return all columns"
   ]
  },
  {
   "cell_type": "code",
   "execution_count": 9,
   "id": "48d1316c-f1dc-429c-b064-d9a7dd4d0d02",
   "metadata": {
    "tags": []
   },
   "outputs": [
    {
     "data": {
      "text/plain": [
       "['StudentId',\n",
       " 'StudentNameWithMotherName',\n",
       " 'StudentNumber',\n",
       " 'RegistrationId',\n",
       " 'EnrollmentNumber',\n",
       " 'RollNumber',\n",
       " 'Prn no']"
      ]
     },
     "execution_count": 9,
     "metadata": {},
     "output_type": "execute_result"
    }
   ],
   "source": [
    "list(df.columns)"
   ]
  },
  {
   "cell_type": "code",
   "execution_count": 10,
   "id": "8f4509b7-50e1-43f7-be31-d2f1e47eaaf4",
   "metadata": {
    "tags": []
   },
   "outputs": [
    {
     "data": {
      "text/plain": [
       "0         ABHANG PRANAY SHASHIKANT SUVARNA\n",
       "1      ACHARY ARJUN GOPALAKRISHNAN SUNIMOL\n",
       "2                ADEP VAMSHI VARAIAH PADMA\n",
       "3            AIWALE SWAPNIL RAGHU JAYSHREE\n",
       "4        AMANCHA SNEHA ANJANEYULU RAMADEVI\n",
       "                      ...                 \n",
       "135           YADAV MANISHA SURESH JAIDEVI\n",
       "136                YADAV NITU DEVMUNI MIRA\n",
       "137          YADAV PINKI SATYANARAYAN SUGI\n",
       "138            YADAV SACHIN SANTOSH POONAM\n",
       "139          YADAV SURAJ RAMSAMUJH NIRMALA\n",
       "Name: StudentNameWithMotherName, Length: 140, dtype: object"
      ]
     },
     "execution_count": 10,
     "metadata": {},
     "output_type": "execute_result"
    }
   ],
   "source": [
    "df['StudentNameWithMotherName'] # it gives you single column record"
   ]
  },
  {
   "cell_type": "code",
   "execution_count": 11,
   "id": "5b0ceb36-b76b-47af-ba11-97cda3f720d7",
   "metadata": {
    "tags": []
   },
   "outputs": [
    {
     "data": {
      "text/plain": [
       "pandas.core.series.Series"
      ]
     },
     "execution_count": 11,
     "metadata": {},
     "output_type": "execute_result"
    }
   ],
   "source": [
    "type(df['StudentNameWithMotherName']) # single row or column data is know as series"
   ]
  },
  {
   "cell_type": "code",
   "execution_count": 12,
   "id": "fa35dd02-60ed-430b-bd35-6b866d6eed56",
   "metadata": {
    "tags": []
   },
   "outputs": [
    {
     "data": {
      "text/html": [
       "<div>\n",
       "<style scoped>\n",
       "    .dataframe tbody tr th:only-of-type {\n",
       "        vertical-align: middle;\n",
       "    }\n",
       "\n",
       "    .dataframe tbody tr th {\n",
       "        vertical-align: top;\n",
       "    }\n",
       "\n",
       "    .dataframe thead th {\n",
       "        text-align: right;\n",
       "    }\n",
       "</style>\n",
       "<table border=\"1\" class=\"dataframe\">\n",
       "  <thead>\n",
       "    <tr style=\"text-align: right;\">\n",
       "      <th></th>\n",
       "      <th>StudentId</th>\n",
       "      <th>StudentNameWithMotherName</th>\n",
       "      <th>StudentNumber</th>\n",
       "    </tr>\n",
       "  </thead>\n",
       "  <tbody>\n",
       "    <tr>\n",
       "      <th>0</th>\n",
       "      <td>3924705</td>\n",
       "      <td>ABHANG PRANAY SHASHIKANT SUVARNA</td>\n",
       "      <td>4453</td>\n",
       "    </tr>\n",
       "    <tr>\n",
       "      <th>1</th>\n",
       "      <td>4259073</td>\n",
       "      <td>ACHARY ARJUN GOPALAKRISHNAN SUNIMOL</td>\n",
       "      <td>4949</td>\n",
       "    </tr>\n",
       "    <tr>\n",
       "      <th>2</th>\n",
       "      <td>3920578</td>\n",
       "      <td>ADEP VAMSHI VARAIAH PADMA</td>\n",
       "      <td>4419</td>\n",
       "    </tr>\n",
       "    <tr>\n",
       "      <th>3</th>\n",
       "      <td>3882827</td>\n",
       "      <td>AIWALE SWAPNIL RAGHU JAYSHREE</td>\n",
       "      <td>4071</td>\n",
       "    </tr>\n",
       "    <tr>\n",
       "      <th>4</th>\n",
       "      <td>3835941</td>\n",
       "      <td>AMANCHA SNEHA ANJANEYULU RAMADEVI</td>\n",
       "      <td>3677</td>\n",
       "    </tr>\n",
       "    <tr>\n",
       "      <th>...</th>\n",
       "      <td>...</td>\n",
       "      <td>...</td>\n",
       "      <td>...</td>\n",
       "    </tr>\n",
       "    <tr>\n",
       "      <th>135</th>\n",
       "      <td>3873260</td>\n",
       "      <td>YADAV MANISHA SURESH JAIDEVI</td>\n",
       "      <td>3940</td>\n",
       "    </tr>\n",
       "    <tr>\n",
       "      <th>136</th>\n",
       "      <td>3890175</td>\n",
       "      <td>YADAV NITU DEVMUNI MIRA</td>\n",
       "      <td>4176</td>\n",
       "    </tr>\n",
       "    <tr>\n",
       "      <th>137</th>\n",
       "      <td>3829884</td>\n",
       "      <td>YADAV PINKI SATYANARAYAN SUGI</td>\n",
       "      <td>3586</td>\n",
       "    </tr>\n",
       "    <tr>\n",
       "      <th>138</th>\n",
       "      <td>3918303</td>\n",
       "      <td>YADAV SACHIN SANTOSH POONAM</td>\n",
       "      <td>4364</td>\n",
       "    </tr>\n",
       "    <tr>\n",
       "      <th>139</th>\n",
       "      <td>3882825</td>\n",
       "      <td>YADAV SURAJ RAMSAMUJH NIRMALA</td>\n",
       "      <td>4069</td>\n",
       "    </tr>\n",
       "  </tbody>\n",
       "</table>\n",
       "<p>140 rows × 3 columns</p>\n",
       "</div>"
      ],
      "text/plain": [
       "     StudentId            StudentNameWithMotherName  StudentNumber\n",
       "0      3924705     ABHANG PRANAY SHASHIKANT SUVARNA           4453\n",
       "1      4259073  ACHARY ARJUN GOPALAKRISHNAN SUNIMOL           4949\n",
       "2      3920578            ADEP VAMSHI VARAIAH PADMA           4419\n",
       "3      3882827        AIWALE SWAPNIL RAGHU JAYSHREE           4071\n",
       "4      3835941    AMANCHA SNEHA ANJANEYULU RAMADEVI           3677\n",
       "..         ...                                  ...            ...\n",
       "135    3873260         YADAV MANISHA SURESH JAIDEVI           3940\n",
       "136    3890175              YADAV NITU DEVMUNI MIRA           4176\n",
       "137    3829884        YADAV PINKI SATYANARAYAN SUGI           3586\n",
       "138    3918303          YADAV SACHIN SANTOSH POONAM           4364\n",
       "139    3882825        YADAV SURAJ RAMSAMUJH NIRMALA           4069\n",
       "\n",
       "[140 rows x 3 columns]"
      ]
     },
     "execution_count": 12,
     "metadata": {},
     "output_type": "execute_result"
    }
   ],
   "source": [
    "df[['StudentId','StudentNameWithMotherName','StudentNumber']] # in list it gives you multiple records of columns"
   ]
  },
  {
   "cell_type": "code",
   "execution_count": 13,
   "id": "f02ee765-4175-4cf4-9d24-da7205bece3f",
   "metadata": {
    "tags": []
   },
   "outputs": [
    {
     "data": {
      "text/html": [
       "<div>\n",
       "<style scoped>\n",
       "    .dataframe tbody tr th:only-of-type {\n",
       "        vertical-align: middle;\n",
       "    }\n",
       "\n",
       "    .dataframe tbody tr th {\n",
       "        vertical-align: top;\n",
       "    }\n",
       "\n",
       "    .dataframe thead th {\n",
       "        text-align: right;\n",
       "    }\n",
       "</style>\n",
       "<table border=\"1\" class=\"dataframe\">\n",
       "  <thead>\n",
       "    <tr style=\"text-align: right;\">\n",
       "      <th></th>\n",
       "      <th>StudentNameWithMotherName</th>\n",
       "    </tr>\n",
       "  </thead>\n",
       "  <tbody>\n",
       "    <tr>\n",
       "      <th>0</th>\n",
       "      <td>ABHANG PRANAY SHASHIKANT SUVARNA</td>\n",
       "    </tr>\n",
       "    <tr>\n",
       "      <th>1</th>\n",
       "      <td>ACHARY ARJUN GOPALAKRISHNAN SUNIMOL</td>\n",
       "    </tr>\n",
       "    <tr>\n",
       "      <th>2</th>\n",
       "      <td>ADEP VAMSHI VARAIAH PADMA</td>\n",
       "    </tr>\n",
       "    <tr>\n",
       "      <th>3</th>\n",
       "      <td>AIWALE SWAPNIL RAGHU JAYSHREE</td>\n",
       "    </tr>\n",
       "    <tr>\n",
       "      <th>4</th>\n",
       "      <td>AMANCHA SNEHA ANJANEYULU RAMADEVI</td>\n",
       "    </tr>\n",
       "    <tr>\n",
       "      <th>...</th>\n",
       "      <td>...</td>\n",
       "    </tr>\n",
       "    <tr>\n",
       "      <th>135</th>\n",
       "      <td>YADAV MANISHA SURESH JAIDEVI</td>\n",
       "    </tr>\n",
       "    <tr>\n",
       "      <th>136</th>\n",
       "      <td>YADAV NITU DEVMUNI MIRA</td>\n",
       "    </tr>\n",
       "    <tr>\n",
       "      <th>137</th>\n",
       "      <td>YADAV PINKI SATYANARAYAN SUGI</td>\n",
       "    </tr>\n",
       "    <tr>\n",
       "      <th>138</th>\n",
       "      <td>YADAV SACHIN SANTOSH POONAM</td>\n",
       "    </tr>\n",
       "    <tr>\n",
       "      <th>139</th>\n",
       "      <td>YADAV SURAJ RAMSAMUJH NIRMALA</td>\n",
       "    </tr>\n",
       "  </tbody>\n",
       "</table>\n",
       "<p>140 rows × 1 columns</p>\n",
       "</div>"
      ],
      "text/plain": [
       "               StudentNameWithMotherName\n",
       "0       ABHANG PRANAY SHASHIKANT SUVARNA\n",
       "1    ACHARY ARJUN GOPALAKRISHNAN SUNIMOL\n",
       "2              ADEP VAMSHI VARAIAH PADMA\n",
       "3          AIWALE SWAPNIL RAGHU JAYSHREE\n",
       "4      AMANCHA SNEHA ANJANEYULU RAMADEVI\n",
       "..                                   ...\n",
       "135         YADAV MANISHA SURESH JAIDEVI\n",
       "136              YADAV NITU DEVMUNI MIRA\n",
       "137        YADAV PINKI SATYANARAYAN SUGI\n",
       "138          YADAV SACHIN SANTOSH POONAM\n",
       "139        YADAV SURAJ RAMSAMUJH NIRMALA\n",
       "\n",
       "[140 rows x 1 columns]"
      ]
     },
     "execution_count": 13,
     "metadata": {},
     "output_type": "execute_result"
    }
   ],
   "source": [
    "df[['StudentNameWithMotherName']]"
   ]
  },
  {
   "cell_type": "code",
   "execution_count": 14,
   "id": "57ec9042-5a5a-42a3-9907-9c36fc0c83c1",
   "metadata": {
    "tags": []
   },
   "outputs": [
    {
     "data": {
      "text/plain": [
       "pandas.core.frame.DataFrame"
      ]
     },
     "execution_count": 14,
     "metadata": {},
     "output_type": "execute_result"
    }
   ],
   "source": [
    "type(df[['StudentNameWithMotherName']])"
   ]
  },
  {
   "cell_type": "code",
   "execution_count": 15,
   "id": "05b53adc-6653-431a-9faa-2be3abfc2625",
   "metadata": {
    "tags": []
   },
   "outputs": [
    {
     "data": {
      "text/html": [
       "<div>\n",
       "<style scoped>\n",
       "    .dataframe tbody tr th:only-of-type {\n",
       "        vertical-align: middle;\n",
       "    }\n",
       "\n",
       "    .dataframe tbody tr th {\n",
       "        vertical-align: top;\n",
       "    }\n",
       "\n",
       "    .dataframe thead th {\n",
       "        text-align: right;\n",
       "    }\n",
       "</style>\n",
       "<table border=\"1\" class=\"dataframe\">\n",
       "  <thead>\n",
       "    <tr style=\"text-align: right;\">\n",
       "      <th></th>\n",
       "      <th>StudentNameWithMotherName</th>\n",
       "    </tr>\n",
       "  </thead>\n",
       "  <tbody>\n",
       "    <tr>\n",
       "      <th>0</th>\n",
       "      <td>ABHANG PRANAY SHASHIKANT SUVARNA</td>\n",
       "    </tr>\n",
       "    <tr>\n",
       "      <th>1</th>\n",
       "      <td>ACHARY ARJUN GOPALAKRISHNAN SUNIMOL</td>\n",
       "    </tr>\n",
       "    <tr>\n",
       "      <th>2</th>\n",
       "      <td>ADEP VAMSHI VARAIAH PADMA</td>\n",
       "    </tr>\n",
       "    <tr>\n",
       "      <th>3</th>\n",
       "      <td>AIWALE SWAPNIL RAGHU JAYSHREE</td>\n",
       "    </tr>\n",
       "    <tr>\n",
       "      <th>4</th>\n",
       "      <td>AMANCHA SNEHA ANJANEYULU RAMADEVI</td>\n",
       "    </tr>\n",
       "  </tbody>\n",
       "</table>\n",
       "</div>"
      ],
      "text/plain": [
       "             StudentNameWithMotherName\n",
       "0     ABHANG PRANAY SHASHIKANT SUVARNA\n",
       "1  ACHARY ARJUN GOPALAKRISHNAN SUNIMOL\n",
       "2            ADEP VAMSHI VARAIAH PADMA\n",
       "3        AIWALE SWAPNIL RAGHU JAYSHREE\n",
       "4    AMANCHA SNEHA ANJANEYULU RAMADEVI"
      ]
     },
     "execution_count": 15,
     "metadata": {},
     "output_type": "execute_result"
    }
   ],
   "source": [
    "df[['StudentNameWithMotherName']].head()"
   ]
  },
  {
   "cell_type": "code",
   "execution_count": 16,
   "id": "771938ed-17be-4710-ae5e-cdceeba74b4e",
   "metadata": {
    "tags": []
   },
   "outputs": [
    {
     "data": {
      "text/plain": [
       "StudentId                     int64\n",
       "StudentNameWithMotherName    object\n",
       "StudentNumber                 int64\n",
       "RegistrationId                int64\n",
       "EnrollmentNumber              int64\n",
       "RollNumber                    int64\n",
       "Prn no                        int64\n",
       "dtype: object"
      ]
     },
     "execution_count": 16,
     "metadata": {},
     "output_type": "execute_result"
    }
   ],
   "source": [
    "df.dtypes # it gives data type of columns"
   ]
  },
  {
   "cell_type": "code",
   "execution_count": 17,
   "id": "eed0a290-744c-47d9-ab6a-e7b8961a9484",
   "metadata": {
    "tags": []
   },
   "outputs": [],
   "source": [
    "df.to_csv(\"std_details.csv\",index = False) # to save file "
   ]
  },
  {
   "cell_type": "code",
   "execution_count": null,
   "id": "81d10471-41e0-4bee-af77-4a17b11a20f4",
   "metadata": {},
   "outputs": [],
   "source": []
  }
 ],
 "metadata": {
  "kernelspec": {
   "display_name": "Python 3 (ipykernel)",
   "language": "python",
   "name": "python3"
  },
  "language_info": {
   "codemirror_mode": {
    "name": "ipython",
    "version": 3
   },
   "file_extension": ".py",
   "mimetype": "text/x-python",
   "name": "python",
   "nbconvert_exporter": "python",
   "pygments_lexer": "ipython3",
   "version": "3.10.7"
  }
 },
 "nbformat": 4,
 "nbformat_minor": 5
}
