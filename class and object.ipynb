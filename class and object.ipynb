{
 "cells": [
  {
   "cell_type": "markdown",
   "id": "3711f698-a7c8-4e6d-84fc-d49cd21678a0",
   "metadata": {},
   "source": [
    "**Class and Object**"
   ]
  },
  {
   "cell_type": "code",
   "execution_count": 1,
   "id": "5ccd2dcf-c1bf-4d73-9167-582b8a6cd493",
   "metadata": {
    "tags": []
   },
   "outputs": [],
   "source": [
    "class student:\n",
    "    def __init__(self,name,age,student_id):\n",
    "        self.name = name\n",
    "        self.age = age\n",
    "        self.student_id = student_id\n",
    "        \n",
    "    def get_data(self):\n",
    "        return (f\"my name is {self.name} , I am {self.age} year old and My student id is {self.student_id} \")\n",
    "        "
   ]
  },
  {
   "cell_type": "code",
   "execution_count": 2,
   "id": "e9c074df-39c3-44b7-b08e-92ddedba5dd3",
   "metadata": {
    "tags": []
   },
   "outputs": [],
   "source": [
    "s1 = student(\"vivek\",18,\"smart123\")"
   ]
  },
  {
   "cell_type": "code",
   "execution_count": 3,
   "id": "aabae5b5-07f2-44b7-af9e-cf44f711c229",
   "metadata": {
    "tags": []
   },
   "outputs": [
    {
     "data": {
      "text/plain": [
       "'my name is vivek , I am 18 year old and My student id is smart123 '"
      ]
     },
     "execution_count": 3,
     "metadata": {},
     "output_type": "execute_result"
    }
   ],
   "source": [
    "s1.get_data()"
   ]
  },
  {
   "cell_type": "code",
   "execution_count": 4,
   "id": "adce1b57-917c-45c5-89bf-1c5e12617631",
   "metadata": {
    "tags": []
   },
   "outputs": [
    {
     "data": {
      "text/plain": [
       "'vivek'"
      ]
     },
     "execution_count": 4,
     "metadata": {},
     "output_type": "execute_result"
    }
   ],
   "source": [
    "s1.name"
   ]
  },
  {
   "cell_type": "code",
   "execution_count": 5,
   "id": "afb86f72-83ce-497d-bbb5-b2ca0f4db0f4",
   "metadata": {
    "tags": []
   },
   "outputs": [],
   "source": [
    "class person:\n",
    "    def set_data(self,name,phone_number,emp_id):\n",
    "        self.name = name\n",
    "        self.phone_number = phone_number\n",
    "        self.emp_id = emp_id\n",
    "    \n",
    "    def get_data(self):\n",
    "        return self.name,self.phone_number,self.emp_id\n",
    "        "
   ]
  },
  {
   "cell_type": "code",
   "execution_count": 6,
   "id": "76e7c6cd-4743-4f39-835a-c47ecf3db6e1",
   "metadata": {
    "tags": []
   },
   "outputs": [],
   "source": [
    "vivek = person()"
   ]
  },
  {
   "cell_type": "code",
   "execution_count": 7,
   "id": "eaaed83b-459e-4e1a-8d28-1aee3e5f27cf",
   "metadata": {
    "tags": []
   },
   "outputs": [
    {
     "data": {
      "text/plain": [
       "('Vivek', 1234567890, 'smarty123')"
      ]
     },
     "execution_count": 7,
     "metadata": {},
     "output_type": "execute_result"
    }
   ],
   "source": [
    "vivek.set_data(\"Vivek\",1234567890,\"smarty123\")\n",
    "vivek.get_data()"
   ]
  },
  {
   "cell_type": "code",
   "execution_count": null,
   "id": "275f9b93-83a5-4a8e-96b5-6e02784ddc33",
   "metadata": {},
   "outputs": [],
   "source": []
  }
 ],
 "metadata": {
  "kernelspec": {
   "display_name": "Python 3 (ipykernel)",
   "language": "python",
   "name": "python3"
  },
  "language_info": {
   "codemirror_mode": {
    "name": "ipython",
    "version": 3
   },
   "file_extension": ".py",
   "mimetype": "text/x-python",
   "name": "python",
   "nbconvert_exporter": "python",
   "pygments_lexer": "ipython3",
   "version": "3.10.7"
  }
 },
 "nbformat": 4,
 "nbformat_minor": 5
}
