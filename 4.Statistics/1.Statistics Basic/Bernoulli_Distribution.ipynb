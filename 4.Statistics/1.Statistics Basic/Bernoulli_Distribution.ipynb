{
  "nbformat": 4,
  "nbformat_minor": 0,
  "metadata": {
    "colab": {
      "provenance": []
    },
    "kernelspec": {
      "name": "python3",
      "display_name": "Python 3"
    },
    "language_info": {
      "name": "python"
    }
  },
  "cells": [
    {
      "cell_type": "code",
      "execution_count": 14,
      "metadata": {
        "colab": {
          "base_uri": "https://localhost:8080/"
        },
        "id": "sGre4Xk2xitR",
        "outputId": "ac971045-81a5-4826-d93f-c0a48271556f"
      },
      "outputs": [
        {
          "output_type": "stream",
          "name": "stdout",
          "text": [
            "Coin flips: [0 0 0 0 0 0 0 0 1 1]\n",
            "Number of heads: 2\n"
          ]
        }
      ],
      "source": [
        "import numpy as np\n",
        "\n",
        "# Define the probability of heads (success)\n",
        "p = 0.4\n",
        "\n",
        "# Simulate flipping a coin 10 times\n",
        "num_trials = 10\n",
        "coin_flips = np.random.binomial(n=1, p=p, size=num_trials)\n",
        "\n",
        "# Count the number of heads (successes)\n",
        "num_heads = np.sum(coin_flips)\n",
        "\n",
        "# Print the results\n",
        "print(\"Coin flips:\", coin_flips)\n",
        "print(\"Number of heads:\", num_heads)\n"
      ]
    },
    {
      "cell_type": "code",
      "source": [],
      "metadata": {
        "id": "Os0eY6J5xl0D"
      },
      "execution_count": 10,
      "outputs": []
    }
  ]
}