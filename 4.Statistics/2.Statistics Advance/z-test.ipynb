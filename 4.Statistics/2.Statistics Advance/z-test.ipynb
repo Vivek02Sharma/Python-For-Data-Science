{
 "cells": [
  {
   "attachments": {
    "933a09d1-77fb-44f7-a8a1-5649b8b934a1.png": {
     "image/png": "[encoded data removed]"
    }
   },
   "cell_type": "markdown",
   "id": "2495ff24-a345-4c29-a873-7a2e9bc879e8",
   "metadata": {},
   "source": [
    "## z - test\n",
    "\n",
    "##### What is Z-Test?\n",
    "Z-test is a statistical test that is used to determine whether the mean of a sample is significantly different from a known population mean when the population standard deviation is known. It is particularly useful when the sample size is large (>30).\n",
    "\n",
    "Z-test can also be defined as a statistical method that is used to determine whether the distribution of the test statistics can be approximated using the normal distribution or not. It is the method to determine whether two sample means are approximately the same or different when their variance is known and the sample size is large (should be >= 30).\n",
    "\n",
    "The Z-test compares the difference between the sample mean and the population means by considering the standard deviation of the sampling distribution. The resulting Z-score represents the number of standard deviations that the sample mean deviates from the population mean. This Z-Score is also known as Z-Statistics, and can be formulated as:\n",
    "\n",
    "![image.png](attachment:933a09d1-77fb-44f7-a8a1-5649b8b934a1.png)\n",
    "where,\n",
    "\n",
    "x bar  : mean of the sample.<br>\n",
    "u  : mean of the population.<br>\n",
    "sigma  : Standard deviation of the population<br>\n",
    "\n",
    "##### When to Use Z-test:\n",
    "The sample size should be greater than 30. Otherwise, we should use the t-test.\n",
    "Samples should be drawn at random from the population.\n",
    "The standard deviation of the population should be known.\n",
    "Samples that are drawn from the population should be independent of each other.\n",
    "The data should be normally distributed, however, for a large sample size, it is assumed to have a normal distribution because central limit theorem"
   ]
  },
  {
   "cell_type": "markdown",
   "id": "1a0097ec-99ae-4f71-b70c-f87994b2d81e",
   "metadata": {},
   "source": [
    "### One tailed test"
   ]
  },
  {
   "cell_type": "code",
   "execution_count": 1,
   "id": "5ef8c67d-093c-491c-b71d-4018a4e1eb1d",
   "metadata": {
    "tags": []
   },
   "outputs": [],
   "source": [
    "import matplotlib.pyplot as plt\n",
    "import numpy as np\n",
    "import scipy.stats as stats"
   ]
  },
  {
   "cell_type": "markdown",
   "id": "7786691f-757c-4511-b572-d86880dd994c",
   "metadata": {},
   "source": [
    "#### 1.Right tailed test"
   ]
  },
  {
   "cell_type": "code",
   "execution_count": 2,
   "id": "917fc8c5-8709-4b23-a00e-28d8d62508e1",
   "metadata": {},
   "outputs": [],
   "source": [
    "sample_mean = 110\n",
    "population_mean = 100\n",
    "population_std = 15\n",
    "sample_size = 50\n",
    "alpha = 0.05\n",
    "\n",
    "# since sample_mean > population_mean that's why it is right tailed test"
   ]
  },
  {
   "cell_type": "code",
   "execution_count": 3,
   "id": "662ae0e6-a367-42c5-b4dd-f96f36aa097a",
   "metadata": {
    "tags": []
   },
   "outputs": [],
   "source": [
    "z_score = (sample_mean-population_mean)/(population_std/np.sqrt(sample_size))"
   ]
  },
  {
   "cell_type": "code",
   "execution_count": 4,
   "id": "97e004f7-dfd9-42db-ac38-1681ef01e9d6",
   "metadata": {
    "tags": []
   },
   "outputs": [
    {
     "data": {
      "text/plain": [
       "4.714045207910317"
      ]
     },
     "execution_count": 4,
     "metadata": {},
     "output_type": "execute_result"
    }
   ],
   "source": [
    "z_score"
   ]
  },
  {
   "cell_type": "code",
   "execution_count": 5,
   "id": "a596d4e1-b1ff-4fa0-8752-d1b36d9a937e",
   "metadata": {
    "tags": []
   },
   "outputs": [],
   "source": [
    "# Approach 1: Using Critical Z-Score\n",
    "z_critical = stats.norm.ppf(1-alpha)"
   ]
  },
  {
   "cell_type": "code",
   "execution_count": 6,
   "id": "df1d8025-2d37-40ee-bf65-a58d160b9cdd",
   "metadata": {
    "tags": []
   },
   "outputs": [
    {
     "data": {
      "text/plain": [
       "1.6448536269514722"
      ]
     },
     "execution_count": 6,
     "metadata": {},
     "output_type": "execute_result"
    }
   ],
   "source": [
    "z_critical"
   ]
  },
  {
   "cell_type": "code",
   "execution_count": 7,
   "id": "5afe9644-0e78-4c66-b55f-2e74ce71dd7a",
   "metadata": {
    "tags": []
   },
   "outputs": [
    {
     "name": "stdout",
     "output_type": "stream",
     "text": [
      "Reject the Null hypothesis\n"
     ]
    }
   ],
   "source": [
    "if z_score > z_critical:\n",
    "    print(\"Reject the Null hypothesis\")\n",
    "else:\n",
    "    print(\"Fail to reject Null hypothesis\")"
   ]
  },
  {
   "cell_type": "code",
   "execution_count": 8,
   "id": "f335fbb9-3d3f-414f-8a7e-256a0aa46986",
   "metadata": {
    "tags": []
   },
   "outputs": [],
   "source": [
    "# Approach 2:Using P-Value\n",
    "p_value = 1 - stats.norm.cdf(z_score) # for right tailed test we minus p-value from one"
   ]
  },
  {
   "cell_type": "code",
   "execution_count": 9,
   "id": "ef498779-4f56-4465-a198-df7421ed6549",
   "metadata": {
    "tags": []
   },
   "outputs": [
    {
     "data": {
      "text/plain": [
       "1.2142337364462463e-06"
      ]
     },
     "execution_count": 9,
     "metadata": {},
     "output_type": "execute_result"
    }
   ],
   "source": [
    "p_value"
   ]
  },
  {
   "cell_type": "code",
   "execution_count": 10,
   "id": "8b56508d-018a-4cbe-8acd-f4722e81ff69",
   "metadata": {
    "tags": []
   },
   "outputs": [
    {
     "name": "stdout",
     "output_type": "stream",
     "text": [
      "Reject the Null hypothesis\n"
     ]
    }
   ],
   "source": [
    "if p_value < alpha:\n",
    "    print(\"Reject the Null hypothesis\")\n",
    "else:\n",
    "    print('Fail to reject Null hypothesis')"
   ]
  },
  {
   "cell_type": "code",
   "execution_count": null,
   "id": "937e5b25-b46e-4286-99b6-4b53ba69d250",
   "metadata": {},
   "outputs": [],
   "source": []
  },
  {
   "cell_type": "markdown",
   "id": "e0a5f09f-0288-4139-abe1-6dafef706188",
   "metadata": {},
   "source": [
    "#### 2.Left tailed test"
   ]
  },
  {
   "cell_type": "code",
   "execution_count": 11,
   "id": "24a66f60-ee6a-4281-b38c-6e2746836002",
   "metadata": {
    "tags": []
   },
   "outputs": [],
   "source": [
    "sample_mean = 100\n",
    "population_mean = 120\n",
    "population_std = 15\n",
    "sample_size = 50\n",
    "alpha = 0.05\n",
    "\n",
    "# since sample_mean < population_mean that's why it is left tailed test"
   ]
  },
  {
   "cell_type": "code",
   "execution_count": 12,
   "id": "60b612f5-747c-44e3-aa52-bc8f42845d84",
   "metadata": {
    "tags": []
   },
   "outputs": [],
   "source": [
    "z_score = (sample_mean-population_mean)/(population_std/np.sqrt(sample_size))"
   ]
  },
  {
   "cell_type": "code",
   "execution_count": 13,
   "id": "81095afc-cbf3-4aa4-898f-cdc4ede1df98",
   "metadata": {
    "tags": []
   },
   "outputs": [
    {
     "data": {
      "text/plain": [
       "-9.428090415820634"
      ]
     },
     "execution_count": 13,
     "metadata": {},
     "output_type": "execute_result"
    }
   ],
   "source": [
    "z_score"
   ]
  },
  {
   "cell_type": "code",
   "execution_count": 14,
   "id": "4898f683-313b-47a8-9d77-3ce2802a6838",
   "metadata": {
    "tags": []
   },
   "outputs": [],
   "source": [
    "z_critical = -stats.norm.ppf(1-alpha)"
   ]
  },
  {
   "cell_type": "code",
   "execution_count": 15,
   "id": "3bb8d578-6112-4ec7-9cdc-6941c975d9c4",
   "metadata": {
    "tags": []
   },
   "outputs": [
    {
     "data": {
      "text/plain": [
       "-1.6448536269514722"
      ]
     },
     "execution_count": 15,
     "metadata": {},
     "output_type": "execute_result"
    }
   ],
   "source": [
    "z_critical"
   ]
  },
  {
   "cell_type": "code",
   "execution_count": 16,
   "id": "ffc8afd1-bd0b-4338-af0e-cc0689e67b22",
   "metadata": {
    "tags": []
   },
   "outputs": [
    {
     "name": "stdout",
     "output_type": "stream",
     "text": [
      "Reject the null hypothesis\n"
     ]
    }
   ],
   "source": [
    "# Approach 1:Using critical value\n",
    "if z_score < z_critical:\n",
    "    print(\"Reject the null hypothesis\")\n",
    "else:\n",
    "    print(\"Fail to reject null hypothesis\")"
   ]
  },
  {
   "cell_type": "code",
   "execution_count": 17,
   "id": "8be4103b-1d83-4331-af88-5c4839f63b7b",
   "metadata": {
    "tags": []
   },
   "outputs": [],
   "source": [
    "# Approach 2:Using P-Value\n",
    "p_value = stats.norm.cdf(z_score) # for left tailed test we don't minus p-value from one"
   ]
  },
  {
   "cell_type": "code",
   "execution_count": 18,
   "id": "83b56ec4-bdf5-4e26-9b04-55c810c29df8",
   "metadata": {
    "tags": []
   },
   "outputs": [
    {
     "data": {
      "text/plain": [
       "2.088112459630109e-21"
      ]
     },
     "execution_count": 18,
     "metadata": {},
     "output_type": "execute_result"
    }
   ],
   "source": [
    "p_value"
   ]
  },
  {
   "cell_type": "code",
   "execution_count": 19,
   "id": "989a27fc-627f-4449-8812-6b2878166023",
   "metadata": {
    "tags": []
   },
   "outputs": [
    {
     "name": "stdout",
     "output_type": "stream",
     "text": [
      "Reject the Null hypothesis\n"
     ]
    }
   ],
   "source": [
    "if p_value < alpha:\n",
    "    print(\"Reject the Null hypothesis\")\n",
    "else:\n",
    "    print('Fail to reject Null hypothesis')"
   ]
  },
  {
   "cell_type": "code",
   "execution_count": null,
   "id": "4f5ec74a-1291-4815-863b-89fd5f1b1418",
   "metadata": {},
   "outputs": [],
   "source": []
  },
  {
   "cell_type": "markdown",
   "id": "b98b4c5f-02a7-4903-9eac-f88ede71ce67",
   "metadata": {},
   "source": [
    "### Two tailed test"
   ]
  },
  {
   "cell_type": "markdown",
   "id": "8861f627-bc68-43db-abc8-79b9cc1187dd",
   "metadata": {},
   "source": [
    "##### Example : "
   ]
  },
  {
   "cell_type": "raw",
   "id": "2048fc3c-4076-48ba-a6b5-62e585f65dc6",
   "metadata": {},
   "source": [
    "Suppose it is up to you to determine if a certain state (Michigan) receives a significantly different amount of public school funding (per student) than the USA average. You know that the USA mean public school yearly funding is $6800 per student per year, with a standard deviation of $400.\n",
    "\n",
    "Next, suppose you collect a sample (n = 100) from Michigan and determine that the sample mean for Michigan (per student per year) is $6873\n",
    "\n",
    "Use the z-test and the correct Ho and Ha to run a hypothesis test to determine if Michigan receives a significantly different amount of funding for public school education (per student per year)."
   ]
  },
  {
   "cell_type": "code",
   "execution_count": 20,
   "id": "1f4115b5-8144-473f-b908-21fb9ef20576",
   "metadata": {
    "tags": []
   },
   "outputs": [],
   "source": [
    "michigan_mean = 6873\n",
    "usa_mean = 6800\n",
    "usa_std = 400\n",
    "sample_size = 100\n",
    "alpha = 0.05"
   ]
  },
  {
   "cell_type": "code",
   "execution_count": 21,
   "id": "633c3eb7-3632-4028-94c8-f5bb87ee90b4",
   "metadata": {
    "tags": []
   },
   "outputs": [],
   "source": [
    "z_score = (michigan_mean-usa_mean)/(usa_std/np.sqrt(sample_size))"
   ]
  },
  {
   "cell_type": "code",
   "execution_count": 22,
   "id": "1c3ca6b9-957e-4097-b71c-bd043de582c6",
   "metadata": {
    "tags": []
   },
   "outputs": [
    {
     "data": {
      "text/plain": [
       "1.825"
      ]
     },
     "execution_count": 22,
     "metadata": {},
     "output_type": "execute_result"
    }
   ],
   "source": [
    "z_score"
   ]
  },
  {
   "cell_type": "code",
   "execution_count": 23,
   "id": "3eee93dc-5d69-4abd-8440-9d55e5ffd858",
   "metadata": {
    "tags": []
   },
   "outputs": [],
   "source": [
    "z_critical = stats.norm.ppf(1-alpha/2)"
   ]
  },
  {
   "cell_type": "code",
   "execution_count": 24,
   "id": "538a7d15-2739-4e99-9c24-f9441887b0b0",
   "metadata": {
    "tags": []
   },
   "outputs": [
    {
     "data": {
      "text/plain": [
       "1.959963984540054"
      ]
     },
     "execution_count": 24,
     "metadata": {},
     "output_type": "execute_result"
    }
   ],
   "source": [
    "z_critical"
   ]
  },
  {
   "cell_type": "code",
   "execution_count": 25,
   "id": "63be6a77-f80b-4c2a-970d-5a351af1df9b",
   "metadata": {
    "tags": []
   },
   "outputs": [
    {
     "name": "stdout",
     "output_type": "stream",
     "text": [
      "Fail to reject the null hypothesis\n"
     ]
    }
   ],
   "source": [
    "if abs(z_score) > z_critical:\n",
    "    print(\"Reject the null hypothesis\")\n",
    "else:\n",
    "    print(\"Fail to reject the null hypothesis\")"
   ]
  },
  {
   "cell_type": "code",
   "execution_count": null,
   "id": "3df0c747-daa9-48e2-990d-8617e59af15c",
   "metadata": {},
   "outputs": [],
   "source": []
  }
 ],
 "metadata": {
  "kernelspec": {
   "display_name": "Python 3 (ipykernel)",
   "language": "python",
   "name": "python3"
  },
  "language_info": {
   "codemirror_mode": {
    "name": "ipython",
    "version": 3
   },
   "file_extension": ".py",
   "mimetype": "text/x-python",
   "name": "python",
   "nbconvert_exporter": "python",
   "pygments_lexer": "ipython3",
   "version": "3.10.7"
  }
 },
 "nbformat": 4,
 "nbformat_minor": 5
}
