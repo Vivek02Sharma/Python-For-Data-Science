{
 "cells": [
  {
   "cell_type": "markdown",
   "id": "1c5456d1-fed2-4d45-8949-9d826cc44b62",
   "metadata": {},
   "source": [
    "## F-test"
   ]
  },
  {
   "attachments": {
    "5ee4973e-22d7-487c-b3b6-1fa8f77b1ae9.png": {
     "image/png": "[encoded data removed]"
    }
   },
   "cell_type": "markdown",
   "id": "22da67df-7fc5-4247-a493-8c1d2c255d80",
   "metadata": {},
   "source": [
    "#### What is F-Test?\n",
    "The F test is a statistical technique that determines if the variances of two samples or populations are equal using the F test statistic. Both the samples and the populations need to be independent and fit into an F-distribution. The null hypothesis can be rejected if the results of the F test during the hypothesis test are statistically significant; if not, it stays unchanged.\n",
    "\n",
    "**We can use this test when:**<br>\n",
    "The population is normally distributed.<br>\n",
    "The samples are taken at random and are independent samples.<br>\n",
    "\n",
    "![image.png](attachment:5ee4973e-22d7-487c-b3b6-1fa8f77b1ae9.png)\n",
    "\n",
    "In both cases, **σ1² > σ2²**,  **S1² > S2²**, in other words, a larger estimate of variance always be in the numerator and a smaller estimate of variance in the denominator.\n",
    "\n",
    "**Degrees of freedom (ϑ)**\n",
    "\n",
    "DF of larger variance (i.e., numerator) =n1-1<br>\n",
    "DF of smaller variance (i.e., denominator) =n2-1"
   ]
  },
  {
   "cell_type": "markdown",
   "id": "2e2efa67-cedd-4e05-b8ca-be0f8a26cd6f",
   "metadata": {},
   "source": [
    "**Example** :The bank has a head office in Delhi and a branch in Mumbai. There are long customer queues at one office, while customer queues are short at the other. The Operations Manager of the bank wonders if the customers at one branch are more variable than the number of customers at another. He carries out a research study of customers.\n",
    "\n",
    "The variance of Delhi head office customers is 31, and that for the Mumbai branch is 20. The sample size for the Delhi head office is 11, and that for the Mumbai branch is 21. Carry out a two-tailed F-test with a level of significance of 10%.\n",
    "\n",
    "Null Hypothesis **H0: σ1² = σ2²**<br>\n",
    "Alternate Hypothesis **H1: σ1² ≠  σ2²**"
   ]
  },
  {
   "cell_type": "code",
   "execution_count": 1,
   "id": "3b28c716-93bb-4bf4-9442-03c041a4a05a",
   "metadata": {
    "tags": []
   },
   "outputs": [],
   "source": [
    "import scipy.stats as stats"
   ]
  },
  {
   "cell_type": "code",
   "execution_count": 2,
   "id": "ab8c8e6a-5593-42cd-b7be-88f102613e5a",
   "metadata": {
    "tags": []
   },
   "outputs": [],
   "source": [
    "var1 = 31 # variance of delhi\n",
    "var2 = 20 # variance of mumbai\n",
    "sample_size1 = 11 # sample size of delhi\n",
    "sample_size2 = 21 # sample size of mumbai\n",
    "alpha = 0.10\n",
    "alpha = alpha/2"
   ]
  },
  {
   "cell_type": "code",
   "execution_count": 3,
   "id": "ac23a032-b0e2-45c9-8484-f18e0d76f1c8",
   "metadata": {
    "tags": []
   },
   "outputs": [],
   "source": [
    "f_test = var1/var2"
   ]
  },
  {
   "cell_type": "code",
   "execution_count": 4,
   "id": "a57b47dc-6a62-43ee-9fe2-6ec5ceec4c9c",
   "metadata": {
    "tags": []
   },
   "outputs": [
    {
     "data": {
      "text/plain": [
       "1.55"
      ]
     },
     "execution_count": 4,
     "metadata": {},
     "output_type": "execute_result"
    }
   ],
   "source": [
    "f_test"
   ]
  },
  {
   "cell_type": "code",
   "execution_count": 5,
   "id": "502f78f2-148e-439e-b607-2a4b2cda3ece",
   "metadata": {
    "tags": []
   },
   "outputs": [],
   "source": [
    "df1 = sample_size1 - 1\n",
    "df2 = sample_size2 - 1"
   ]
  },
  {
   "cell_type": "code",
   "execution_count": 6,
   "id": "4653680f-de10-4b21-821a-e622a6e647b5",
   "metadata": {
    "tags": []
   },
   "outputs": [],
   "source": [
    "f_critical = stats.f.ppf(q = 1-alpha,dfn = df1,dfd = df2)"
   ]
  },
  {
   "cell_type": "code",
   "execution_count": 7,
   "id": "d7d5a2ba-90d4-4d05-a2bd-040fa0080f3a",
   "metadata": {
    "tags": []
   },
   "outputs": [
    {
     "data": {
      "text/plain": [
       "2.3478775669983114"
      ]
     },
     "execution_count": 7,
     "metadata": {},
     "output_type": "execute_result"
    }
   ],
   "source": [
    "f_critical"
   ]
  },
  {
   "cell_type": "code",
   "execution_count": 8,
   "id": "533362ff-f4e7-45e2-a8f1-3f89c627d563",
   "metadata": {
    "tags": []
   },
   "outputs": [
    {
     "name": "stdout",
     "output_type": "stream",
     "text": [
      "Fail to reject null hypothesis\n"
     ]
    }
   ],
   "source": [
    "if abs(f_test) > abs(f_critical):\n",
    "    print(\"Reject the null hypothesis\")\n",
    "else:\n",
    "    print(\"Fail to reject null hypothesis\")"
   ]
  },
  {
   "cell_type": "code",
   "execution_count": null,
   "id": "63fff148-0c43-4600-8401-981d5f82eb4c",
   "metadata": {},
   "outputs": [],
   "source": []
  }
 ],
 "metadata": {
  "kernelspec": {
   "display_name": "Python 3 (ipykernel)",
   "language": "python",
   "name": "python3"
  },
  "language_info": {
   "codemirror_mode": {
    "name": "ipython",
    "version": 3
   },
   "file_extension": ".py",
   "mimetype": "text/x-python",
   "name": "python",
   "nbconvert_exporter": "python",
   "pygments_lexer": "ipython3",
   "version": "3.10.7"
  }
 },
 "nbformat": 4,
 "nbformat_minor": 5
}
