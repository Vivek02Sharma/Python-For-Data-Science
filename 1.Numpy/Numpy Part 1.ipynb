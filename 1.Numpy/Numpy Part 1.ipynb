{
 "cells": [
  {
   "cell_type": "code",
   "execution_count": 1,
   "id": "92bd4ad7-b6fe-460d-9582-fdf2504ef11e",
   "metadata": {
    "tags": []
   },
   "outputs": [],
   "source": [
    "import numpy as np"
   ]
  },
  {
   "cell_type": "code",
   "execution_count": 2,
   "id": "22529505-f2a0-48b1-b96e-5efc767ad161",
   "metadata": {
    "tags": []
   },
   "outputs": [],
   "source": [
    "a = np.array([1,2,45,5,6])"
   ]
  },
  {
   "cell_type": "code",
   "execution_count": 3,
   "id": "efa43f13-7b82-41a9-8cb7-22c474947988",
   "metadata": {
    "tags": []
   },
   "outputs": [
    {
     "data": {
      "text/plain": [
       "array([ 1,  2, 45,  5,  6])"
      ]
     },
     "execution_count": 3,
     "metadata": {},
     "output_type": "execute_result"
    }
   ],
   "source": [
    "a"
   ]
  },
  {
   "cell_type": "code",
   "execution_count": 4,
   "id": "db8e1634-6481-461e-bec3-d01d7bfa9c68",
   "metadata": {
    "tags": []
   },
   "outputs": [
    {
     "data": {
      "text/plain": [
       "1"
      ]
     },
     "execution_count": 4,
     "metadata": {},
     "output_type": "execute_result"
    }
   ],
   "source": [
    "a.ndim"
   ]
  },
  {
   "cell_type": "code",
   "execution_count": 5,
   "id": "0bb5b0ae-eb06-440f-a1aa-02e81d5bae42",
   "metadata": {
    "tags": []
   },
   "outputs": [],
   "source": [
    "a1 = np.array([[1,23,4],[5,6,4],[5,4,7]])"
   ]
  },
  {
   "cell_type": "code",
   "execution_count": 6,
   "id": "f1eefb34-cd2b-4f6d-9c2f-cc3c8f06d530",
   "metadata": {
    "tags": []
   },
   "outputs": [
    {
     "data": {
      "text/plain": [
       "array([[ 1, 23,  4],\n",
       "       [ 5,  6,  4],\n",
       "       [ 5,  4,  7]])"
      ]
     },
     "execution_count": 6,
     "metadata": {},
     "output_type": "execute_result"
    }
   ],
   "source": [
    "a1"
   ]
  },
  {
   "cell_type": "code",
   "execution_count": 7,
   "id": "5d614465-c4c8-4823-8a37-adb2c5ae892c",
   "metadata": {
    "tags": []
   },
   "outputs": [
    {
     "data": {
      "text/plain": [
       "2"
      ]
     },
     "execution_count": 7,
     "metadata": {},
     "output_type": "execute_result"
    }
   ],
   "source": [
    "a1.ndim"
   ]
  },
  {
   "cell_type": "code",
   "execution_count": 8,
   "id": "455cdc82-b613-4b3e-9c73-9f8acbe05fd6",
   "metadata": {
    "tags": []
   },
   "outputs": [],
   "source": [
    "arr = np.arange(1,10)"
   ]
  },
  {
   "cell_type": "code",
   "execution_count": 9,
   "id": "0bebe33c-9ca5-4947-8d25-f2ec88a321ad",
   "metadata": {
    "tags": []
   },
   "outputs": [
    {
     "data": {
      "text/plain": [
       "array([1, 2, 3, 4, 5, 6, 7, 8, 9])"
      ]
     },
     "execution_count": 9,
     "metadata": {},
     "output_type": "execute_result"
    }
   ],
   "source": [
    "arr"
   ]
  },
  {
   "cell_type": "code",
   "execution_count": 10,
   "id": "43fec7d5-4bbf-46cc-a957-19eec62a5380",
   "metadata": {
    "tags": []
   },
   "outputs": [],
   "source": [
    "arr1 = np.arange(1.5,10) # it can also generate float array data"
   ]
  },
  {
   "cell_type": "code",
   "execution_count": 11,
   "id": "24762427-a5e0-4c4a-aa25-4879d7f1f018",
   "metadata": {
    "tags": []
   },
   "outputs": [
    {
     "data": {
      "text/plain": [
       "array([1.5, 2.5, 3.5, 4.5, 5.5, 6.5, 7.5, 8.5, 9.5])"
      ]
     },
     "execution_count": 11,
     "metadata": {},
     "output_type": "execute_result"
    }
   ],
   "source": [
    "arr1"
   ]
  },
  {
   "cell_type": "code",
   "execution_count": 12,
   "id": "25c36b51-7a3d-4478-87bc-00588dc78863",
   "metadata": {
    "tags": []
   },
   "outputs": [
    {
     "data": {
      "text/plain": [
       "array([[ 1, 23,  4],\n",
       "       [ 5,  6,  4],\n",
       "       [ 5,  4,  7]])"
      ]
     },
     "execution_count": 12,
     "metadata": {},
     "output_type": "execute_result"
    }
   ],
   "source": [
    "a1"
   ]
  },
  {
   "cell_type": "code",
   "execution_count": 13,
   "id": "c37d208e-0701-4c1d-841c-df474103cd62",
   "metadata": {
    "tags": []
   },
   "outputs": [
    {
     "data": {
      "text/plain": [
       "(3, 3)"
      ]
     },
     "execution_count": 13,
     "metadata": {},
     "output_type": "execute_result"
    }
   ],
   "source": [
    "a1.shape"
   ]
  },
  {
   "cell_type": "code",
   "execution_count": 14,
   "id": "796e6329-0d02-4098-bd6f-e870288f0c08",
   "metadata": {
    "tags": []
   },
   "outputs": [
    {
     "data": {
      "text/plain": [
       "9"
      ]
     },
     "execution_count": 14,
     "metadata": {},
     "output_type": "execute_result"
    }
   ],
   "source": [
    "a1.size"
   ]
  },
  {
   "cell_type": "code",
   "execution_count": 15,
   "id": "fe6b608b-ac97-4011-973e-b85870940039",
   "metadata": {
    "tags": []
   },
   "outputs": [
    {
     "data": {
      "text/plain": [
       "3"
      ]
     },
     "execution_count": 15,
     "metadata": {},
     "output_type": "execute_result"
    }
   ],
   "source": [
    "len(a1)"
   ]
  },
  {
   "cell_type": "code",
   "execution_count": 16,
   "id": "b9aecfb5-da37-4dc8-a37b-5e1711f20f38",
   "metadata": {
    "tags": []
   },
   "outputs": [
    {
     "data": {
      "text/plain": [
       "5"
      ]
     },
     "execution_count": 16,
     "metadata": {},
     "output_type": "execute_result"
    }
   ],
   "source": [
    "len(a)"
   ]
  },
  {
   "cell_type": "markdown",
   "id": "bfea1779-ae93-4849-95f7-75a454a2ec02",
   "metadata": {},
   "source": [
    "**Generating array from function**"
   ]
  },
  {
   "cell_type": "code",
   "execution_count": 17,
   "id": "36ce32c3-85c0-4978-997e-2aa318ed3e1e",
   "metadata": {
    "tags": []
   },
   "outputs": [],
   "source": [
    "arr = np.fromfunction(lambda i,j : i,(5,5))"
   ]
  },
  {
   "cell_type": "code",
   "execution_count": 18,
   "id": "e3e229c3-a4e3-43a1-a2f7-45ea04ac9db2",
   "metadata": {
    "tags": []
   },
   "outputs": [
    {
     "data": {
      "text/plain": [
       "array([[0., 0., 0., 0., 0.],\n",
       "       [1., 1., 1., 1., 1.],\n",
       "       [2., 2., 2., 2., 2.],\n",
       "       [3., 3., 3., 3., 3.],\n",
       "       [4., 4., 4., 4., 4.]])"
      ]
     },
     "execution_count": 18,
     "metadata": {},
     "output_type": "execute_result"
    }
   ],
   "source": [
    "arr"
   ]
  },
  {
   "cell_type": "code",
   "execution_count": 19,
   "id": "4b18c649-4eb4-4338-9d6a-41ae44438657",
   "metadata": {
    "tags": []
   },
   "outputs": [],
   "source": [
    "arr = np.fromfunction(lambda i,j : i + j,(5,5))"
   ]
  },
  {
   "cell_type": "code",
   "execution_count": 20,
   "id": "cd5b4c49-ac64-49e2-bf7d-42aa5f1ba8b5",
   "metadata": {
    "tags": []
   },
   "outputs": [
    {
     "data": {
      "text/plain": [
       "array([[0., 1., 2., 3., 4.],\n",
       "       [1., 2., 3., 4., 5.],\n",
       "       [2., 3., 4., 5., 6.],\n",
       "       [3., 4., 5., 6., 7.],\n",
       "       [4., 5., 6., 7., 8.]])"
      ]
     },
     "execution_count": 20,
     "metadata": {},
     "output_type": "execute_result"
    }
   ],
   "source": [
    "arr"
   ]
  },
  {
   "cell_type": "code",
   "execution_count": 21,
   "id": "d139647f-737f-4e56-8e42-d9ce3fc1a8f7",
   "metadata": {
    "tags": []
   },
   "outputs": [],
   "source": [
    "iterable = (i*i for i in range(5))"
   ]
  },
  {
   "cell_type": "code",
   "execution_count": 22,
   "id": "92e9c93f-df73-4420-9be8-aa82738a9c0c",
   "metadata": {
    "tags": []
   },
   "outputs": [],
   "source": [
    "arr = np.fromiter(iterable,int)"
   ]
  },
  {
   "cell_type": "code",
   "execution_count": 23,
   "id": "30629b0d-f665-44fb-aead-38fe2414155b",
   "metadata": {
    "tags": []
   },
   "outputs": [
    {
     "data": {
      "text/plain": [
       "array([ 0,  1,  4,  9, 16])"
      ]
     },
     "execution_count": 23,
     "metadata": {},
     "output_type": "execute_result"
    }
   ],
   "source": [
    "arr"
   ]
  },
  {
   "cell_type": "code",
   "execution_count": 24,
   "id": "9d50a264-e9c6-474c-8da4-6145ff63a9ef",
   "metadata": {
    "tags": []
   },
   "outputs": [],
   "source": [
    "iterable1 = ((i*i,i*i*i) for i in range(5)) "
   ]
  },
  {
   "cell_type": "code",
   "execution_count": 25,
   "id": "c557a7d4-09cb-497a-826f-55dae7e543c9",
   "metadata": {
    "tags": []
   },
   "outputs": [],
   "source": [
    "arr = np.fromiter(iterable1,(int ,2))"
   ]
  },
  {
   "cell_type": "code",
   "execution_count": 26,
   "id": "40fbcfeb-f245-4061-8fc5-986c3586e972",
   "metadata": {
    "tags": []
   },
   "outputs": [
    {
     "data": {
      "text/plain": [
       "array([[ 0,  0],\n",
       "       [ 1,  1],\n",
       "       [ 4,  8],\n",
       "       [ 9, 27],\n",
       "       [16, 64]])"
      ]
     },
     "execution_count": 26,
     "metadata": {},
     "output_type": "execute_result"
    }
   ],
   "source": [
    "arr"
   ]
  },
  {
   "cell_type": "code",
   "execution_count": 27,
   "id": "2f25b306-bd30-4e16-a784-6675db2488bf",
   "metadata": {
    "tags": []
   },
   "outputs": [
    {
     "data": {
      "text/plain": [
       "array([2., 4., 2., 4., 2., 5., 4.])"
      ]
     },
     "execution_count": 27,
     "metadata": {},
     "output_type": "execute_result"
    }
   ],
   "source": [
    "np.fromstring('2 4 2 4 2 5 4',sep = ' ') # default data type  is float"
   ]
  },
  {
   "cell_type": "code",
   "execution_count": 28,
   "id": "661d7e5b-74ae-4c39-974c-9650ad2e1a35",
   "metadata": {
    "tags": []
   },
   "outputs": [
    {
     "data": {
      "text/plain": [
       "array([2, 4, 2, 4, 2, 5, 4])"
      ]
     },
     "execution_count": 28,
     "metadata": {},
     "output_type": "execute_result"
    }
   ],
   "source": [
    "np.fromstring('2-4-2-4-2-5-4',sep = '-',dtype=int) # also we can change data type"
   ]
  },
  {
   "cell_type": "code",
   "execution_count": 29,
   "id": "b6ea0779-8196-4d2d-879c-86aa927ba05e",
   "metadata": {
    "tags": []
   },
   "outputs": [],
   "source": [
    "a = np.linspace(1,10) # it gives 50 element (default) between (1 to 10)"
   ]
  },
  {
   "cell_type": "code",
   "execution_count": 30,
   "id": "16defc53-8e2c-4c25-a7c0-b3c14e58d91e",
   "metadata": {
    "tags": []
   },
   "outputs": [
    {
     "data": {
      "text/plain": [
       "array([ 1.        ,  1.18367347,  1.36734694,  1.55102041,  1.73469388,\n",
       "        1.91836735,  2.10204082,  2.28571429,  2.46938776,  2.65306122,\n",
       "        2.83673469,  3.02040816,  3.20408163,  3.3877551 ,  3.57142857,\n",
       "        3.75510204,  3.93877551,  4.12244898,  4.30612245,  4.48979592,\n",
       "        4.67346939,  4.85714286,  5.04081633,  5.2244898 ,  5.40816327,\n",
       "        5.59183673,  5.7755102 ,  5.95918367,  6.14285714,  6.32653061,\n",
       "        6.51020408,  6.69387755,  6.87755102,  7.06122449,  7.24489796,\n",
       "        7.42857143,  7.6122449 ,  7.79591837,  7.97959184,  8.16326531,\n",
       "        8.34693878,  8.53061224,  8.71428571,  8.89795918,  9.08163265,\n",
       "        9.26530612,  9.44897959,  9.63265306,  9.81632653, 10.        ])"
      ]
     },
     "execution_count": 30,
     "metadata": {},
     "output_type": "execute_result"
    }
   ],
   "source": [
    "a"
   ]
  },
  {
   "cell_type": "code",
   "execution_count": 31,
   "id": "9d72bbe7-f9bd-4917-bf1c-3650af649fb3",
   "metadata": {
    "tags": []
   },
   "outputs": [],
   "source": [
    "a1 = np.linspace(1,10,5) # aslo we can specify the no. of element like 5"
   ]
  },
  {
   "cell_type": "code",
   "execution_count": 32,
   "id": "bad0a198-e185-49eb-89e6-6dbb655b7359",
   "metadata": {
    "tags": []
   },
   "outputs": [
    {
     "data": {
      "text/plain": [
       "array([ 1.  ,  3.25,  5.5 ,  7.75, 10.  ])"
      ]
     },
     "execution_count": 32,
     "metadata": {},
     "output_type": "execute_result"
    }
   ],
   "source": [
    "a1"
   ]
  },
  {
   "cell_type": "code",
   "execution_count": 33,
   "id": "21709779-6add-4a60-aebd-f8cbef919597",
   "metadata": {
    "tags": []
   },
   "outputs": [
    {
     "data": {
      "text/plain": [
       "5"
      ]
     },
     "execution_count": 33,
     "metadata": {},
     "output_type": "execute_result"
    }
   ],
   "source": [
    "len(a1)"
   ]
  },
  {
   "cell_type": "code",
   "execution_count": 34,
   "id": "fff71d6f-79dd-4e8b-9a9a-4906b61d030c",
   "metadata": {
    "tags": []
   },
   "outputs": [
    {
     "data": {
      "text/plain": [
       "array([1.        , 1.44444444, 1.88888889, 2.33333333, 2.77777778,\n",
       "       3.22222222, 3.66666667, 4.11111111, 4.55555556, 5.        ])"
      ]
     },
     "execution_count": 34,
     "metadata": {},
     "output_type": "execute_result"
    }
   ],
   "source": [
    "np.linspace(1,5,10)"
   ]
  },
  {
   "cell_type": "code",
   "execution_count": 35,
   "id": "5099a004-f391-45a0-ab6c-0d916f4d6460",
   "metadata": {
    "tags": []
   },
   "outputs": [
    {
     "data": {
      "text/plain": [
       "array([0., 0., 0., 0., 0.])"
      ]
     },
     "execution_count": 35,
     "metadata": {},
     "output_type": "execute_result"
    }
   ],
   "source": [
    "np.zeros(5)"
   ]
  },
  {
   "cell_type": "code",
   "execution_count": 36,
   "id": "5942f796-e0a1-4b4a-8837-814cbb5f9e53",
   "metadata": {
    "tags": []
   },
   "outputs": [],
   "source": [
    "z = np.zeros((2,3))"
   ]
  },
  {
   "cell_type": "code",
   "execution_count": 37,
   "id": "6077ca19-901d-4e7b-9923-bbc3f5e967a3",
   "metadata": {
    "tags": []
   },
   "outputs": [
    {
     "data": {
      "text/plain": [
       "array([[0., 0., 0.],\n",
       "       [0., 0., 0.]])"
      ]
     },
     "execution_count": 37,
     "metadata": {},
     "output_type": "execute_result"
    }
   ],
   "source": [
    "z"
   ]
  },
  {
   "cell_type": "code",
   "execution_count": 38,
   "id": "c02ff7c0-61df-4cc0-a3a1-4a78edeeba82",
   "metadata": {
    "tags": []
   },
   "outputs": [
    {
     "data": {
      "text/plain": [
       "array([[[0., 0., 0., 0.],\n",
       "        [0., 0., 0., 0.],\n",
       "        [0., 0., 0., 0.]],\n",
       "\n",
       "       [[0., 0., 0., 0.],\n",
       "        [0., 0., 0., 0.],\n",
       "        [0., 0., 0., 0.]]])"
      ]
     },
     "execution_count": 38,
     "metadata": {},
     "output_type": "execute_result"
    }
   ],
   "source": [
    "np.zeros((2,3,4)) # two 3 by 4 matrix"
   ]
  },
  {
   "cell_type": "code",
   "execution_count": 39,
   "id": "4074aa21-ea71-49ea-9df4-9668bcd5302f",
   "metadata": {
    "tags": []
   },
   "outputs": [
    {
     "data": {
      "text/plain": [
       "3"
      ]
     },
     "execution_count": 39,
     "metadata": {},
     "output_type": "execute_result"
    }
   ],
   "source": [
    "np.zeros((2,3,4)).ndim"
   ]
  },
  {
   "cell_type": "code",
   "execution_count": 40,
   "id": "b949b094-8035-47fc-bf06-1a1dd37b2409",
   "metadata": {
    "tags": []
   },
   "outputs": [
    {
     "data": {
      "text/plain": [
       "array([[[[0., 0., 0., 0., 0.],\n",
       "         [0., 0., 0., 0., 0.],\n",
       "         [0., 0., 0., 0., 0.],\n",
       "         [0., 0., 0., 0., 0.]],\n",
       "\n",
       "        [[0., 0., 0., 0., 0.],\n",
       "         [0., 0., 0., 0., 0.],\n",
       "         [0., 0., 0., 0., 0.],\n",
       "         [0., 0., 0., 0., 0.]],\n",
       "\n",
       "        [[0., 0., 0., 0., 0.],\n",
       "         [0., 0., 0., 0., 0.],\n",
       "         [0., 0., 0., 0., 0.],\n",
       "         [0., 0., 0., 0., 0.]]],\n",
       "\n",
       "\n",
       "       [[[0., 0., 0., 0., 0.],\n",
       "         [0., 0., 0., 0., 0.],\n",
       "         [0., 0., 0., 0., 0.],\n",
       "         [0., 0., 0., 0., 0.]],\n",
       "\n",
       "        [[0., 0., 0., 0., 0.],\n",
       "         [0., 0., 0., 0., 0.],\n",
       "         [0., 0., 0., 0., 0.],\n",
       "         [0., 0., 0., 0., 0.]],\n",
       "\n",
       "        [[0., 0., 0., 0., 0.],\n",
       "         [0., 0., 0., 0., 0.],\n",
       "         [0., 0., 0., 0., 0.],\n",
       "         [0., 0., 0., 0., 0.]]]])"
      ]
     },
     "execution_count": 40,
     "metadata": {},
     "output_type": "execute_result"
    }
   ],
   "source": [
    "np.zeros((2,3,4,5)) "
   ]
  },
  {
   "cell_type": "code",
   "execution_count": 41,
   "id": "e7df96a4-35e2-4217-9098-555ce4e611f3",
   "metadata": {
    "tags": []
   },
   "outputs": [
    {
     "data": {
      "text/plain": [
       "array([1., 1., 1., 1., 1., 1.])"
      ]
     },
     "execution_count": 41,
     "metadata": {},
     "output_type": "execute_result"
    }
   ],
   "source": [
    "np.ones(6)"
   ]
  },
  {
   "cell_type": "code",
   "execution_count": 42,
   "id": "a01ecae9-bfa7-491f-83be-5f91b7351361",
   "metadata": {
    "tags": []
   },
   "outputs": [
    {
     "data": {
      "text/plain": [
       "array([[1., 1., 1.],\n",
       "       [1., 1., 1.],\n",
       "       [1., 1., 1.]])"
      ]
     },
     "execution_count": 42,
     "metadata": {},
     "output_type": "execute_result"
    }
   ],
   "source": [
    "np.ones((3,3))"
   ]
  },
  {
   "cell_type": "code",
   "execution_count": 43,
   "id": "d82e137b-4d28-4d5b-8c29-25a310415c73",
   "metadata": {},
   "outputs": [
    {
     "data": {
      "text/plain": [
       "array([[4.67486981e-310, 0.00000000e+000, 1.01855798e-312,\n",
       "        9.54898106e-313],\n",
       "       [1.18831764e-312, 1.03977794e-312, 1.23075756e-312,\n",
       "        1.16709769e-312],\n",
       "       [1.03977794e-312, 9.76118064e-313, 1.08221785e-312,\n",
       "        1.90979621e-312]])"
      ]
     },
     "execution_count": 43,
     "metadata": {},
     "output_type": "execute_result"
    }
   ],
   "source": [
    "np.empty((3,4)) "
   ]
  },
  {
   "cell_type": "code",
   "execution_count": 44,
   "id": "904b57cc-69bc-490d-b5fc-aeca60d509d9",
   "metadata": {},
   "outputs": [
    {
     "data": {
      "text/plain": [
       "array([[1., 0., 0., 0., 0.],\n",
       "       [0., 1., 0., 0., 0.],\n",
       "       [0., 0., 1., 0., 0.],\n",
       "       [0., 0., 0., 1., 0.],\n",
       "       [0., 0., 0., 0., 1.]])"
      ]
     },
     "execution_count": 44,
     "metadata": {},
     "output_type": "execute_result"
    }
   ],
   "source": [
    "np.eye(5,5)"
   ]
  },
  {
   "cell_type": "code",
   "execution_count": 45,
   "id": "4698dcff-d190-4f98-8efd-29b9fe8d9ec0",
   "metadata": {},
   "outputs": [],
   "source": [
    "a = np.logspace(2,3,12)"
   ]
  },
  {
   "cell_type": "code",
   "execution_count": 46,
   "id": "a9153b0f-1474-48fe-b74e-f1b7f842840f",
   "metadata": {},
   "outputs": [
    {
     "data": {
      "text/plain": [
       "array([ 100.        ,  123.28467394,  151.9911083 ,  187.38174229,\n",
       "        231.01297001,  284.80358684,  351.11917342,  432.87612811,\n",
       "        533.66992312,  657.93322466,  811.13083079, 1000.        ])"
      ]
     },
     "execution_count": 46,
     "metadata": {},
     "output_type": "execute_result"
    }
   ],
   "source": [
    "a"
   ]
  },
  {
   "cell_type": "code",
   "execution_count": 47,
   "id": "2285e8c6-e33c-465d-b06c-0dbfac557b31",
   "metadata": {},
   "outputs": [
    {
     "data": {
      "text/plain": [
       "array([[ 100.        ,  123.28467394,  151.9911083 ],\n",
       "       [ 187.38174229,  231.01297001,  284.80358684],\n",
       "       [ 351.11917342,  432.87612811,  533.66992312],\n",
       "       [ 657.93322466,  811.13083079, 1000.        ]])"
      ]
     },
     "execution_count": 47,
     "metadata": {},
     "output_type": "execute_result"
    }
   ],
   "source": [
    "a.reshape(4,3)"
   ]
  },
  {
   "cell_type": "code",
   "execution_count": 48,
   "id": "794c78a1-94f2-41b1-9f25-0112129b2020",
   "metadata": {},
   "outputs": [
    {
     "data": {
      "text/plain": [
       "array([ 100.        ,  123.28467394,  151.9911083 ,  187.38174229,\n",
       "        231.01297001,  284.80358684,  351.11917342,  432.87612811,\n",
       "        533.66992312,  657.93322466,  811.13083079, 1000.        ])"
      ]
     },
     "execution_count": 48,
     "metadata": {},
     "output_type": "execute_result"
    }
   ],
   "source": [
    "a.flatten() # convert into 1 dimensional array"
   ]
  },
  {
   "cell_type": "code",
   "execution_count": 49,
   "id": "f833cc5f-51aa-4255-a379-7ab56022887e",
   "metadata": {},
   "outputs": [
    {
     "data": {
      "text/plain": [
       "array([[7.5, 7.5, 7.5],\n",
       "       [7.5, 7.5, 7.5],\n",
       "       [7.5, 7.5, 7.5]])"
      ]
     },
     "execution_count": 49,
     "metadata": {},
     "output_type": "execute_result"
    }
   ],
   "source": [
    "np.full((3,3),7.5) # create a array of specific number in given dimension"
   ]
  },
  {
   "cell_type": "code",
   "execution_count": 50,
   "id": "3bd7d3e1-3644-495f-a8ea-396a8354b300",
   "metadata": {},
   "outputs": [
    {
     "data": {
      "text/plain": [
       "array([[0.77988294, 0.34059954, 0.76202553, 0.6681555 , 0.30582526],\n",
       "       [0.4531085 , 0.82803883, 0.79511529, 0.18967066, 0.73543781]])"
      ]
     },
     "execution_count": 50,
     "metadata": {},
     "output_type": "execute_result"
    }
   ],
   "source": [
    "np.random.random((2,5))"
   ]
  },
  {
   "cell_type": "code",
   "execution_count": 51,
   "id": "a0ea689a-563a-440a-a753-9335310732d9",
   "metadata": {},
   "outputs": [
    {
     "data": {
      "text/plain": [
       "array([[0.51151461, 0.5798683 , 0.39058744, 0.15171645, 0.16778771],\n",
       "       [0.62851365, 0.99517261, 0.70550204, 0.13380087, 0.04675308]])"
      ]
     },
     "execution_count": 51,
     "metadata": {},
     "output_type": "execute_result"
    }
   ],
   "source": [
    "np.random.rand(2,5)"
   ]
  },
  {
   "cell_type": "code",
   "execution_count": 52,
   "id": "e649a7dc-1cef-4084-9769-f6c109d6bb42",
   "metadata": {},
   "outputs": [
    {
     "data": {
      "text/plain": [
       "array([[-0.23037833, -0.64820277, -2.12575399, -1.18460632],\n",
       "       [-0.45778485, -0.98661339,  1.46173284, -0.76912525]])"
      ]
     },
     "execution_count": 52,
     "metadata": {},
     "output_type": "execute_result"
    }
   ],
   "source": [
    "np.random.randn(2,4)"
   ]
  },
  {
   "cell_type": "code",
   "execution_count": 53,
   "id": "204040e9-c607-458f-8c27-2535e3d99c55",
   "metadata": {},
   "outputs": [
    {
     "data": {
      "text/plain": [
       "array([[ 1.00519995, -0.46123949,  0.71493111],\n",
       "       [-0.16882925,  1.89586374, -0.95919189],\n",
       "       [ 0.46348624,  0.61987526,  0.65745092]])"
      ]
     },
     "execution_count": 53,
     "metadata": {},
     "output_type": "execute_result"
    }
   ],
   "source": [
    "# Create a 3x3 array of normally distributed random values\n",
    "# with mean 0 and standard deviation 1\n",
    "np.random.normal(0, 1, (3, 3))"
   ]
  },
  {
   "cell_type": "code",
   "execution_count": 54,
   "id": "0a6a0dc1-f66c-4164-8486-c90268ea9785",
   "metadata": {},
   "outputs": [
    {
     "data": {
      "text/plain": [
       "array([[7, 7, 5],\n",
       "       [6, 9, 1],\n",
       "       [5, 7, 6]])"
      ]
     },
     "execution_count": 54,
     "metadata": {},
     "output_type": "execute_result"
    }
   ],
   "source": [
    "# Create a 3x3 array of random integers in the interval [0, 10)\n",
    "np.random.randint(0, 10, (3, 3))"
   ]
  },
  {
   "cell_type": "markdown",
   "id": "5dea7d70-60d6-421f-b08b-3a962d7905df",
   "metadata": {},
   "source": [
    "**Indexing and Slicing**"
   ]
  },
  {
   "cell_type": "code",
   "execution_count": 55,
   "id": "b350adeb-c5f0-4b88-84b5-bba895e3b030",
   "metadata": {},
   "outputs": [],
   "source": [
    "# 1 dimensional indexing \n",
    "a = np.array([5,0,4,5,3,9])"
   ]
  },
  {
   "cell_type": "code",
   "execution_count": 56,
   "id": "7cec71d3-4c90-4ff5-9b5f-72466c1bcbfc",
   "metadata": {},
   "outputs": [
    {
     "data": {
      "text/plain": [
       "array([5, 0, 4, 5, 3, 9])"
      ]
     },
     "execution_count": 56,
     "metadata": {},
     "output_type": "execute_result"
    }
   ],
   "source": [
    "a"
   ]
  },
  {
   "cell_type": "code",
   "execution_count": 57,
   "id": "09b62f96-0e19-49bb-9254-6d51cca75a0a",
   "metadata": {},
   "outputs": [
    {
     "data": {
      "text/plain": [
       "5"
      ]
     },
     "execution_count": 57,
     "metadata": {},
     "output_type": "execute_result"
    }
   ],
   "source": [
    "a[3] # +ve indexing"
   ]
  },
  {
   "cell_type": "code",
   "execution_count": 58,
   "id": "56765a2a-c331-4384-9002-3d2015df3824",
   "metadata": {},
   "outputs": [
    {
     "data": {
      "text/plain": [
       "9"
      ]
     },
     "execution_count": 58,
     "metadata": {},
     "output_type": "execute_result"
    }
   ],
   "source": [
    "a[-1] # -ve indexing"
   ]
  },
  {
   "cell_type": "code",
   "execution_count": 59,
   "id": "d0a7f783-3757-4eab-a8bc-2694acbbbc96",
   "metadata": {},
   "outputs": [
    {
     "data": {
      "text/plain": [
       "array([5, 0, 4, 5, 3, 9])"
      ]
     },
     "execution_count": 59,
     "metadata": {},
     "output_type": "execute_result"
    }
   ],
   "source": [
    "# 1 dimensional slicing\n",
    "a"
   ]
  },
  {
   "cell_type": "code",
   "execution_count": 60,
   "id": "ee3dc101-d89b-4681-b90d-b93d6629440d",
   "metadata": {},
   "outputs": [
    {
     "data": {
      "text/plain": [
       "array([0, 4, 5, 3, 9])"
      ]
     },
     "execution_count": 60,
     "metadata": {},
     "output_type": "execute_result"
    }
   ],
   "source": [
    "a[1:]"
   ]
  },
  {
   "cell_type": "code",
   "execution_count": 61,
   "id": "f9d2ead6-f67d-44a6-b709-a72d9a743ffe",
   "metadata": {},
   "outputs": [
    {
     "data": {
      "text/plain": [
       "array([5, 0, 4])"
      ]
     },
     "execution_count": 61,
     "metadata": {},
     "output_type": "execute_result"
    }
   ],
   "source": [
    "a[:3]"
   ]
  },
  {
   "cell_type": "code",
   "execution_count": 62,
   "id": "639218a4-c7ab-4ae1-821f-868f358cf8a4",
   "metadata": {},
   "outputs": [
    {
     "data": {
      "text/plain": [
       "array([4, 5])"
      ]
     },
     "execution_count": 62,
     "metadata": {},
     "output_type": "execute_result"
    }
   ],
   "source": [
    "a[2:4]"
   ]
  },
  {
   "cell_type": "code",
   "execution_count": 63,
   "id": "f2c7b7b6-10bc-4f56-bb26-a3d1d87ced9c",
   "metadata": {},
   "outputs": [
    {
     "data": {
      "text/plain": [
       "array([0, 3])"
      ]
     },
     "execution_count": 63,
     "metadata": {},
     "output_type": "execute_result"
    }
   ],
   "source": [
    "a[1:5:3]"
   ]
  },
  {
   "cell_type": "code",
   "execution_count": 64,
   "id": "2bb189f6-89df-4398-a79d-d2f2373c4f1f",
   "metadata": {},
   "outputs": [
    {
     "data": {
      "text/plain": [
       "array([5, 0, 4, 5, 3])"
      ]
     },
     "execution_count": 64,
     "metadata": {},
     "output_type": "execute_result"
    }
   ],
   "source": [
    "a[:-1] # -ve sllicing"
   ]
  },
  {
   "cell_type": "code",
   "execution_count": 65,
   "id": "2e49523e-8d23-4de1-a7cd-4b1268f03cdb",
   "metadata": {},
   "outputs": [
    {
     "data": {
      "text/plain": [
       "array([5, 0, 4, 5, 3, 9])"
      ]
     },
     "execution_count": 65,
     "metadata": {},
     "output_type": "execute_result"
    }
   ],
   "source": [
    "a"
   ]
  },
  {
   "cell_type": "code",
   "execution_count": 66,
   "id": "da10331d-fbf9-437d-9d70-7bc0cfa49f5f",
   "metadata": {},
   "outputs": [
    {
     "data": {
      "text/plain": [
       "array([9])"
      ]
     },
     "execution_count": 66,
     "metadata": {},
     "output_type": "execute_result"
    }
   ],
   "source": [
    "a[-1:]"
   ]
  },
  {
   "cell_type": "code",
   "execution_count": 67,
   "id": "10294daf-4c8f-4b3f-abe5-46be9feb3e0d",
   "metadata": {},
   "outputs": [
    {
     "data": {
      "text/plain": [
       "array([4, 5, 3, 9])"
      ]
     },
     "execution_count": 67,
     "metadata": {},
     "output_type": "execute_result"
    }
   ],
   "source": [
    "a[-4:]"
   ]
  },
  {
   "cell_type": "code",
   "execution_count": 68,
   "id": "e8f008f3-fa39-4d2b-97ed-a63d3443e22e",
   "metadata": {},
   "outputs": [],
   "source": [
    "# multi dimensional indexing\n",
    "a1 = np.array([[5,3,9],[2,5,3],[8,3,6]])"
   ]
  },
  {
   "cell_type": "code",
   "execution_count": 69,
   "id": "73c6bc59-0261-4af5-9855-49e1e27e4ebe",
   "metadata": {},
   "outputs": [
    {
     "data": {
      "text/plain": [
       "array([[5, 3, 9],\n",
       "       [2, 5, 3],\n",
       "       [8, 3, 6]])"
      ]
     },
     "execution_count": 69,
     "metadata": {},
     "output_type": "execute_result"
    }
   ],
   "source": [
    "a1 "
   ]
  },
  {
   "cell_type": "code",
   "execution_count": 70,
   "id": "7f8ebc91-4968-461d-b101-f033bc6e4e69",
   "metadata": {},
   "outputs": [
    {
     "data": {
      "text/plain": [
       "2"
      ]
     },
     "execution_count": 70,
     "metadata": {},
     "output_type": "execute_result"
    }
   ],
   "source": [
    "a1.ndim"
   ]
  },
  {
   "cell_type": "code",
   "execution_count": 71,
   "id": "b94dfec9-78ae-4594-ab7e-5c134736077e",
   "metadata": {
    "tags": []
   },
   "outputs": [
    {
     "data": {
      "text/plain": [
       "array([2, 5, 3])"
      ]
     },
     "execution_count": 71,
     "metadata": {},
     "output_type": "execute_result"
    }
   ],
   "source": [
    "a1[1] "
   ]
  },
  {
   "cell_type": "code",
   "execution_count": 72,
   "id": "b39b4b75-10d2-4676-8ae7-584f5feb6333",
   "metadata": {},
   "outputs": [
    {
     "data": {
      "text/plain": [
       "3"
      ]
     },
     "execution_count": 72,
     "metadata": {},
     "output_type": "execute_result"
    }
   ],
   "source": [
    "a1[1][2]"
   ]
  },
  {
   "cell_type": "code",
   "execution_count": 73,
   "id": "60cedae7-0ffa-48ee-93d2-f9ad09e1f72d",
   "metadata": {},
   "outputs": [
    {
     "data": {
      "text/plain": [
       "6"
      ]
     },
     "execution_count": 73,
     "metadata": {},
     "output_type": "execute_result"
    }
   ],
   "source": [
    "a1[2,2]"
   ]
  },
  {
   "cell_type": "code",
   "execution_count": 74,
   "id": "3ca19983-1783-4719-87fa-0c989338cee9",
   "metadata": {},
   "outputs": [
    {
     "data": {
      "text/plain": [
       "array([[5, 3, 9],\n",
       "       [2, 5, 3],\n",
       "       [8, 3, 6]])"
      ]
     },
     "execution_count": 74,
     "metadata": {},
     "output_type": "execute_result"
    }
   ],
   "source": [
    "# multi dimensional slicing\n",
    "a1"
   ]
  },
  {
   "cell_type": "code",
   "execution_count": 75,
   "id": "ce7625d7-e8fb-4dee-8e15-4846422d6703",
   "metadata": {},
   "outputs": [
    {
     "data": {
      "text/plain": [
       "array([[2, 5, 3],\n",
       "       [8, 3, 6]])"
      ]
     },
     "execution_count": 75,
     "metadata": {},
     "output_type": "execute_result"
    }
   ],
   "source": [
    "a1[1:]"
   ]
  },
  {
   "cell_type": "code",
   "execution_count": 76,
   "id": "487d5a3a-c431-4c51-9612-0be2410aefa1",
   "metadata": {},
   "outputs": [
    {
     "data": {
      "text/plain": [
       "array([[5, 3, 9],\n",
       "       [2, 5, 3]])"
      ]
     },
     "execution_count": 76,
     "metadata": {},
     "output_type": "execute_result"
    }
   ],
   "source": [
    "a1[:2]"
   ]
  },
  {
   "cell_type": "code",
   "execution_count": 77,
   "id": "fc3af30b-f980-434c-a9f4-c1389cb98589",
   "metadata": {},
   "outputs": [
    {
     "data": {
      "text/plain": [
       "array([[5, 3, 9]])"
      ]
     },
     "execution_count": 77,
     "metadata": {},
     "output_type": "execute_result"
    }
   ],
   "source": [
    "a1[0:1]"
   ]
  },
  {
   "cell_type": "code",
   "execution_count": 78,
   "id": "bc0f4f20-ea3a-4164-9979-f340565d66de",
   "metadata": {},
   "outputs": [
    {
     "data": {
      "text/plain": [
       "array([[5, 3, 9],\n",
       "       [2, 5, 3],\n",
       "       [8, 3, 6]])"
      ]
     },
     "execution_count": 78,
     "metadata": {},
     "output_type": "execute_result"
    }
   ],
   "source": [
    "a1"
   ]
  },
  {
   "cell_type": "code",
   "execution_count": 79,
   "id": "d56cc28a-e539-40a6-82a4-09c7c89295c1",
   "metadata": {},
   "outputs": [
    {
     "data": {
      "text/plain": [
       "array([[5, 3, 9]])"
      ]
     },
     "execution_count": 79,
     "metadata": {},
     "output_type": "execute_result"
    }
   ],
   "source": [
    "a1[0:2:2]"
   ]
  },
  {
   "cell_type": "code",
   "execution_count": 80,
   "id": "c335dc48-98bf-4314-9f40-451634a4aaa8",
   "metadata": {},
   "outputs": [
    {
     "data": {
      "text/plain": [
       "array([[5, 3, 9]])"
      ]
     },
     "execution_count": 80,
     "metadata": {},
     "output_type": "execute_result"
    }
   ],
   "source": [
    "a1[0:1,]"
   ]
  },
  {
   "cell_type": "code",
   "execution_count": 81,
   "id": "29eed026-7011-4522-ab74-188f5c774ddc",
   "metadata": {},
   "outputs": [
    {
     "data": {
      "text/plain": [
       "array([[5, 3]])"
      ]
     },
     "execution_count": 81,
     "metadata": {},
     "output_type": "execute_result"
    }
   ],
   "source": [
    "a1[0:1,0:2]"
   ]
  },
  {
   "cell_type": "code",
   "execution_count": 82,
   "id": "2524d01d-be97-4168-bc11-e884f917bb37",
   "metadata": {},
   "outputs": [],
   "source": [
    "arr = np.random.randint(0, 10, (6, 6))"
   ]
  },
  {
   "cell_type": "code",
   "execution_count": 83,
   "id": "9d790cba-39d6-4245-b35c-04099bc340ad",
   "metadata": {},
   "outputs": [
    {
     "data": {
      "text/plain": [
       "array([[8, 9, 9, 3, 1, 2],\n",
       "       [2, 5, 1, 6, 9, 0],\n",
       "       [0, 6, 3, 2, 1, 5],\n",
       "       [5, 1, 9, 7, 1, 5],\n",
       "       [6, 3, 9, 7, 8, 3],\n",
       "       [8, 4, 3, 4, 9, 0]])"
      ]
     },
     "execution_count": 83,
     "metadata": {},
     "output_type": "execute_result"
    }
   ],
   "source": [
    "arr"
   ]
  },
  {
   "cell_type": "code",
   "execution_count": 84,
   "id": "b5df95bd-9e21-4b8c-ba51-18dcd889f2a6",
   "metadata": {},
   "outputs": [
    {
     "data": {
      "text/plain": [
       "array([[0, 6, 3, 2, 1, 5],\n",
       "       [5, 1, 9, 7, 1, 5],\n",
       "       [6, 3, 9, 7, 8, 3],\n",
       "       [8, 4, 3, 4, 9, 0]])"
      ]
     },
     "execution_count": 84,
     "metadata": {},
     "output_type": "execute_result"
    }
   ],
   "source": [
    "arr[2:]"
   ]
  },
  {
   "cell_type": "code",
   "execution_count": 85,
   "id": "9f16e8cf-4d84-419d-83c6-9293b0eb1249",
   "metadata": {},
   "outputs": [
    {
     "data": {
      "text/plain": [
       "array([[0, 6, 3, 2, 1, 5],\n",
       "       [5, 1, 9, 7, 1, 5],\n",
       "       [6, 3, 9, 7, 8, 3]])"
      ]
     },
     "execution_count": 85,
     "metadata": {},
     "output_type": "execute_result"
    }
   ],
   "source": [
    "arr[2:5]"
   ]
  },
  {
   "cell_type": "code",
   "execution_count": 86,
   "id": "9971f973-8a26-4477-a2e0-2230497425e8",
   "metadata": {},
   "outputs": [
    {
     "data": {
      "text/plain": [
       "array([[6, 3, 2, 1, 5],\n",
       "       [1, 9, 7, 1, 5],\n",
       "       [3, 9, 7, 8, 3]])"
      ]
     },
     "execution_count": 86,
     "metadata": {},
     "output_type": "execute_result"
    }
   ],
   "source": [
    "arr[2:5,1:]"
   ]
  },
  {
   "cell_type": "code",
   "execution_count": 87,
   "id": "e3a7187d-a44c-4904-99d9-9853202cbab1",
   "metadata": {},
   "outputs": [
    {
     "data": {
      "text/plain": [
       "array([[6, 3, 2],\n",
       "       [1, 9, 7],\n",
       "       [3, 9, 7]])"
      ]
     },
     "execution_count": 87,
     "metadata": {},
     "output_type": "execute_result"
    }
   ],
   "source": [
    "arr[2:5,1:4]"
   ]
  },
  {
   "cell_type": "code",
   "execution_count": 88,
   "id": "5bea4778-1aa4-400d-974d-c92c627b0045",
   "metadata": {},
   "outputs": [
    {
     "data": {
      "text/plain": [
       "array([[6, 2],\n",
       "       [1, 7],\n",
       "       [3, 7]])"
      ]
     },
     "execution_count": 88,
     "metadata": {},
     "output_type": "execute_result"
    }
   ],
   "source": [
    "arr[2:5,1:4:2]"
   ]
  },
  {
   "cell_type": "code",
   "execution_count": 89,
   "id": "526f53f2-d456-49c3-88dd-3aa1721bea11",
   "metadata": {},
   "outputs": [
    {
     "data": {
      "text/plain": [
       "array([[6, 2],\n",
       "       [3, 7]])"
      ]
     },
     "execution_count": 89,
     "metadata": {},
     "output_type": "execute_result"
    }
   ],
   "source": [
    "arr[2:5:2,1:4:2]"
   ]
  },
  {
   "cell_type": "code",
   "execution_count": null,
   "id": "914e73a5-ccc6-4e4f-9997-d8e569eae78e",
   "metadata": {},
   "outputs": [],
   "source": []
  }
 ],
 "metadata": {
  "kernelspec": {
   "display_name": "Python 3 (ipykernel)",
   "language": "python",
   "name": "python3"
  },
  "language_info": {
   "codemirror_mode": {
    "name": "ipython",
    "version": 3
   },
   "file_extension": ".py",
   "mimetype": "text/x-python",
   "name": "python",
   "nbconvert_exporter": "python",
   "pygments_lexer": "ipython3",
   "version": "3.10.6"
  }
 },
 "nbformat": 4,
 "nbformat_minor": 5
}
