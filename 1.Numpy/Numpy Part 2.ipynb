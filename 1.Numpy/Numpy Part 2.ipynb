{
 "cells": [
  {
   "cell_type": "markdown",
   "id": "813de313-fdbb-4870-bc6c-211e810ed461",
   "metadata": {},
   "source": [
    "## Array manipulation ##"
   ]
  },
  {
   "cell_type": "code",
   "execution_count": 1,
   "id": "8159cd30-da1d-4a88-9900-1db5aa9716bf",
   "metadata": {},
   "outputs": [],
   "source": [
    "import numpy as np"
   ]
  },
  {
   "cell_type": "code",
   "execution_count": 2,
   "id": "3021847a-6075-4f7f-a43d-c7358c81d688",
   "metadata": {},
   "outputs": [],
   "source": [
    "arr = np.random.randint(1,20,(5,6))"
   ]
  },
  {
   "cell_type": "code",
   "execution_count": 3,
   "id": "13b9d52b-fb56-4e8d-b900-c5a531af28b1",
   "metadata": {},
   "outputs": [
    {
     "data": {
      "text/plain": [
       "array([[ 6, 18,  1, 15,  1,  9],\n",
       "       [15, 16, 15, 19, 17, 15],\n",
       "       [11, 14, 13,  7,  6,  6],\n",
       "       [ 1, 10,  2, 18,  1,  9],\n",
       "       [19,  5, 11, 14,  6, 14]])"
      ]
     },
     "execution_count": 3,
     "metadata": {},
     "output_type": "execute_result"
    }
   ],
   "source": [
    "arr"
   ]
  },
  {
   "cell_type": "code",
   "execution_count": 4,
   "id": "61e2d3de-4f7f-48c7-9357-4d4accfbc267",
   "metadata": {},
   "outputs": [
    {
     "data": {
      "text/plain": [
       "(5, 6)"
      ]
     },
     "execution_count": 4,
     "metadata": {},
     "output_type": "execute_result"
    }
   ],
   "source": [
    "arr.shape"
   ]
  },
  {
   "cell_type": "code",
   "execution_count": 5,
   "id": "9a81ec1e-e22c-4d56-96e6-7ac6ae907f93",
   "metadata": {},
   "outputs": [
    {
     "data": {
      "text/plain": [
       "array([[ 6, 18,  1, 15,  1,  9, 15, 16, 15, 19],\n",
       "       [17, 15, 11, 14, 13,  7,  6,  6,  1, 10],\n",
       "       [ 2, 18,  1,  9, 19,  5, 11, 14,  6, 14]])"
      ]
     },
     "execution_count": 5,
     "metadata": {},
     "output_type": "execute_result"
    }
   ],
   "source": [
    "arr.reshape(3,10)"
   ]
  },
  {
   "cell_type": "code",
   "execution_count": 6,
   "id": "5ee0e3a7-d318-408e-b78e-bc4444c1f529",
   "metadata": {},
   "outputs": [
    {
     "data": {
      "text/plain": [
       "array([ 6, 18,  1, 15,  1,  9, 15, 16, 15, 19, 17, 15, 11, 14, 13,  7,  6,\n",
       "        6,  1, 10,  2, 18,  1,  9, 19,  5, 11, 14,  6, 14])"
      ]
     },
     "execution_count": 6,
     "metadata": {},
     "output_type": "execute_result"
    }
   ],
   "source": [
    "arr.flatten()"
   ]
  },
  {
   "cell_type": "code",
   "execution_count": 7,
   "id": "d0578ba6-4be4-418d-8f39-97b512f9e300",
   "metadata": {},
   "outputs": [],
   "source": [
    "arr1 = np.array([2,3,4,7,5])"
   ]
  },
  {
   "cell_type": "code",
   "execution_count": 8,
   "id": "415cc887-b3e5-4b80-9659-6165bf50f44f",
   "metadata": {},
   "outputs": [
    {
     "data": {
      "text/plain": [
       "array([2, 3, 4, 7, 5])"
      ]
     },
     "execution_count": 8,
     "metadata": {},
     "output_type": "execute_result"
    }
   ],
   "source": [
    "arr1"
   ]
  },
  {
   "cell_type": "code",
   "execution_count": 9,
   "id": "03431bfe-dc11-401a-a2e6-ec450c03a18a",
   "metadata": {},
   "outputs": [
    {
     "data": {
      "text/plain": [
       "array([[2, 3, 4, 7, 5]])"
      ]
     },
     "execution_count": 9,
     "metadata": {},
     "output_type": "execute_result"
    }
   ],
   "source": [
    "np.expand_dims(arr1,axis = 0) # increase the dimension"
   ]
  },
  {
   "cell_type": "code",
   "execution_count": 10,
   "id": "25383b6e-cfab-4447-93fe-bec98df19e16",
   "metadata": {},
   "outputs": [
    {
     "data": {
      "text/plain": [
       "array([[2],\n",
       "       [3],\n",
       "       [4],\n",
       "       [7],\n",
       "       [5]])"
      ]
     },
     "execution_count": 10,
     "metadata": {},
     "output_type": "execute_result"
    }
   ],
   "source": [
    "np.expand_dims(arr1,axis = 1)"
   ]
  },
  {
   "cell_type": "code",
   "execution_count": 11,
   "id": "478fda21-1565-4573-b4c6-8c39f3a0d600",
   "metadata": {},
   "outputs": [],
   "source": [
    "arr1 = np.expand_dims(arr1,axis = (0,2)) "
   ]
  },
  {
   "cell_type": "code",
   "execution_count": 12,
   "id": "01e8da2f-9251-47fe-b40e-de6e5c0228e5",
   "metadata": {},
   "outputs": [
    {
     "data": {
      "text/plain": [
       "array([[[2],\n",
       "        [3],\n",
       "        [4],\n",
       "        [7],\n",
       "        [5]]])"
      ]
     },
     "execution_count": 12,
     "metadata": {},
     "output_type": "execute_result"
    }
   ],
   "source": [
    "arr1"
   ]
  },
  {
   "cell_type": "code",
   "execution_count": 13,
   "id": "db3753b2-8eee-4df2-b0ab-6003b902d08d",
   "metadata": {},
   "outputs": [
    {
     "data": {
      "text/plain": [
       "3"
      ]
     },
     "execution_count": 13,
     "metadata": {},
     "output_type": "execute_result"
    }
   ],
   "source": [
    "arr1.ndim"
   ]
  },
  {
   "cell_type": "code",
   "execution_count": 14,
   "id": "4343638c-fb97-4316-b1d4-09f5fa92c6eb",
   "metadata": {},
   "outputs": [],
   "source": [
    "a = np.array([[2],[4],[8]])"
   ]
  },
  {
   "cell_type": "code",
   "execution_count": 15,
   "id": "52d4ef29-dd96-4542-8337-46275feafc51",
   "metadata": {},
   "outputs": [
    {
     "data": {
      "text/plain": [
       "array([[2],\n",
       "       [4],\n",
       "       [8]])"
      ]
     },
     "execution_count": 15,
     "metadata": {},
     "output_type": "execute_result"
    }
   ],
   "source": [
    "a"
   ]
  },
  {
   "cell_type": "code",
   "execution_count": 16,
   "id": "b689a5ec-eb34-4464-978f-b24282eaec83",
   "metadata": {},
   "outputs": [
    {
     "data": {
      "text/plain": [
       "array([2, 4, 8])"
      ]
     },
     "execution_count": 16,
     "metadata": {},
     "output_type": "execute_result"
    }
   ],
   "source": [
    "a.squeeze(axis=1)"
   ]
  },
  {
   "cell_type": "code",
   "execution_count": 17,
   "id": "86bb147d-f101-4d45-9cba-b57725fa48d1",
   "metadata": {},
   "outputs": [
    {
     "data": {
      "text/plain": [
       "array([2, 2, 4, 4, 8, 8])"
      ]
     },
     "execution_count": 17,
     "metadata": {},
     "output_type": "execute_result"
    }
   ],
   "source": [
    "np.repeat(a,2)"
   ]
  },
  {
   "cell_type": "code",
   "execution_count": 18,
   "id": "1ff08dc6-ba3f-4c2f-b6c1-36844c3630b8",
   "metadata": {},
   "outputs": [
    {
     "data": {
      "text/plain": [
       "array([[2],\n",
       "       [4],\n",
       "       [8]])"
      ]
     },
     "execution_count": 18,
     "metadata": {},
     "output_type": "execute_result"
    }
   ],
   "source": [
    "a"
   ]
  },
  {
   "cell_type": "code",
   "execution_count": 19,
   "id": "488e8e59-90df-441e-8b7c-db38078e0384",
   "metadata": {},
   "outputs": [
    {
     "data": {
      "text/plain": [
       "array([[2, 2],\n",
       "       [4, 4],\n",
       "       [8, 8]])"
      ]
     },
     "execution_count": 19,
     "metadata": {},
     "output_type": "execute_result"
    }
   ],
   "source": [
    "np.repeat(a,2,axis=1)"
   ]
  },
  {
   "cell_type": "code",
   "execution_count": 22,
   "id": "12a0362a-414b-45bd-b8bc-4cabb3d48642",
   "metadata": {},
   "outputs": [],
   "source": [
    "a = a.flatten()"
   ]
  },
  {
   "cell_type": "code",
   "execution_count": 23,
   "id": "3de9d562-78f1-4326-9750-a40e57601089",
   "metadata": {},
   "outputs": [
    {
     "data": {
      "text/plain": [
       "array([2, 4, 8])"
      ]
     },
     "execution_count": 23,
     "metadata": {},
     "output_type": "execute_result"
    }
   ],
   "source": [
    "a"
   ]
  },
  {
   "cell_type": "code",
   "execution_count": null,
   "id": "34fc05d6-7e44-469e-8d71-bda6113e1c7b",
   "metadata": {},
   "outputs": [],
   "source": [
    "a.roll()"
   ]
  }
 ],
 "metadata": {
  "kernelspec": {
   "display_name": "Python 3 (ipykernel)",
   "language": "python",
   "name": "python3"
  },
  "language_info": {
   "codemirror_mode": {
    "name": "ipython",
    "version": 3
   },
   "file_extension": ".py",
   "mimetype": "text/x-python",
   "name": "python",
   "nbconvert_exporter": "python",
   "pygments_lexer": "ipython3",
   "version": "3.10.6"
  }
 },
 "nbformat": 4,
 "nbformat_minor": 5
}
