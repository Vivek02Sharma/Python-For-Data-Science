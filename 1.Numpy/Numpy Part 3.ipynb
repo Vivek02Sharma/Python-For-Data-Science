{
 "cells": [
  {
   "cell_type": "markdown",
   "id": "91b49cb1-b4fe-4fe5-ae0a-bbc7ff799bb7",
   "metadata": {},
   "source": [
    "## Sort ,search and count ##"
   ]
  },
  {
   "cell_type": "code",
   "execution_count": 1,
   "id": "b7452225-1088-4bfc-a8af-c2cd95e4e63a",
   "metadata": {},
   "outputs": [],
   "source": [
    "import numpy as np"
   ]
  },
  {
   "cell_type": "code",
   "execution_count": 2,
   "id": "6d434df7-832d-4b22-a436-5a7c9946a405",
   "metadata": {},
   "outputs": [],
   "source": [
    "arr = np.array([5,7,5,6,45,78,1,12,28])"
   ]
  },
  {
   "cell_type": "code",
   "execution_count": 3,
   "id": "bc4b30d4-ecfb-4a86-b89c-46596780dad2",
   "metadata": {},
   "outputs": [
    {
     "data": {
      "text/plain": [
       "array([ 5,  7,  5,  6, 45, 78,  1, 12, 28])"
      ]
     },
     "execution_count": 3,
     "metadata": {},
     "output_type": "execute_result"
    }
   ],
   "source": [
    "arr"
   ]
  },
  {
   "cell_type": "code",
   "execution_count": 5,
   "id": "c2674021-9191-404f-9630-ee293dd9c8b6",
   "metadata": {},
   "outputs": [
    {
     "data": {
      "text/plain": [
       "array([ 1,  5,  5,  6,  7, 12, 28, 45, 78])"
      ]
     },
     "execution_count": 5,
     "metadata": {},
     "output_type": "execute_result"
    }
   ],
   "source": [
    "np.sort(arr)"
   ]
  },
  {
   "cell_type": "code",
   "execution_count": 8,
   "id": "268caa5a-1fd1-4473-8afe-c21451c6e650",
   "metadata": {},
   "outputs": [
    {
     "data": {
      "text/plain": [
       "4"
      ]
     },
     "execution_count": 8,
     "metadata": {},
     "output_type": "execute_result"
    }
   ],
   "source": [
    "np.searchsorted(arr,27) # find the index to put the value in ascending order"
   ]
  },
  {
   "cell_type": "code",
   "execution_count": 9,
   "id": "74d7e650-ea34-4d02-bf97-4c9378e99c33",
   "metadata": {},
   "outputs": [],
   "source": [
    "a = np.array([2,4,5,0,0,0,0,0,0,4,0])"
   ]
  },
  {
   "cell_type": "code",
   "execution_count": 10,
   "id": "dbc01af8-172c-477a-baf3-fb6d6463a4cb",
   "metadata": {},
   "outputs": [
    {
     "data": {
      "text/plain": [
       "array([2, 4, 5, 0, 0, 0, 0, 0, 0, 4, 0])"
      ]
     },
     "execution_count": 10,
     "metadata": {},
     "output_type": "execute_result"
    }
   ],
   "source": [
    "a"
   ]
  },
  {
   "cell_type": "code",
   "execution_count": 12,
   "id": "3705f96a-2ffb-40f4-8df1-e070c9578367",
   "metadata": {},
   "outputs": [
    {
     "data": {
      "text/plain": [
       "4"
      ]
     },
     "execution_count": 12,
     "metadata": {},
     "output_type": "execute_result"
    }
   ],
   "source": [
    "np.count_nonzero(a) # it gives the no. of non zero values"
   ]
  },
  {
   "cell_type": "code",
   "execution_count": 15,
   "id": "c1ae013a-2ac7-4dfa-acdc-91a8a2242bb4",
   "metadata": {},
   "outputs": [
    {
     "data": {
      "text/plain": [
       "array([ 5,  7,  5,  6, 45, 78,  1, 12, 28])"
      ]
     },
     "execution_count": 15,
     "metadata": {},
     "output_type": "execute_result"
    }
   ],
   "source": [
    "arr"
   ]
  },
  {
   "cell_type": "code",
   "execution_count": 17,
   "id": "6ffd1d53-a97e-411b-8d89-27705a4c0bc4",
   "metadata": {},
   "outputs": [
    {
     "data": {
      "text/plain": [
       "(array([3]),)"
      ]
     },
     "execution_count": 17,
     "metadata": {},
     "output_type": "execute_result"
    }
   ],
   "source": [
    "np.where(arr==6) # it gives the index according to tthe condition"
   ]
  },
  {
   "cell_type": "code",
   "execution_count": 18,
   "id": "ef050337-2e1e-46d2-a161-ec6a6a159f91",
   "metadata": {},
   "outputs": [
    {
     "data": {
      "text/plain": [
       "(array([0, 2, 6]),)"
      ]
     },
     "execution_count": 18,
     "metadata": {},
     "output_type": "execute_result"
    }
   ],
   "source": [
    "np.where(arr<6)"
   ]
  },
  {
   "cell_type": "code",
   "execution_count": 22,
   "id": "a945e6e7-5bc3-4587-be43-171697b4fd28",
   "metadata": {},
   "outputs": [
    {
     "data": {
      "text/plain": [
       "array([ 7, 45, 78, 12, 28])"
      ]
     },
     "execution_count": 22,
     "metadata": {},
     "output_type": "execute_result"
    }
   ],
   "source": [
    "np.extract(arr>6,arr) # it gives the values according to the condition"
   ]
  },
  {
   "cell_type": "code",
   "execution_count": null,
   "id": "bddd272d-9fce-40ef-95e1-71d0d829bf6e",
   "metadata": {},
   "outputs": [],
   "source": []
  }
 ],
 "metadata": {
  "kernelspec": {
   "display_name": "Python 3 (ipykernel)",
   "language": "python",
   "name": "python3"
  },
  "language_info": {
   "codemirror_mode": {
    "name": "ipython",
    "version": 3
   },
   "file_extension": ".py",
   "mimetype": "text/x-python",
   "name": "python",
   "nbconvert_exporter": "python",
   "pygments_lexer": "ipython3",
   "version": "3.10.6"
  }
 },
 "nbformat": 4,
 "nbformat_minor": 5
}
