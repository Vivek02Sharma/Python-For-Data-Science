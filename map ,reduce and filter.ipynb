{
 "cells": [
  {
   "cell_type": "markdown",
   "id": "0463154b-f383-42e0-aeb3-a68c0b602982",
   "metadata": {},
   "source": [
    "**Map , Reduce and Filter**"
   ]
  },
  {
   "cell_type": "markdown",
   "id": "625f0432-f7e7-4c83-984a-1229496d374b",
   "metadata": {
    "tags": []
   },
   "source": [
    "**1.Map**"
   ]
  },
  {
   "cell_type": "code",
   "execution_count": 11,
   "id": "571e9857-e3ee-4df5-9c34-d546c0a678ea",
   "metadata": {
    "tags": []
   },
   "outputs": [
    {
     "data": {
      "text/plain": [
       "[1, 2, 3, 2, 4, 9]"
      ]
     },
     "execution_count": 11,
     "metadata": {},
     "output_type": "execute_result"
    }
   ],
   "source": [
    "l =  [2,5,3,6,9]\n",
    "l1"
   ]
  },
  {
   "cell_type": "code",
   "execution_count": 85,
   "id": "cdfd8695-6066-4c6a-994c-e57e29324984",
   "metadata": {
    "tags": []
   },
   "outputs": [
    {
     "data": {
      "text/plain": [
       "[4, 25, 9, 36, 81]"
      ]
     },
     "execution_count": 85,
     "metadata": {},
     "output_type": "execute_result"
    }
   ],
   "source": [
    "list(map(lambda x:x*x,l)) #square of list element "
   ]
  },
  {
   "cell_type": "code",
   "execution_count": 50,
   "id": "9a098ea3-6976-40ac-8e84-854591a7294b",
   "metadata": {
    "tags": []
   },
   "outputs": [],
   "source": [
    "l1 = [7,5,7,0,8]\n",
    "l2 =  [2,0,1,6,9]"
   ]
  },
  {
   "cell_type": "code",
   "execution_count": 48,
   "id": "8a3e99e9-d1d9-4c20-a0a4-9d0508bc3117",
   "metadata": {
    "tags": []
   },
   "outputs": [],
   "source": [
    "def add(x,y):\n",
    "    return x+y"
   ]
  },
  {
   "cell_type": "code",
   "execution_count": 82,
   "id": "5ed90021-af2b-4bfa-ae59-ef57235ac8c9",
   "metadata": {
    "tags": []
   },
   "outputs": [
    {
     "data": {
      "text/plain": [
       "[9, 5, 8, 6, 17]"
      ]
     },
     "execution_count": 82,
     "metadata": {},
     "output_type": "execute_result"
    }
   ],
   "source": [
    "list(map(add,l1,l2)) #addition of element of two list"
   ]
  },
  {
   "cell_type": "code",
   "execution_count": 83,
   "id": "fcbefae1-a4b4-48b3-b6f4-079d30e6fd74",
   "metadata": {
    "tags": []
   },
   "outputs": [
    {
     "data": {
      "text/plain": [
       "[9, 5, 8, 6, 17]"
      ]
     },
     "execution_count": 83,
     "metadata": {},
     "output_type": "execute_result"
    }
   ],
   "source": [
    "list(map(lambda x,y:x+y,l1,l2)) #using lambda function (addition of element of two list)"
   ]
  },
  {
   "cell_type": "code",
   "execution_count": 84,
   "id": "4eb19aec-7a9c-4e0b-8080-c9e04541e095",
   "metadata": {
    "tags": []
   },
   "outputs": [
    {
     "data": {
      "text/plain": [
       "[5, 5, 6, -6, -1]"
      ]
     },
     "execution_count": 84,
     "metadata": {},
     "output_type": "execute_result"
    }
   ],
   "source": [
    "list(map(lambda x,y:x-y,l1,l2))  #subtraction of element of two list"
   ]
  },
  {
   "cell_type": "code",
   "execution_count": 56,
   "id": "96339e64-23cd-4da0-916d-fc230b619253",
   "metadata": {
    "tags": []
   },
   "outputs": [
    {
     "data": {
      "text/plain": [
       "[14, 0, 7, 0, 72]"
      ]
     },
     "execution_count": 56,
     "metadata": {},
     "output_type": "execute_result"
    }
   ],
   "source": [
    "list(map(lambda x,y:x*y,l1,l2)) #multiplication of element of two list"
   ]
  },
  {
   "cell_type": "code",
   "execution_count": 72,
   "id": "80e69a59-1652-455f-b82c-38bd8ba37a01",
   "metadata": {
    "tags": []
   },
   "outputs": [],
   "source": [
    "str = \"codekarbefikar\""
   ]
  },
  {
   "cell_type": "code",
   "execution_count": 73,
   "id": "c94c3287-cc48-415e-add4-20d0633a5d1c",
   "metadata": {
    "tags": []
   },
   "outputs": [
    {
     "data": {
      "text/plain": [
       "['C', 'O', 'D', 'E', 'K', 'A', 'R', 'B', 'E', 'F', 'I', 'K', 'A', 'R']"
      ]
     },
     "execution_count": 73,
     "metadata": {},
     "output_type": "execute_result"
    }
   ],
   "source": [
    "list(map(lambda x:x.upper(),str)) "
   ]
  },
  {
   "cell_type": "code",
   "execution_count": 74,
   "id": "1ac8365e-bebb-48b3-94ba-eff94c22d1cd",
   "metadata": {
    "tags": []
   },
   "outputs": [
    {
     "data": {
      "text/plain": [
       "[7, 5, 7, 0, 8]"
      ]
     },
     "execution_count": 74,
     "metadata": {},
     "output_type": "execute_result"
    }
   ],
   "source": [
    "l1"
   ]
  },
  {
   "cell_type": "code",
   "execution_count": 75,
   "id": "0bd40666-fcd3-4a7e-945b-b8b263851f35",
   "metadata": {
    "tags": []
   },
   "outputs": [
    {
     "data": {
      "text/plain": [
       "[2, 0, 1, 6, 9]"
      ]
     },
     "execution_count": 75,
     "metadata": {},
     "output_type": "execute_result"
    }
   ],
   "source": [
    "l2"
   ]
  },
  {
   "cell_type": "code",
   "execution_count": 79,
   "id": "d898dca0-e7bb-499b-847e-7f10fde22ab5",
   "metadata": {
    "tags": []
   },
   "outputs": [
    {
     "data": {
      "text/plain": [
       "[7, 5, 7, 6, 9]"
      ]
     },
     "execution_count": 79,
     "metadata": {},
     "output_type": "execute_result"
    }
   ],
   "source": [
    "list(map(lambda x,y:x if x>y else y,l1,l2 )) #create a list of biggest number from both list's element "
   ]
  },
  {
   "cell_type": "code",
   "execution_count": null,
   "id": "4c9133e7-5b45-46a0-8677-cc9cf70a8b1c",
   "metadata": {},
   "outputs": [],
   "source": []
  },
  {
   "cell_type": "markdown",
   "id": "1909de3e-7a4b-4af7-baf9-981de459c1f6",
   "metadata": {
    "tags": []
   },
   "source": [
    "**2.Reduce : It gives a single value**"
   ]
  },
  {
   "cell_type": "code",
   "execution_count": 22,
   "id": "b348f5bf-9f1c-4129-bba6-cdeea87a43f1",
   "metadata": {
    "tags": []
   },
   "outputs": [],
   "source": [
    "from functools import reduce"
   ]
  },
  {
   "cell_type": "code",
   "execution_count": 88,
   "id": "86d7f1cd-c5f2-4566-b85b-a3e7ce96e012",
   "metadata": {
    "tags": []
   },
   "outputs": [
    {
     "data": {
      "text/plain": [
       "[7, 5, 7, 0, 8]"
      ]
     },
     "execution_count": 88,
     "metadata": {},
     "output_type": "execute_result"
    }
   ],
   "source": [
    "l1"
   ]
  },
  {
   "cell_type": "code",
   "execution_count": 86,
   "id": "134828b9-2d87-4fe0-838b-fdbcf1a5bdfb",
   "metadata": {
    "tags": []
   },
   "outputs": [
    {
     "data": {
      "text/plain": [
       "[2, 0, 1, 6, 9]"
      ]
     },
     "execution_count": 86,
     "metadata": {},
     "output_type": "execute_result"
    }
   ],
   "source": [
    "l2"
   ]
  },
  {
   "cell_type": "code",
   "execution_count": 61,
   "id": "18e062cf-3b23-4e62-a610-2fbad4b5f173",
   "metadata": {
    "tags": []
   },
   "outputs": [
    {
     "data": {
      "text/plain": [
       "27"
      ]
     },
     "execution_count": 61,
     "metadata": {},
     "output_type": "execute_result"
    }
   ],
   "source": [
    "reduce(lambda x,y:x+y,l1) #sum of all element of the list"
   ]
  },
  {
   "cell_type": "code",
   "execution_count": 66,
   "id": "201f05e3-f235-4ee9-b85b-c7937b5264f3",
   "metadata": {
    "tags": []
   },
   "outputs": [
    {
     "data": {
      "text/plain": [
       "8"
      ]
     },
     "execution_count": 66,
     "metadata": {},
     "output_type": "execute_result"
    }
   ],
   "source": [
    "reduce(lambda x,y:x if x>y else y,l1) #biggest number in the list"
   ]
  },
  {
   "cell_type": "markdown",
   "id": "fe9c1334-c4a6-4223-8175-79e4effb036d",
   "metadata": {},
   "source": [
    "**3.Filter : It gives a filtered list according to instruction**"
   ]
  },
  {
   "cell_type": "code",
   "execution_count": 89,
   "id": "fa1b7ecd-3cdb-473d-90bd-0f2c9e061d91",
   "metadata": {
    "tags": []
   },
   "outputs": [
    {
     "data": {
      "text/plain": [
       "[7, 5, 7, 0, 8]"
      ]
     },
     "execution_count": 89,
     "metadata": {},
     "output_type": "execute_result"
    }
   ],
   "source": [
    "l1"
   ]
  },
  {
   "cell_type": "code",
   "execution_count": 92,
   "id": "497b05fa-21b1-4b8c-936f-8aff31810ec5",
   "metadata": {
    "tags": []
   },
   "outputs": [
    {
     "data": {
      "text/plain": [
       "[2, 0, 1, 6, 9]"
      ]
     },
     "execution_count": 92,
     "metadata": {},
     "output_type": "execute_result"
    }
   ],
   "source": [
    "l2"
   ]
  },
  {
   "cell_type": "code",
   "execution_count": 107,
   "id": "3fa35fc7-992b-4999-b45f-2dadae9910dc",
   "metadata": {
    "tags": []
   },
   "outputs": [
    {
     "data": {
      "text/plain": [
       "[0, 8]"
      ]
     },
     "execution_count": 107,
     "metadata": {},
     "output_type": "execute_result"
    }
   ],
   "source": [
    "list(filter(lambda x:x % 2 == 0 ,l1)) #making list of even number from the list l1"
   ]
  },
  {
   "cell_type": "code",
   "execution_count": 108,
   "id": "cc9eda09-42b4-48c2-97bc-22797fa19223",
   "metadata": {
    "tags": []
   },
   "outputs": [
    {
     "data": {
      "text/plain": [
       "[1, 9]"
      ]
     },
     "execution_count": 108,
     "metadata": {},
     "output_type": "execute_result"
    }
   ],
   "source": [
    "list(filter(lambda x:x % 2 != 0 ,l2)) #making list of even number from the list l2"
   ]
  },
  {
   "cell_type": "code",
   "execution_count": 116,
   "id": "075aad7b-37e9-41d0-a578-025ea8bbdcb5",
   "metadata": {
    "tags": []
   },
   "outputs": [],
   "source": [
    "l3 = [2,-1,-6,0,-5,0,7]"
   ]
  },
  {
   "cell_type": "code",
   "execution_count": 114,
   "id": "20cb1c3c-6a8c-45f9-8be6-ce94ba1f7d03",
   "metadata": {
    "tags": []
   },
   "outputs": [
    {
     "data": {
      "text/plain": [
       "[2, 1, 6, 0, 5, 0, 7]"
      ]
     },
     "execution_count": 114,
     "metadata": {},
     "output_type": "execute_result"
    }
   ],
   "source": [
    "l3"
   ]
  },
  {
   "cell_type": "code",
   "execution_count": 118,
   "id": "1670e688-d2ed-4472-81c6-8ce19509031b",
   "metadata": {
    "tags": []
   },
   "outputs": [
    {
     "data": {
      "text/plain": [
       "[-1, -6, -5]"
      ]
     },
     "execution_count": 118,
     "metadata": {},
     "output_type": "execute_result"
    }
   ],
   "source": [
    "list(filter(lambda x:x<0,l3)) #list of the element where element is less than zero"
   ]
  },
  {
   "cell_type": "code",
   "execution_count": null,
   "id": "f8e1eacb-4cdf-457a-b484-adb3e4de5fc8",
   "metadata": {},
   "outputs": [],
   "source": []
  }
 ],
 "metadata": {
  "kernelspec": {
   "display_name": "Python 3 (ipykernel)",
   "language": "python",
   "name": "python3"
  },
  "language_info": {
   "codemirror_mode": {
    "name": "ipython",
    "version": 3
   },
   "file_extension": ".py",
   "mimetype": "text/x-python",
   "name": "python",
   "nbconvert_exporter": "python",
   "pygments_lexer": "ipython3",
   "version": "3.10.7"
  },
  "toc-autonumbering": true,
  "toc-showcode": false,
  "toc-showmarkdowntxt": false,
  "toc-showtags": false
 },
 "nbformat": 4,
 "nbformat_minor": 5
}
