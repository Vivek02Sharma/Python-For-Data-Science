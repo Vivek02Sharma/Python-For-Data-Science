{
 "cells": [
  {
   "cell_type": "markdown",
   "id": "ed058102-f1bb-4390-8c82-00ca6bb266fd",
   "metadata": {},
   "source": [
    "**SETS**"
   ]
  },
  {
   "cell_type": "code",
   "execution_count": 22,
   "id": "b9effe4d-1964-42d4-a1f5-6b49f1148d7f",
   "metadata": {
    "tags": []
   },
   "outputs": [],
   "source": [
    "s = {\"a\",\"e\",\"i\",\"o\",\"u\"}"
   ]
  },
  {
   "cell_type": "code",
   "execution_count": 2,
   "id": "b204b7f8-1b20-42c3-aa1b-c9f9ae0458f0",
   "metadata": {
    "tags": []
   },
   "outputs": [
    {
     "data": {
      "text/plain": [
       "{'a', 'e', 'i', 'o', 'u'}"
      ]
     },
     "execution_count": 2,
     "metadata": {},
     "output_type": "execute_result"
    }
   ],
   "source": [
    "s"
   ]
  },
  {
   "cell_type": "code",
   "execution_count": 3,
   "id": "8bc5f192-2184-4574-ad3e-e649f491f5e5",
   "metadata": {
    "tags": []
   },
   "outputs": [
    {
     "data": {
      "text/plain": [
       "set"
      ]
     },
     "execution_count": 3,
     "metadata": {},
     "output_type": "execute_result"
    }
   ],
   "source": [
    "type(s)"
   ]
  },
  {
   "cell_type": "code",
   "execution_count": 4,
   "id": "bd33849e-a750-4304-afd8-4762b8a56591",
   "metadata": {
    "tags": []
   },
   "outputs": [
    {
     "data": {
      "text/plain": [
       "5"
      ]
     },
     "execution_count": 4,
     "metadata": {},
     "output_type": "execute_result"
    }
   ],
   "source": [
    "len(s)"
   ]
  },
  {
   "cell_type": "code",
   "execution_count": 5,
   "id": "3e4af713-75fb-46c0-8524-593effcec6a2",
   "metadata": {
    "tags": []
   },
   "outputs": [
    {
     "name": "stdout",
     "output_type": "stream",
     "text": [
      "i\n",
      "e\n",
      "a\n",
      "u\n",
      "o\n"
     ]
    }
   ],
   "source": [
    "for i in s:  # In set elements are unordered,unchangeable and unindexed.That's it print random element from the set\n",
    "    print(i)"
   ]
  },
  {
   "cell_type": "code",
   "execution_count": 6,
   "id": "bbfadc0a-a108-49e8-8eb4-e1fbaeabc3da",
   "metadata": {
    "tags": []
   },
   "outputs": [
    {
     "data": {
      "text/plain": [
       "True"
      ]
     },
     "execution_count": 6,
     "metadata": {},
     "output_type": "execute_result"
    }
   ],
   "source": [
    "\"a\" in s"
   ]
  },
  {
   "cell_type": "code",
   "execution_count": 7,
   "id": "2a0137c1-e3b9-477b-91e9-fb0fa2caf7cb",
   "metadata": {
    "tags": []
   },
   "outputs": [
    {
     "data": {
      "text/plain": [
       "False"
      ]
     },
     "execution_count": 7,
     "metadata": {},
     "output_type": "execute_result"
    }
   ],
   "source": [
    "\"v\" in s"
   ]
  },
  {
   "cell_type": "markdown",
   "id": "3f4ab30c-cc98-410d-ad1f-a94a24c508b9",
   "metadata": {
    "tags": []
   },
   "source": [
    "**Add and remove the element in the set**"
   ]
  },
  {
   "cell_type": "code",
   "execution_count": 8,
   "id": "9d0a811e-ae02-4d66-9fff-da4a2e01a583",
   "metadata": {
    "tags": []
   },
   "outputs": [
    {
     "data": {
      "text/plain": [
       "{'a', 'e', 'i', 'o', 'u', 'v'}"
      ]
     },
     "execution_count": 8,
     "metadata": {},
     "output_type": "execute_result"
    }
   ],
   "source": [
    "s.add(\"v\")\n",
    "s"
   ]
  },
  {
   "cell_type": "code",
   "execution_count": 9,
   "id": "12de2c6f-1e9a-43b3-b086-65620be4c42b",
   "metadata": {
    "tags": []
   },
   "outputs": [
    {
     "data": {
      "text/plain": [
       "{'a', 'e', 'i', 'o', 'u'}"
      ]
     },
     "execution_count": 9,
     "metadata": {},
     "output_type": "execute_result"
    }
   ],
   "source": [
    "s.remove(\"v\") # to remove specific item we write element(\"v\")\n",
    "s"
   ]
  },
  {
   "cell_type": "code",
   "execution_count": 10,
   "id": "0b783ed0-edc5-4698-9a95-6bc0a8a9d20e",
   "metadata": {
    "tags": []
   },
   "outputs": [
    {
     "data": {
      "text/plain": [
       "{'a', 'e', 'i', 'o', 'u'}"
      ]
     },
     "execution_count": 10,
     "metadata": {},
     "output_type": "execute_result"
    }
   ],
   "source": [
    "s.discard(\"v\") #if item not present in the set then **discard** does not show error but **remove** show error\n",
    "s"
   ]
  },
  {
   "cell_type": "code",
   "execution_count": 23,
   "id": "8b4df2f6-9004-4752-bde1-124420d479bf",
   "metadata": {
    "tags": []
   },
   "outputs": [
    {
     "data": {
      "text/plain": [
       "{'a', 'e', 'o', 'u'}"
      ]
     },
     "execution_count": 23,
     "metadata": {},
     "output_type": "execute_result"
    }
   ],
   "source": [
    "s.pop() # **pop** also used for removing a element but remove random element from the set\n",
    "s"
   ]
  },
  {
   "cell_type": "markdown",
   "id": "84e01c9a-4f69-40dc-ade1-ef54fbd354f0",
   "metadata": {},
   "source": [
    "**Set update**"
   ]
  },
  {
   "cell_type": "code",
   "execution_count": 12,
   "id": "8e7406c6-815b-4493-aad2-4e9231dec06b",
   "metadata": {
    "tags": []
   },
   "outputs": [],
   "source": [
    "s1 = {1,2,3}\n",
    "s2 = {'a','b','c','d'}"
   ]
  },
  {
   "cell_type": "code",
   "execution_count": 13,
   "id": "c1952727-fdc3-485f-8387-99bd0978ce8a",
   "metadata": {
    "tags": []
   },
   "outputs": [
    {
     "data": {
      "text/plain": [
       "{1, 2, 3, 'a', 'b', 'c', 'd'}"
      ]
     },
     "execution_count": 13,
     "metadata": {},
     "output_type": "execute_result"
    }
   ],
   "source": [
    "s1.union(s2) # union can combine the set but do not update the set "
   ]
  },
  {
   "cell_type": "code",
   "execution_count": 14,
   "id": "250b2674-0502-44c2-9893-a9c75777ebb6",
   "metadata": {
    "tags": []
   },
   "outputs": [
    {
     "data": {
      "text/plain": [
       "{1, 2, 3}"
      ]
     },
     "execution_count": 14,
     "metadata": {},
     "output_type": "execute_result"
    }
   ],
   "source": [
    "s1 #here the set(s1) is not update"
   ]
  },
  {
   "cell_type": "code",
   "execution_count": 15,
   "id": "38f191c8-c2e5-4811-b8ce-5d2753802f08",
   "metadata": {
    "tags": []
   },
   "outputs": [
    {
     "data": {
      "text/plain": [
       "{1, 2, 3, 'a', 'b', 'c', 'd'}"
      ]
     },
     "execution_count": 15,
     "metadata": {},
     "output_type": "execute_result"
    }
   ],
   "source": [
    "s1.update(s2) #by using update() we can update the set\n",
    "s1"
   ]
  },
  {
   "cell_type": "code",
   "execution_count": 16,
   "id": "7e05cfbb-c23a-4f13-9ecc-1f6f6f2e7d50",
   "metadata": {
    "tags": []
   },
   "outputs": [
    {
     "name": "stdout",
     "output_type": "stream",
     "text": [
      "{'orange', 'apple', 'kiwi', 'banana', 'cherry'}\n"
     ]
    }
   ],
   "source": [
    "thisset = {\"apple\", \"banana\", \"cherry\"} #in the update() method does not have to be a set, it can be any iterable object (tuples, lists, dictionaries etc.).\n",
    "mylist = [\"kiwi\", \"orange\"]\n",
    "\n",
    "thisset.update(mylist)\n",
    "\n",
    "print(thisset) "
   ]
  },
  {
   "cell_type": "markdown",
   "id": "88a65002-45e3-43d6-ab3d-807bec75d1c4",
   "metadata": {},
   "source": [
    "**Join sets**"
   ]
  },
  {
   "cell_type": "code",
   "execution_count": 17,
   "id": "fee6a268-2d8f-4f87-b2f8-995806b4e609",
   "metadata": {
    "tags": []
   },
   "outputs": [],
   "source": [
    "s1 = {'c','v','b'}\n",
    "s2 = {'a','b','c','d'}"
   ]
  },
  {
   "cell_type": "code",
   "execution_count": 18,
   "id": "1425458d-f1b9-4891-be43-6e7ef927d2bd",
   "metadata": {
    "tags": []
   },
   "outputs": [
    {
     "data": {
      "text/plain": [
       "{'a', 'b', 'c', 'd', 'v'}"
      ]
     },
     "execution_count": 18,
     "metadata": {},
     "output_type": "execute_result"
    }
   ],
   "source": [
    "s3 = s1.union(s2) #union used for merging the sets\n",
    "s3"
   ]
  },
  {
   "cell_type": "code",
   "execution_count": 19,
   "id": "3ce60c4d-6c6f-45bc-888b-3d61809fd3e4",
   "metadata": {
    "tags": []
   },
   "outputs": [
    {
     "data": {
      "text/plain": [
       "{'b', 'c'}"
      ]
     },
     "execution_count": 19,
     "metadata": {},
     "output_type": "execute_result"
    }
   ],
   "source": [
    "s3 = s1.intersection(s2) \n",
    "s3"
   ]
  },
  {
   "cell_type": "code",
   "execution_count": 20,
   "id": "3b30564e-6d3d-4f20-b3ae-a399983bf5e6",
   "metadata": {
    "tags": []
   },
   "outputs": [
    {
     "data": {
      "text/plain": [
       "{'b', 'c'}"
      ]
     },
     "execution_count": 20,
     "metadata": {},
     "output_type": "execute_result"
    }
   ],
   "source": [
    "s1.intersection_update(s2)\n",
    "s1"
   ]
  },
  {
   "cell_type": "code",
   "execution_count": 21,
   "id": "09dcd5a2-70ab-4308-a61a-accbcc0ec6e4",
   "metadata": {
    "tags": []
   },
   "outputs": [
    {
     "name": "stdout",
     "output_type": "stream",
     "text": [
      "{'google', 'microsoft', 'banana', 'cherry'}\n"
     ]
    }
   ],
   "source": [
    "x = {\"apple\", \"banana\", \"cherry\"}\n",
    "y = {\"google\", \"microsoft\", \"apple\"}\n",
    "\n",
    "x.symmetric_difference_update(y) #print only those elements which not common in both\n",
    "\n",
    "print(x)"
   ]
  },
  {
   "cell_type": "code",
   "execution_count": null,
   "id": "f426216d-7c98-4322-b8da-d7d860593c0e",
   "metadata": {},
   "outputs": [],
   "source": []
  }
 ],
 "metadata": {
  "kernelspec": {
   "display_name": "Python 3 (ipykernel)",
   "language": "python",
   "name": "python3"
  },
  "language_info": {
   "codemirror_mode": {
    "name": "ipython",
    "version": 3
   },
   "file_extension": ".py",
   "mimetype": "text/x-python",
   "name": "python",
   "nbconvert_exporter": "python",
   "pygments_lexer": "ipython3",
   "version": "3.10.7"
  }
 },
 "nbformat": 4,
 "nbformat_minor": 5
}
