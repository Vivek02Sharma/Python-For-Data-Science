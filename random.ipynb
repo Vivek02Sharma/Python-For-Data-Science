{
 "cells": [
  {
   "cell_type": "markdown",
   "id": "4457c9f7-e706-4ebf-b39b-e0d1a382ebf4",
   "metadata": {},
   "source": [
    "**Random Module**"
   ]
  },
  {
   "cell_type": "code",
   "execution_count": 1,
   "id": "e0fba59c-cae8-41d9-8ca0-f49adfa684af",
   "metadata": {
    "tags": []
   },
   "outputs": [],
   "source": [
    "import random as r"
   ]
  },
  {
   "cell_type": "code",
   "execution_count": 2,
   "id": "ee741fce-9ec7-4721-a0ab-3d688705df75",
   "metadata": {
    "tags": []
   },
   "outputs": [
    {
     "data": {
      "text/plain": [
       "0.2956315509120556"
      ]
     },
     "execution_count": 2,
     "metadata": {},
     "output_type": "execute_result"
    }
   ],
   "source": [
    "r.random() #random number between 0 to 1"
   ]
  },
  {
   "cell_type": "code",
   "execution_count": 3,
   "id": "853aae3d-00e0-4140-8c97-baa5583e6077",
   "metadata": {
    "tags": []
   },
   "outputs": [
    {
     "data": {
      "text/plain": [
       "4"
      ]
     },
     "execution_count": 3,
     "metadata": {},
     "output_type": "execute_result"
    }
   ],
   "source": [
    "r.randint(1,5)"
   ]
  },
  {
   "cell_type": "code",
   "execution_count": 4,
   "id": "ead8913f-42b1-438e-9f0d-feb3f59b08f6",
   "metadata": {
    "tags": []
   },
   "outputs": [
    {
     "data": {
      "text/plain": [
       "4"
      ]
     },
     "execution_count": 4,
     "metadata": {},
     "output_type": "execute_result"
    }
   ],
   "source": [
    "r.randrange(1,5,1) #choose random number from range"
   ]
  },
  {
   "cell_type": "code",
   "execution_count": 5,
   "id": "5946a8f5-c204-4808-8c71-638533064ecd",
   "metadata": {
    "tags": []
   },
   "outputs": [],
   "source": [
    "l = [\"vivek\",\"abhay\",\"saiganesh\",\"ankit\",\"bhavesh\"]"
   ]
  },
  {
   "cell_type": "code",
   "execution_count": 6,
   "id": "97f9a9e0-3311-40c6-a0ee-be99666fb85f",
   "metadata": {
    "tags": []
   },
   "outputs": [
    {
     "data": {
      "text/plain": [
       "'vivek'"
      ]
     },
     "execution_count": 6,
     "metadata": {},
     "output_type": "execute_result"
    }
   ],
   "source": [
    "r.choice(l)"
   ]
  },
  {
   "cell_type": "code",
   "execution_count": 7,
   "id": "678cff66-b245-4360-bce7-48650f1ccb94",
   "metadata": {
    "tags": []
   },
   "outputs": [
    {
     "data": {
      "text/plain": [
       "['vivek']"
      ]
     },
     "execution_count": 7,
     "metadata": {},
     "output_type": "execute_result"
    }
   ],
   "source": [
    "r.choices(l)"
   ]
  },
  {
   "cell_type": "code",
   "execution_count": 8,
   "id": "76d093bf-1cca-4b9c-ba6f-e1293271f479",
   "metadata": {
    "tags": []
   },
   "outputs": [
    {
     "data": {
      "text/plain": [
       "3.509992274330078"
      ]
     },
     "execution_count": 8,
     "metadata": {},
     "output_type": "execute_result"
    }
   ],
   "source": [
    "r.uniform(2,10)"
   ]
  },
  {
   "cell_type": "code",
   "execution_count": null,
   "id": "3eaee645-8b16-4258-951b-2ce804a90842",
   "metadata": {},
   "outputs": [],
   "source": []
  }
 ],
 "metadata": {
  "kernelspec": {
   "display_name": "Python 3 (ipykernel)",
   "language": "python",
   "name": "python3"
  },
  "language_info": {
   "codemirror_mode": {
    "name": "ipython",
    "version": 3
   },
   "file_extension": ".py",
   "mimetype": "text/x-python",
   "name": "python",
   "nbconvert_exporter": "python",
   "pygments_lexer": "ipython3",
   "version": "3.10.7"
  }
 },
 "nbformat": 4,
 "nbformat_minor": 5
}
