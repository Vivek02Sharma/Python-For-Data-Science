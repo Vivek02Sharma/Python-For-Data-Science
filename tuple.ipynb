{
 "cells": [
  {
   "cell_type": "markdown",
   "id": "fc078983-d39f-4749-bd63-e20d45b3d4c8",
   "metadata": {},
   "source": [
    "**Tuple** : Tuple have only two function"
   ]
  },
  {
   "cell_type": "code",
   "execution_count": 1,
   "id": "87ea6da3-7e1f-4902-9f55-b46310f5cc37",
   "metadata": {
    "tags": []
   },
   "outputs": [],
   "source": [
    "t = (1,2,3,8,3)"
   ]
  },
  {
   "cell_type": "code",
   "execution_count": 2,
   "id": "e36959dd-2166-45c9-bf5a-a1ebb479b470",
   "metadata": {
    "tags": []
   },
   "outputs": [
    {
     "data": {
      "text/plain": [
       "(1, 2, 3, 8, 3)"
      ]
     },
     "execution_count": 2,
     "metadata": {},
     "output_type": "execute_result"
    }
   ],
   "source": [
    "t"
   ]
  },
  {
   "cell_type": "code",
   "execution_count": 3,
   "id": "f733a2c5-743f-4c35-8ea1-0a8fec263f51",
   "metadata": {
    "tags": []
   },
   "outputs": [
    {
     "data": {
      "text/plain": [
       "2"
      ]
     },
     "execution_count": 3,
     "metadata": {},
     "output_type": "execute_result"
    }
   ],
   "source": [
    "t.count(3)"
   ]
  },
  {
   "cell_type": "code",
   "execution_count": 4,
   "id": "5c59812a-f993-4e7a-ad91-c8ec4a6b0caa",
   "metadata": {
    "tags": []
   },
   "outputs": [
    {
     "data": {
      "text/plain": [
       "3"
      ]
     },
     "execution_count": 4,
     "metadata": {},
     "output_type": "execute_result"
    }
   ],
   "source": [
    "t.index(8)"
   ]
  }
 ],
 "metadata": {
  "kernelspec": {
   "display_name": "Python 3 (ipykernel)",
   "language": "python",
   "name": "python3"
  },
  "language_info": {
   "codemirror_mode": {
    "name": "ipython",
    "version": 3
   },
   "file_extension": ".py",
   "mimetype": "text/x-python",
   "name": "python",
   "nbconvert_exporter": "python",
   "pygments_lexer": "ipython3",
   "version": "3.10.7"
  }
 },
 "nbformat": 4,
 "nbformat_minor": 5
}
