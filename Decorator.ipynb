{
 "cells": [
  {
   "cell_type": "markdown",
   "id": "22599be8-4457-4f7a-9579-f63f93d48b8f",
   "metadata": {},
   "source": [
    "**Decorator**"
   ]
  },
  {
   "cell_type": "code",
   "execution_count": 1,
   "id": "2ff0f864-b16c-4837-9837-6ee99c326843",
   "metadata": {
    "tags": []
   },
   "outputs": [],
   "source": [
    "def deco(func):\n",
    "    def inner(a,b):\n",
    "        print(\"start\")\n",
    "        func(a,b)\n",
    "        print(\"end\")\n",
    "    return inner    "
   ]
  },
  {
   "cell_type": "code",
   "execution_count": 2,
   "id": "7084351c-af51-46dc-9fd7-bf4eb724d3fc",
   "metadata": {
    "tags": []
   },
   "outputs": [],
   "source": [
    "@deco\n",
    "def add(a,b):\n",
    "    print(a+b)"
   ]
  },
  {
   "cell_type": "code",
   "execution_count": 3,
   "id": "0f461701-aef0-4b7e-88c8-ff1c7e0977d9",
   "metadata": {
    "tags": []
   },
   "outputs": [
    {
     "name": "stdout",
     "output_type": "stream",
     "text": [
      "start\n",
      "10\n",
      "end\n"
     ]
    }
   ],
   "source": [
    "add(4,6)"
   ]
  },
  {
   "cell_type": "code",
   "execution_count": null,
   "id": "0820d946-8647-4373-932b-9326651d5e6f",
   "metadata": {},
   "outputs": [],
   "source": []
  }
 ],
 "metadata": {
  "kernelspec": {
   "display_name": "Python 3 (ipykernel)",
   "language": "python",
   "name": "python3"
  },
  "language_info": {
   "codemirror_mode": {
    "name": "ipython",
    "version": 3
   },
   "file_extension": ".py",
   "mimetype": "text/x-python",
   "name": "python",
   "nbconvert_exporter": "python",
   "pygments_lexer": "ipython3",
   "version": "3.10.7"
  }
 },
 "nbformat": 4,
 "nbformat_minor": 5
}
