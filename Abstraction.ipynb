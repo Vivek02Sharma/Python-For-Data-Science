{
 "cells": [
  {
   "cell_type": "markdown",
   "id": "efbf1340-7252-45a8-8953-a009fe3ca467",
   "metadata": {},
   "source": [
    "**Abstraction**"
   ]
  },
  {
   "cell_type": "code",
   "execution_count": 1,
   "id": "1877d4c0-ddfa-436c-932f-27c523b6fbeb",
   "metadata": {
    "tags": []
   },
   "outputs": [],
   "source": [
    "import abc\n",
    "\n",
    "class person:\n",
    "    @abc.abstractmethod\n",
    "    def name(self):\n",
    "        pass\n",
    "    \n",
    "    @abc.abstractmethod\n",
    "    def email_id(self):\n",
    "        pass\n",
    "    \n",
    "    @abc.abstractmethod\n",
    "    def phone_no(self):\n",
    "        pass\n",
    "    "
   ]
  },
  {
   "cell_type": "code",
   "execution_count": 2,
   "id": "47ce6b75-2059-4c75-a77d-65b0dd5d1291",
   "metadata": {
    "tags": []
   },
   "outputs": [],
   "source": [
    "class student(person):\n",
    "    def name(self):\n",
    "        print(\"Vivek Ramakant Sharma\")"
   ]
  },
  {
   "cell_type": "code",
   "execution_count": 3,
   "id": "a7d6e119-bf71-4aa2-bb40-f382e67c1f85",
   "metadata": {
    "tags": []
   },
   "outputs": [],
   "source": [
    "s = student()"
   ]
  },
  {
   "cell_type": "code",
   "execution_count": 4,
   "id": "b4d9e50a-cfcc-4aee-9114-9b0df839c59e",
   "metadata": {
    "tags": []
   },
   "outputs": [
    {
     "name": "stdout",
     "output_type": "stream",
     "text": [
      "Vivek Ramakant Sharma\n"
     ]
    }
   ],
   "source": [
    "s.name()"
   ]
  },
  {
   "cell_type": "code",
   "execution_count": 5,
   "id": "80e9749b-27ed-412c-838a-e591461c667d",
   "metadata": {
    "tags": []
   },
   "outputs": [],
   "source": [
    "class employee(person):\n",
    "    \n",
    "    def name(self,name):\n",
    "            print(\"Name : \",name)\n",
    "        \n",
    "    def email_id(self,email):\n",
    "            print(\"Email : \",email)\n",
    "    \n",
    "    def phone_no(self,mobile_no):\n",
    "            print(\"Phone Number : \",mobile_no)\n",
    "        "
   ]
  },
  {
   "cell_type": "code",
   "execution_count": 6,
   "id": "4456d92e-c020-4f32-9469-1ce16fd019c0",
   "metadata": {
    "tags": []
   },
   "outputs": [],
   "source": [
    "emp = employee()"
   ]
  },
  {
   "cell_type": "code",
   "execution_count": 7,
   "id": "ac7ce4d7-4dfb-4618-b1c2-423bac0de194",
   "metadata": {
    "tags": []
   },
   "outputs": [
    {
     "name": "stdout",
     "output_type": "stream",
     "text": [
      "Name :  Ankit Yadav\n"
     ]
    }
   ],
   "source": [
    "emp.name(\"Ankit Yadav\")"
   ]
  },
  {
   "cell_type": "code",
   "execution_count": 8,
   "id": "c4dbc4b7-4cbd-4a04-b999-b39ee543808b",
   "metadata": {
    "tags": []
   },
   "outputs": [
    {
     "name": "stdout",
     "output_type": "stream",
     "text": [
      "Email :  ankit@gmail.com\n"
     ]
    }
   ],
   "source": [
    "emp.email_id(\"ankit@gmail.com\")"
   ]
  },
  {
   "cell_type": "code",
   "execution_count": 9,
   "id": "af2aca52-2514-4074-8d05-65009dc70aef",
   "metadata": {
    "tags": []
   },
   "outputs": [
    {
     "name": "stdout",
     "output_type": "stream",
     "text": [
      "Phone Number :  8186823628\n"
     ]
    }
   ],
   "source": [
    "emp.phone_no(8186823628)"
   ]
  }
 ],
 "metadata": {
  "kernelspec": {
   "display_name": "Python 3 (ipykernel)",
   "language": "python",
   "name": "python3"
  },
  "language_info": {
   "codemirror_mode": {
    "name": "ipython",
    "version": 3
   },
   "file_extension": ".py",
   "mimetype": "text/x-python",
   "name": "python",
   "nbconvert_exporter": "python",
   "pygments_lexer": "ipython3",
   "version": "3.10.7"
  }
 },
 "nbformat": 4,
 "nbformat_minor": 5
}
